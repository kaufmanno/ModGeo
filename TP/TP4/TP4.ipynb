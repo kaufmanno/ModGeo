{
 "cells": [
  {
   "cell_type": "markdown",
   "metadata": {},
   "source": [
    "# Travaux Pratiques de Modélisation Géologique et Géostatistique\n",
    "O. Kaufmann - 2018 - 2020; O. Kaufmann & Q. Campeol, 2021-2024.\n",
    "## Séance 4"
   ]
  },
  {
   "cell_type": "markdown",
   "metadata": {},
   "source": [
    "***\n",
    "## 1. Chargement des packages"
   ]
  },
  {
   "cell_type": "markdown",
   "metadata": {},
   "source": [
    "<div class=\"alert alert-block alert-success\">\n",
    "\t<img align=\"right\" src=\"./Image_file/logo-Python3-64x64.png\" width=\"24\"/>\t<b>1.1 Imports</b>\n",
    "</div>"
   ]
  },
  {
   "cell_type": "code",
   "execution_count": 1,
   "metadata": {
    "jupyter": {
     "outputs_hidden": false,
     "source_hidden": true
    }
   },
   "outputs": [
    {
     "data": {
      "text/html": [
       "<div class=\"alert alert-block alert-danger\"> <b>Important:</b><br>Exécutez-moi pour activer les questions interactives.</div>"
      ]
     },
     "metadata": {},
     "output_type": "display_data"
    }
   ],
   "source": [
    "\n",
    "# @info: Execute me to activate interactive questions\n",
    "# ---------------------------------------------------\n",
    "\n",
    "# O. KAUFMANN, 2024. \n",
    "\n",
    "from IPython import get_ipython\n",
    "from IPython.core import magic_arguments\n",
    "from IPython.core.magic import register_cell_magic\n",
    "import ipywidgets as widgets\n",
    "from IPython.display import HTML, clear_output\n",
    "import codecs\n",
    "\n",
    "def decode_text(text):\n",
    "    return codecs.decode(text, 'hex').decode('utf')\n",
    "\n",
    "def encode_text(text):\n",
    "    return codecs.encode(codecs.encode(text,'utf8'), 'hex').decode('utf')\n",
    "    \n",
    "@magic_arguments.magic_arguments()\n",
    "@magic_arguments.argument('--prompt', default='none', help='Encoded prompt')\n",
    "@magic_arguments.argument('--answer', default='none', help='Encoded answer')\n",
    "@magic_arguments.argument('--title', default='Question', help='First line of alert block')\n",
    "@magic_arguments.argument('--button-label', default='Solution', help='Text to display on button')\n",
    "@magic_arguments.argument('--div-type', default='alert-warning', help='Type of alert block')\n",
    "    \n",
    "@register_cell_magic\n",
    "def display_prompt(line, cell):\n",
    "    args = magic_arguments.parse_argstring(display_prompt, line)\n",
    "    title = args.title\n",
    "    prompt = args.prompt\n",
    "    answer = args.answer\n",
    "    button_label = args.button_label\n",
    "    div_type = args.div_type\n",
    "    def make_block(text, title=title, label=button_label, div_type=div_type):\n",
    "        if title != 'none':\n",
    "            return HTML(f\"\"\"<div class=\"alert alert-block {div_type}\"> <b>{title}</b><br> {text} </div>\"\"\")\n",
    "        else:\n",
    "            return HTML(f\"\"\"<div class=\"alert alert-block {div_type}\"> {text} </div>\"\"\")\n",
    "    if prompt != 'none':\n",
    "        display(make_block(decode_text(prompt)))\n",
    "    toggle_button = widgets.ToggleButton(description=button_label)\n",
    "    output = widgets.Output()\n",
    "    def on_button_clicked(b):\n",
    "        with output:\n",
    "            if b['new']:  \n",
    "                display(HTML(decode_text(answer)))\n",
    "            else:\n",
    "                output.clear_output()\n",
    "    toggle_button.observe(on_button_clicked, 'value')\n",
    "    display(toggle_button)\n",
    "    display(output)\n",
    "\n",
    "HTML(\"\"\"<div class=\"alert alert-block alert-success\"> <b>Success:</b><br>Interactive questions activated.</div>\"\"\")\n"
   ]
  },
  {
   "cell_type": "code",
   "execution_count": 2,
   "metadata": {},
   "outputs": [],
   "source": [
    "%load_ext rpy2.ipython\n",
    "import numpy as np\n",
    "import pandas as pd\n",
    "import geopandas as gpd\n",
    "import matplotlib.pyplot as plt\n",
    "import rpy2"
   ]
  },
  {
   "cell_type": "markdown",
   "metadata": {},
   "source": [
    "<div class=\"alert alert-block alert-success\">\n",
    "\t<img align=\"right\" src=\"./Image_file/logo-ir-64x64.png\" width=\"24\"/>\t<b>1.2 Installer et charger les packages <i>raster</i> et <i>gstat</i> </b>\n",
    "</div>"
   ]
  },
  {
   "cell_type": "markdown",
   "metadata": {},
   "source": [
    "- Vérifiez pour chacun des <b>packages</b> requis s'il est déjà installé et, le cas écheant, quelle est la version installée?"
   ]
  },
  {
   "cell_type": "code",
   "execution_count": 3,
   "metadata": {},
   "outputs": [
    {
     "name": "stdout",
     "output_type": "stream",
     "text": [
      "   gstat   raster \n",
      " \"2.1-0\" \"3.6-26\" \n"
     ]
    },
    {
     "data": {
      "text/plain": [
       "In addition: Warning message:\n",
       "In (function (package, help, pos = 2, lib.loc = NULL, character.only = FALSE,  :\n",
       "  library ‘/usr/lib/R/site-library’ contains no packages\n"
      ]
     },
     "metadata": {},
     "output_type": "display_data"
    }
   ],
   "source": [
    "%%R\n",
    "\n",
    "list_of_packages <- installed.packages()\n",
    "list_of_packages[c('gstat', 'raster'), c('Version')]"
   ]
  },
  {
   "cell_type": "markdown",
   "metadata": {},
   "source": [
    "- Si nécessaire, installez les <b>packages</b> manquants"
   ]
  },
  {
   "cell_type": "raw",
   "metadata": {},
   "source": [
    "%%R\n",
    "install.packages(c('sp', 'gstat', 'raster'))"
   ]
  },
  {
   "cell_type": "markdown",
   "metadata": {},
   "source": [
    "- Chargez les <b>packages</b> <i>raster</i> et <i>gstat</i>"
   ]
  },
  {
   "cell_type": "markdown",
   "metadata": {},
   "source": [
    "<div class=\"alert alert-block alert-info\">\n",
    "<b>Info:</b><br>     La documentation de gstat est accessible <a href=\"http://cran.r-project.org/web/packages/gstat/gstat.pdf\">ici</a>.\n",
    "</div>"
   ]
  },
  {
   "cell_type": "code",
   "execution_count": 7,
   "metadata": {},
   "outputs": [],
   "source": []
  },
  {
   "cell_type": "markdown",
   "metadata": {},
   "source": [
    "***\n",
    "## 2. Exploration du jeu de données <i>Robena Mine (US, Penn) coal ash</i> \n",
    "### Jeu de données contenu dans le package <i>gstat</i>\n",
    "Data obtained from Gomez and Hazen (1970, Tables 19 and 20) on coal ash for the Robena Mine Property in Greene County Pennsylvania."
   ]
  },
  {
   "cell_type": "markdown",
   "metadata": {},
   "source": [
    "![Robena Mine Photo](./Image_file/Robena_Mine_01.jpg )  |  ![Robena Mine Photo](./Image_file/Robena_Mine_02.jpg)\n",
    "- | - \n",
    "Vue 1 | Vue 2"
   ]
  },
  {
   "cell_type": "markdown",
   "metadata": {},
   "source": [
    "<div class=\"alert alert-block alert-success\">\n",
    "\t<img align=\"right\" src=\"./Image_file/logo-ir-64x64.png\" width=\"24\"/>\t<b>2.1 Charger le jeu de données</b>\n",
    "</div>"
   ]
  },
  {
   "cell_type": "markdown",
   "metadata": {},
   "source": [
    "- Vérifiez ce qui est présent dans l'espace de travail (<b>workspace</b>)"
   ]
  },
  {
   "cell_type": "code",
   "execution_count": 8,
   "metadata": {},
   "outputs": [],
   "source": []
  },
  {
   "cell_type": "markdown",
   "metadata": {},
   "source": [
    "- Chargez le jeu de données <b>coalash</b> du package <code>R</code> *gstat*"
   ]
  },
  {
   "cell_type": "code",
   "execution_count": 9,
   "metadata": {},
   "outputs": [],
   "source": []
  },
  {
   "cell_type": "markdown",
   "metadata": {},
   "source": [
    "-  Essayez la commande help sur le jeu de données:"
   ]
  },
  {
   "cell_type": "code",
   "execution_count": 10,
   "metadata": {
    "scrolled": true
   },
   "outputs": [
    {
     "name": "stdout",
     "output_type": "stream",
     "text": [
      "File: /tmp/RtmpMG5NGH/Rtxt7123a198af1ba\n",
      "coalash                 package:gstat                  R Documentation\n",
      "\n",
      "\n",
      "\n",
      "Coal ash samples from a mine in Pennsylvania\n",
      "\n",
      "\n",
      "\n",
      "Description:\n",
      "\n",
      "\n",
      "\n",
      "     Data obtained from Gomez and Hazen (1970, Tables 19 and 20) on\n",
      "\n",
      "     coal ash for the Robena Mine Property in Greene County\n",
      "\n",
      "     Pennsylvania.\n",
      "\n",
      "\n",
      "\n",
      "Usage:\n",
      "\n",
      "\n",
      "\n",
      "     data(coalash)\n",
      "\n",
      "     \n",
      "\n",
      "Format:\n",
      "\n",
      "\n",
      "\n",
      "     This data frame contains the following columns:\n",
      "\n",
      "\n",
      "\n",
      "     x a numeric vector; x-coordinate; reference unknown\n",
      "\n",
      "\n",
      "\n",
      "     y a numeric vector; x-coordinate; reference unknown\n",
      "\n",
      "\n",
      "\n",
      "     coalash the target variable\n",
      "\n",
      "\n",
      "\n",
      "Note:\n",
      "\n",
      "\n",
      "\n",
      "     data are also present in package fields, as coalash.\n",
      "\n",
      "\n",
      "\n",
      "Author(s):\n",
      "\n",
      "\n",
      "\n",
      "     unknown; R version prepared by Edzer Pebesma; data obtained from\n",
      "\n",
      "     <URL: http://homepage.divms.uiowa.edu/~dzimmer/spatialstats/>,\n",
      "\n",
      "     Dale Zimmerman's course page\n",
      "\n",
      "\n",
      "\n",
      "References:\n",
      "\n",
      "\n",
      "\n",
      "     N.A.C. Cressie, 1993, Statistics for Spatial Data, Wiley.\n",
      "\n",
      "\n",
      "\n",
      "     Gomez, M. and Hazen, K. (1970). Evaluating sulfur and ash\n",
      "\n",
      "     distribution in coal seems by statistical response surface\n",
      "\n",
      "     regression analysis. U.S. Bureau of Mines Report RI 7377.\n",
      "\n",
      "\n",
      "\n",
      "     see also fields manual: <URL:\n",
      "\n",
      "     http://www.image.ucar.edu/GSP/Software/Fields/fields.manual.coalashEX.Krig.shtml>\n",
      "\n",
      "\n",
      "\n",
      "Examples:\n",
      "\n",
      "\n",
      "\n",
      "     data(coalash)\n",
      "\n",
      "     summary(coalash)\n",
      "\n",
      "     \n",
      "\n",
      "---\n"
     ]
    }
   ],
   "source": [
    "%%R\n",
    "help(coalash)"
   ]
  },
  {
   "cell_type": "markdown",
   "metadata": {},
   "source": [
    "- Vérifiez que le nouveau jeu de donnée est présent dans l'espace de travail de <code>R</code> et affichez un résumé du jeu de données"
   ]
  },
  {
   "cell_type": "code",
   "execution_count": 12,
   "metadata": {},
   "outputs": [],
   "source": []
  },
  {
   "cell_type": "markdown",
   "metadata": {},
   "source": [
    "- Déterminez quel est la classe et le mode du jeu de données dans l'espace de travail de <code>R</code>"
   ]
  },
  {
   "cell_type": "code",
   "execution_count": 9,
   "metadata": {},
   "outputs": [],
   "source": []
  },
  {
   "cell_type": "markdown",
   "metadata": {},
   "source": [
    "- Transférez le dataframe coalash dans un dataframe pandas"
   ]
  },
  {
   "cell_type": "code",
   "execution_count": 10,
   "metadata": {},
   "outputs": [],
   "source": []
  },
  {
   "cell_type": "markdown",
   "metadata": {},
   "source": [
    "<div class=\"alert alert-block alert-success\">\n",
    "\t<img align=\"right\" src=\"./Image_file/logo-Python3-64x64.png\" width=\"24\"/>\t<b>2.2 Explorer le jeu de données</b>\n",
    "</div>"
   ]
  },
  {
   "cell_type": "markdown",
   "metadata": {},
   "source": [
    "- Examinez le contenu du jeu de données "
   ]
  },
  {
   "cell_type": "code",
   "execution_count": null,
   "metadata": {},
   "outputs": [],
   "source": []
  },
  {
   "cell_type": "code",
   "execution_count": null,
   "metadata": {},
   "outputs": [
    {
     "data": {
      "text/html": [
       "<div>\n",
       "<style scoped>\n",
       "    .dataframe tbody tr th:only-of-type {\n",
       "        vertical-align: middle;\n",
       "    }\n",
       "\n",
       "    .dataframe tbody tr th {\n",
       "        vertical-align: top;\n",
       "    }\n",
       "\n",
       "    .dataframe thead th {\n",
       "        text-align: right;\n",
       "    }\n",
       "</style>\n",
       "<table border=\"1\" class=\"dataframe\">\n",
       "  <thead>\n",
       "    <tr style=\"text-align: right;\">\n",
       "      <th></th>\n",
       "      <th>x</th>\n",
       "      <th>y</th>\n",
       "      <th>coalash</th>\n",
       "    </tr>\n",
       "  </thead>\n",
       "  <tbody>\n",
       "    <tr>\n",
       "      <th>1</th>\n",
       "      <td>1</td>\n",
       "      <td>14</td>\n",
       "      <td>10.21</td>\n",
       "    </tr>\n",
       "    <tr>\n",
       "      <th>2</th>\n",
       "      <td>1</td>\n",
       "      <td>15</td>\n",
       "      <td>9.92</td>\n",
       "    </tr>\n",
       "    <tr>\n",
       "      <th>3</th>\n",
       "      <td>1</td>\n",
       "      <td>16</td>\n",
       "      <td>11.17</td>\n",
       "    </tr>\n",
       "    <tr>\n",
       "      <th>4</th>\n",
       "      <td>2</td>\n",
       "      <td>8</td>\n",
       "      <td>10.01</td>\n",
       "    </tr>\n",
       "    <tr>\n",
       "      <th>5</th>\n",
       "      <td>2</td>\n",
       "      <td>10</td>\n",
       "      <td>11.15</td>\n",
       "    </tr>\n",
       "  </tbody>\n",
       "</table>\n",
       "</div>"
      ],
      "text/plain": [
       "   x   y  coalash\n",
       "1  1  14    10.21\n",
       "2  1  15     9.92\n",
       "3  1  16    11.17\n",
       "4  2   8    10.01\n",
       "5  2  10    11.15"
      ]
     },
     "execution_count": 11,
     "metadata": {},
     "output_type": "execute_result"
    }
   ],
   "source": [
    "# Résultat attendu ci-dessous..."
   ]
  },
  {
   "cell_type": "markdown",
   "metadata": {},
   "source": [
    "~~~   x   y  coalash\n",
    "1  1  14    10.21\n",
    "2  1  15     9.92\n",
    "3  1  16    11.17\n",
    "4  2   8    10.01\n",
    "5  2  10    11.15~~~  \n"
   ]
  },
  {
   "cell_type": "markdown",
   "metadata": {},
   "source": [
    "- Faites-en un **Geodataframe** et affichez la teneur en cendres des charbons sur une carte."
   ]
  },
  {
   "cell_type": "code",
   "execution_count": 12,
   "metadata": {
    "jupyter": {
     "outputs_hidden": false,
     "source_hidden": true
    }
   },
   "outputs": [
    {
     "name": "stdout",
     "output_type": "stream",
     "text": [
      "# @info: Exécutez-moi pour avoir accès aux interactions\n"
     ]
    }
   ],
   "source": [
    "\n",
    "%%display_prompt --title=none --prompt 536920766f757320c3aa74726520626c6f7175c3a92865292c20616666696368657a20756e6520736f6c7574696f6e20656e207072657373616e7420737572206c6520626f75746f6e2063692d646573736f7573 --answer 3c636f64653e6764665f636f616c617368203d206770642e47656f446174614672616d6528636f616c6173682c2067656f6d657472793d6770642e706f696e74735f66726f6d5f787928636f616c6173685b2778275d2c20636f616c6173685b2779275d2920293c62723e0a3c62723e0a7072696e7428224e6f6d627265206427c3a96368616e74696c6c6f6e732064616e73206c65206a657520646520646f6e6ec3a96573203a222c206c656e286764665f636f616c61736829293c62723e0a646973706c6179286764665f636f616c6173682e68656164282920293c62723e0a3c62723e0a6669672c206178203d20706c742e737562706c6f74732866696773697a653d28382c3829293c62723e0a6764665f636f616c6173682e706c6f742827636f616c617368272c2061783d61782c20636d61703d276a6574272c206c6567656e643d54727565293c62723e0a61782e7365745f7469746c65282274656e65757220656e2063656e647265732064752063686172626f6e22293c62723e0a61782e7365745f796c6162656c28275927293c62723e0a61782e7365745f786c6162656c28275827293c2f636f64653e\n",
    "# @info: Exécutez-moi pour avoir accès aux interactions"
   ]
  },
  {
   "cell_type": "code",
   "execution_count": null,
   "metadata": {},
   "outputs": [],
   "source": []
  },
  {
   "cell_type": "code",
   "execution_count": null,
   "metadata": {
    "jupyter": {
     "outputs_hidden": false,
     "source_hidden": true
    }
   },
   "outputs": [
    {
     "name": "stdout",
     "output_type": "stream",
     "text": [
      "Nombre d'échantillons dans le jeu de données : 208\n"
     ]
    },
    {
     "data": {
      "text/html": [
       "<div>\n",
       "<style scoped>\n",
       "    .dataframe tbody tr th:only-of-type {\n",
       "        vertical-align: middle;\n",
       "    }\n",
       "\n",
       "    .dataframe tbody tr th {\n",
       "        vertical-align: top;\n",
       "    }\n",
       "\n",
       "    .dataframe thead th {\n",
       "        text-align: right;\n",
       "    }\n",
       "</style>\n",
       "<table border=\"1\" class=\"dataframe\">\n",
       "  <thead>\n",
       "    <tr style=\"text-align: right;\">\n",
       "      <th></th>\n",
       "      <th>x</th>\n",
       "      <th>y</th>\n",
       "      <th>coalash</th>\n",
       "      <th>geometry</th>\n",
       "    </tr>\n",
       "  </thead>\n",
       "  <tbody>\n",
       "    <tr>\n",
       "      <th>1</th>\n",
       "      <td>1</td>\n",
       "      <td>14</td>\n",
       "      <td>10.21</td>\n",
       "      <td>POINT (1.00000 14.00000)</td>\n",
       "    </tr>\n",
       "    <tr>\n",
       "      <th>2</th>\n",
       "      <td>1</td>\n",
       "      <td>15</td>\n",
       "      <td>9.92</td>\n",
       "      <td>POINT (1.00000 15.00000)</td>\n",
       "    </tr>\n",
       "    <tr>\n",
       "      <th>3</th>\n",
       "      <td>1</td>\n",
       "      <td>16</td>\n",
       "      <td>11.17</td>\n",
       "      <td>POINT (1.00000 16.00000)</td>\n",
       "    </tr>\n",
       "    <tr>\n",
       "      <th>4</th>\n",
       "      <td>2</td>\n",
       "      <td>8</td>\n",
       "      <td>10.01</td>\n",
       "      <td>POINT (2.00000 8.00000)</td>\n",
       "    </tr>\n",
       "    <tr>\n",
       "      <th>5</th>\n",
       "      <td>2</td>\n",
       "      <td>10</td>\n",
       "      <td>11.15</td>\n",
       "      <td>POINT (2.00000 10.00000)</td>\n",
       "    </tr>\n",
       "  </tbody>\n",
       "</table>\n",
       "</div>"
      ],
      "text/plain": [
       "   x   y  coalash                  geometry\n",
       "1  1  14    10.21  POINT (1.00000 14.00000)\n",
       "2  1  15     9.92  POINT (1.00000 15.00000)\n",
       "3  1  16    11.17  POINT (1.00000 16.00000)\n",
       "4  2   8    10.01   POINT (2.00000 8.00000)\n",
       "5  2  10    11.15  POINT (2.00000 10.00000)"
      ]
     },
     "metadata": {},
     "output_type": "display_data"
    },
    {
     "data": {
      "text/plain": [
       "Text(0.5, 51.0, 'X')"
      ]
     },
     "execution_count": 12,
     "metadata": {},
     "output_type": "execute_result"
    },
    {
     "data": {
      "image/png": "[encoded data removed]",
      "text/plain": [
       "<Figure size 576x576 with 2 Axes>"
      ]
     },
     "metadata": {
      "needs_background": "light"
     },
     "output_type": "display_data"
    }
   ],
   "source": [
    "# Résultat attendu ci-dessous..."
   ]
  },
  {
   "cell_type": "markdown",
   "metadata": {},
   "source": [
    "- Affichez le résumé et tracez un histogramme de la teneur en cendres des charbons"
   ]
  },
  {
   "cell_type": "code",
   "execution_count": 13,
   "metadata": {},
   "outputs": [],
   "source": []
  },
  {
   "cell_type": "code",
   "execution_count": null,
   "metadata": {},
   "outputs": [],
   "source": []
  },
  {
   "cell_type": "code",
   "execution_count": null,
   "metadata": {},
   "outputs": [
    {
     "data": {
      "image/png": "[encoded data removed]",
      "text/plain": [
       "<Figure size 432x360 with 1 Axes>"
      ]
     },
     "metadata": {
      "needs_background": "light"
     },
     "output_type": "display_data"
    }
   ],
   "source": [
    "# Résultat attendu ci-dessous..."
   ]
  },
  {
   "cell_type": "markdown",
   "metadata": {},
   "source": [
    "![png_image](data:image/png;base64,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\n",
    ")  \n",
    "~~~<Figure size 432x360 with 1 Axes>~~~  \n"
   ]
  },
  {
   "cell_type": "markdown",
   "metadata": {},
   "source": [
    "<div class=\"alert alert-block alert-success\">\n",
    "\t<img align=\"right\" src=\"./Image_file/logo-ir-64x64.png\" width=\"24\"/>\t<b>2.3 Examiner la distribution de la variable <i>coalash</i></b>\n",
    "</div>"
   ]
  },
  {
   "cell_type": "markdown",
   "metadata": {},
   "source": [
    "<div class=\"alert alert-block alert-warning\">\n",
    "<b>Question 2.3.1: </b><br>Peut-on faire l'hypothèse d'une distribution normale?\n",
    "</div>"
   ]
  },
  {
   "cell_type": "markdown",
   "metadata": {},
   "source": [
    "- Affichez un diagramme Quantile-Quantile (_Q-Q plot_) dans <code>R</code>   \n",
    "\n",
    "Quelles conclusions en tirez-vous?"
   ]
  },
  {
   "cell_type": "code",
   "execution_count": null,
   "metadata": {},
   "outputs": [],
   "source": []
  },
  {
   "cell_type": "code",
   "execution_count": null,
   "metadata": {},
   "outputs": [
    {
     "data": {
      "image/png": "[encoded data removed]"
     },
     "metadata": {},
     "output_type": "display_data"
    }
   ],
   "source": [
    "# Résultat attendu ci-dessous..."
   ]
  },
  {
   "cell_type": "markdown",
   "metadata": {},
   "source": [
    "![png_image](data:image/png;base64,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\n",
    ")  \n"
   ]
  },
  {
   "cell_type": "markdown",
   "metadata": {},
   "source": [
    "- Vérifiez à l'aide du test de Shapiro s'il est plausible que la teneur suive une loi normale"
   ]
  },
  {
   "cell_type": "markdown",
   "metadata": {},
   "source": [
    "<div class=\"alert alert-block alert-info\">\n",
    "<b>Info:</b><br>     Utilisez la fonction <code>shapiro.test</code>\n",
    "</div>"
   ]
  },
  {
   "cell_type": "code",
   "execution_count": 16,
   "metadata": {},
   "outputs": [
    {
     "name": "stdout",
     "output_type": "stream",
     "text": [
      "File: /tmp/RtmpBVH424/Rtxt53525797808e\n",
      "shapiro.test               package:stats               R Documentation\n",
      "\n",
      "\n",
      "\n",
      "_\bS_\bh_\ba_\bp_\bi_\br_\bo-_\bW_\bi_\bl_\bk _\bN_\bo_\br_\bm_\ba_\bl_\bi_\bt_\by _\bT_\be_\bs_\bt\n",
      "\n",
      "\n",
      "\n",
      "_\bD_\be_\bs_\bc_\br_\bi_\bp_\bt_\bi_\bo_\bn:\n",
      "\n",
      "\n",
      "\n",
      "     Performs the Shapiro-Wilk test of normality.\n",
      "\n",
      "\n",
      "\n",
      "_\bU_\bs_\ba_\bg_\be:\n",
      "\n",
      "\n",
      "\n",
      "     shapiro.test(x)\n",
      "\n",
      "     \n",
      "\n",
      "_\bA_\br_\bg_\bu_\bm_\be_\bn_\bt_\bs:\n",
      "\n",
      "\n",
      "\n",
      "       x: a numeric vector of data values. Missing values are allowed,\n",
      "\n",
      "          but the number of non-missing values must be between 3 and\n",
      "\n",
      "          5000.\n",
      "\n",
      "\n",
      "\n",
      "_\bV_\ba_\bl_\bu_\be:\n",
      "\n",
      "\n",
      "\n",
      "     A list with class ‘\"htest\"’ containing the following components:\n",
      "\n",
      "\n",
      "\n",
      "statistic: the value of the Shapiro-Wilk statistic.\n",
      "\n",
      "\n",
      "\n",
      " p.value: an approximate p-value for the test.  This is said in Royston\n",
      "\n",
      "          (1995) to be adequate for ‘p.value < 0.1’.\n",
      "\n",
      "\n",
      "\n",
      "  method: the character string ‘\"Shapiro-Wilk normality test\"’.\n",
      "\n",
      "\n",
      "\n",
      "data.name: a character string giving the name(s) of the data.\n",
      "\n",
      "\n",
      "\n",
      "_\bS_\bo_\bu_\br_\bc_\be:\n",
      "\n",
      "\n",
      "\n",
      "     The algorithm used is a C translation of the Fortran code\n",
      "\n",
      "     described in Royston (1995).  The calculation of the p value is\n",
      "\n",
      "     exact for n = 3, otherwise approximations are used, separately for\n",
      "\n",
      "     4 <= n <= 11 and n >= 12.\n",
      "\n",
      "\n",
      "\n",
      "_\bR_\be_\bf_\be_\br_\be_\bn_\bc_\be_\bs:\n",
      "\n",
      "\n",
      "\n",
      "     Patrick Royston (1982).  An extension of Shapiro and Wilk's W test\n",
      "\n",
      "     for normality to large samples.  _Applied Statistics_, *31*,\n",
      "\n",
      "     115-124.  doi:10.2307/2347973 <https://doi.org/10.2307/2347973>.\n",
      "\n",
      "\n",
      "\n",
      "     Patrick Royston (1982).  Algorithm AS 181: The W test for\n",
      "\n",
      "     Normality.  _Applied Statistics_, *31*, 176-180.\n",
      "\n",
      "     doi:10.2307/2347986 <https://doi.org/10.2307/2347986>.\n",
      "\n",
      "\n",
      "\n",
      "     Patrick Royston (1995).  Remark AS R94: A remark on Algorithm AS\n",
      "\n",
      "     181: The W test for normality.  _Applied Statistics_, *44*,\n",
      "\n",
      "     547-551.  doi:10.2307/2986146 <https://doi.org/10.2307/2986146>.\n",
      "\n",
      "\n",
      "\n",
      "_\bS_\be_\be _\bA_\bl_\bs_\bo:\n",
      "\n",
      "\n",
      "\n",
      "     ‘qqnorm’ for producing a normal quantile-quantile plot.\n",
      "\n",
      "\n",
      "\n",
      "_\bE_\bx_\ba_\bm_\bp_\bl_\be_\bs:\n",
      "\n",
      "\n",
      "\n",
      "     shapiro.test(rnorm(100, mean = 5, sd = 3))\n",
      "\n",
      "     shapiro.test(runif(100, min = 2, max = 4))\n",
      "\n",
      "     \n",
      "\n",
      "---\n"
     ]
    }
   ],
   "source": [
    "%%R\n",
    "\n",
    "? shapiro.test"
   ]
  },
  {
   "cell_type": "code",
   "execution_count": null,
   "metadata": {},
   "outputs": [],
   "source": []
  },
  {
   "cell_type": "code",
   "execution_count": null,
   "metadata": {},
   "outputs": [
    {
     "name": "stdout",
     "output_type": "stream",
     "text": [
      "\n",
      "\tShapiro-Wilk normality test\n",
      "\n",
      "data:  coalash$coalash\n",
      "W = 0.93761, p-value = 8.865e-08\n",
      "\n"
     ]
    }
   ],
   "source": [
    "# Résultat attendu ci-dessous..."
   ]
  },
  {
   "cell_type": "markdown",
   "metadata": {},
   "source": []
  },
  {
   "cell_type": "code",
   "execution_count": null,
   "metadata": {
    "jupyter": {
     "outputs_hidden": false,
     "source_hidden": true
    }
   },
   "outputs": [
    {
     "data": {
      "text/html": [
       "<div class=\"alert alert-block alert-warning\">\n",
       "<b>Question 2.3.2: </b><br>Quelle est votre conclusion?\n",
       "\n",
       "</div>"
      ]
     },
     "metadata": {},
     "output_type": "display_data"
    }
   ],
   "source": [
    "\n",
    "%%display_prompt --title Question 2.3.2: --prompt 5175656c6c652065737420766f74726520636f6e636c7573696f6e3f0a --answer 4c6120702d76616c756520c3a974616e7420266c743b302e30352c206f6e20706575742072656a65746572206c276879706f7468c3a873652073656c6f6e206c617175656c6c65206c27c3a96368616e74696c6c6f6e2070726f7669656e74206427756e6520646973747269627574696f6e206e6f726d616c652e\n",
    "# @info: Exécutez-moi pour afficher la question"
   ]
  },
  {
   "cell_type": "markdown",
   "metadata": {},
   "source": [
    "<div class=\"alert alert-block alert-success\">\n",
    "\t<img align=\"right\" src=\"./Image_file/logo-Python3-64x64.png\" width=\"24\"/>\t<b>2.4 Filtrer le jeu de données</b>\n",
    "</div>"
   ]
  },
  {
   "cell_type": "markdown",
   "metadata": {},
   "source": [
    "- Déterminez quel est l'échantillon qui correspond au déviant (_outlier_) le plus marqué et créez un nouveau jeu de données nommé <i>robena</i> qui exclut cet échantillon"
   ]
  },
  {
   "cell_type": "markdown",
   "metadata": {},
   "source": [
    "<div class=\"alert alert-block alert-info\">\n",
    "<b>Info:</b><br>     Utilisez la méthode <code>drop</code> de la classe DataFrame de pandas pour exclure le déviant\n",
    "</div>"
   ]
  },
  {
   "cell_type": "code",
   "execution_count": 19,
   "metadata": {},
   "outputs": [],
   "source": []
  },
  {
   "cell_type": "markdown",
   "metadata": {},
   "source": [
    "- Comparez la variance du jeu de données avant et après suppression du déviant"
   ]
  },
  {
   "cell_type": "code",
   "execution_count": null,
   "metadata": {},
   "outputs": [],
   "source": []
  },
  {
   "cell_type": "code",
   "execution_count": null,
   "metadata": {},
   "outputs": [
    {
     "name": "stdout",
     "output_type": "stream",
     "text": [
      "Variance avant suppression du déviant : 1.629%²\n",
      "Variance après suppression du déviant : 1.338%²\n"
     ]
    }
   ],
   "source": [
    "# Résultat attendu ci-dessous..."
   ]
  },
  {
   "cell_type": "markdown",
   "metadata": {},
   "source": []
  },
  {
   "cell_type": "markdown",
   "metadata": {},
   "source": [
    "<div class=\"alert alert-block alert-info\">\n",
    "<b>Info:</b><br>     Si robena est un <b>GeoDataFrame</b>, il possède une colonne <b>geometry</b> dont le type ne peut être traduit dans <code>R</code>.<br> Il faut donc supprimer cette colonne avant d'envoyer ce jeu de données dans l'espace de travail de <code>R</code> avec <code>rpy2</code>.\n",
    "</div>"
   ]
  },
  {
   "cell_type": "code",
   "execution_count": 21,
   "metadata": {
    "jupyter": {
     "outputs_hidden": false,
     "source_hidden": true
    }
   },
   "outputs": [
    {
     "name": "stdout",
     "output_type": "stream",
     "text": [
      "# @info: Exécutez-moi pour avoir accès aux interactions\n"
     ]
    }
   ],
   "source": [
    "\n",
    "%%display_prompt --title=none --prompt 536920766f757320c3aa74726520626c6f7175c3a92865292c20616666696368657a20756e6520736f6c7574696f6e20656e207072657373616e7420737572206c6520626f75746f6e2063692d646573736f7573 --answer 3c636f64653e726f62656e61203d206764665f726f62656e612e636f707928293c62723e0a726f62656e612e64726f70285b2767656f6d65747279275d2c20617869733d312c20696e706c6163653d54727565293c62723e0a726f62656e612e6865616428293c2f636f64653e\n",
    "# @info: Exécutez-moi pour avoir accès aux interactions"
   ]
  },
  {
   "cell_type": "code",
   "execution_count": null,
   "metadata": {},
   "outputs": [],
   "source": []
  },
  {
   "cell_type": "code",
   "execution_count": null,
   "metadata": {
    "jupyter": {
     "outputs_hidden": false,
     "source_hidden": true
    }
   },
   "outputs": [
    {
     "data": {
      "text/html": [
       "<div>\n",
       "<style scoped>\n",
       "    .dataframe tbody tr th:only-of-type {\n",
       "        vertical-align: middle;\n",
       "    }\n",
       "\n",
       "    .dataframe tbody tr th {\n",
       "        vertical-align: top;\n",
       "    }\n",
       "\n",
       "    .dataframe thead th {\n",
       "        text-align: right;\n",
       "    }\n",
       "</style>\n",
       "<table border=\"1\" class=\"dataframe\">\n",
       "  <thead>\n",
       "    <tr style=\"text-align: right;\">\n",
       "      <th></th>\n",
       "      <th>x</th>\n",
       "      <th>y</th>\n",
       "      <th>coalash</th>\n",
       "    </tr>\n",
       "  </thead>\n",
       "  <tbody>\n",
       "    <tr>\n",
       "      <th>1</th>\n",
       "      <td>1</td>\n",
       "      <td>14</td>\n",
       "      <td>10.21</td>\n",
       "    </tr>\n",
       "    <tr>\n",
       "      <th>2</th>\n",
       "      <td>1</td>\n",
       "      <td>15</td>\n",
       "      <td>9.92</td>\n",
       "    </tr>\n",
       "    <tr>\n",
       "      <th>3</th>\n",
       "      <td>1</td>\n",
       "      <td>16</td>\n",
       "      <td>11.17</td>\n",
       "    </tr>\n",
       "    <tr>\n",
       "      <th>4</th>\n",
       "      <td>2</td>\n",
       "      <td>8</td>\n",
       "      <td>10.01</td>\n",
       "    </tr>\n",
       "    <tr>\n",
       "      <th>5</th>\n",
       "      <td>2</td>\n",
       "      <td>10</td>\n",
       "      <td>11.15</td>\n",
       "    </tr>\n",
       "  </tbody>\n",
       "</table>\n",
       "</div>"
      ],
      "text/plain": [
       "   x   y  coalash\n",
       "1  1  14    10.21\n",
       "2  1  15     9.92\n",
       "3  1  16    11.17\n",
       "4  2   8    10.01\n",
       "5  2  10    11.15"
      ]
     },
     "execution_count": 21,
     "metadata": {},
     "output_type": "execute_result"
    }
   ],
   "source": [
    "# Résultat attendu ci-dessous..."
   ]
  },
  {
   "cell_type": "markdown",
   "metadata": {},
   "source": [
    "<div class=\"alert alert-block alert-success\">\n",
    "\t<img align=\"right\" src=\"./Image_file/logo-ir-64x64.png\" width=\"24\"/>\t<b>2.5 Examiner la distribution du jeu de données filtré</b>\n",
    "</div>"
   ]
  },
  {
   "cell_type": "markdown",
   "metadata": {},
   "source": [
    "- Vérifiez s'il est plausible que la teneur du jeu de données filtré suive une loi normale à l'aide d'un test statistique"
   ]
  },
  {
   "cell_type": "code",
   "execution_count": null,
   "metadata": {},
   "outputs": [],
   "source": []
  },
  {
   "cell_type": "code",
   "execution_count": null,
   "metadata": {},
   "outputs": [
    {
     "name": "stdout",
     "output_type": "stream",
     "text": [
      "\n",
      "\tShapiro-Wilk normality test\n",
      "\n",
      "data:  robena$coalash\n",
      "W = 0.99228, p-value = 0.3467\n",
      "\n"
     ]
    }
   ],
   "source": [
    "# Résultat attendu ci-dessous..."
   ]
  },
  {
   "cell_type": "markdown",
   "metadata": {},
   "source": []
  },
  {
   "cell_type": "code",
   "execution_count": null,
   "metadata": {
    "jupyter": {
     "outputs_hidden": false,
     "source_hidden": true
    }
   },
   "outputs": [
    {
     "data": {
      "text/html": [
       "<div class=\"alert alert-block alert-warning\">\n",
       "<b>Question 2.5.1: </b><br>Quelle est votre conclusion?\n",
       "\n",
       "</div>"
      ]
     },
     "metadata": {},
     "output_type": "display_data"
    }
   ],
   "source": [
    "\n",
    "%%display_prompt --title Question 2.5.1: --prompt 5175656c6c652065737420766f74726520636f6e636c7573696f6e3f0a --answer 4c6120702d76616c756520c3a974616e74202667743b302e30352c206f6e203c623e6e653c2f623e2070657574203c623e7061733c2f623e2072656a65746572206c276879706f7468c3a873652073656c6f6e206c617175656c6c65206c27c3a96368616e74696c6c6f6e2070726f7669656e74206427756e6520646973747269627574696f6e206e6f726d616c652e\n",
    "# @info: Exécutez-moi pour afficher la question"
   ]
  },
  {
   "cell_type": "markdown",
   "metadata": {},
   "source": [
    "<div class=\"alert alert-block alert-success\">\n",
    "\t<img align=\"right\" src=\"./Image_file/logo-Python3-64x64.png\" width=\"24\"/>\t<b>2.6 Afficher la répartition spatiale des échantillons</b>\n",
    "</div>"
   ]
  },
  {
   "cell_type": "code",
   "execution_count": null,
   "metadata": {
    "jupyter": {
     "outputs_hidden": false,
     "source_hidden": true
    }
   },
   "outputs": [
    {
     "data": {
      "text/html": [
       "<div class=\"alert alert-block alert-warning\">\n",
       "<b>Question 2.6.1: </b><br>Comment localiser le déviant?\n",
       "\n",
       "\n",
       "</div>"
      ]
     },
     "metadata": {},
     "output_type": "display_data"
    }
   ],
   "source": [
    "\n",
    "%%display_prompt --title Question 2.6.1: --prompt 436f6d6d656e74206c6f63616c69736572206c652064c3a97669616e743f0a0a --answer 536f6c7574696f6e2073696d706c65203a20616666696368657a20756e65206361727465206fc3b920766f7573207375706572706f736572657a206175206a657520646520646f6e6ec3a9657320696e697469616c206c65206a657520646520646f6e6ec3a965732066696c7472c3a920656e207574696c6973616e742064657320636f756c657572732064696666c3a972656e7465732e\n",
    "# @info: Exécutez-moi pour afficher la question"
   ]
  },
  {
   "cell_type": "code",
   "execution_count": null,
   "metadata": {},
   "outputs": [],
   "source": []
  },
  {
   "cell_type": "code",
   "execution_count": null,
   "metadata": {},
   "outputs": [
    {
     "data": {
      "text/plain": [
       "<matplotlib.legend.Legend at 0x7f5572bb5250>"
      ]
     },
     "execution_count": 23,
     "metadata": {},
     "output_type": "execute_result"
    },
    {
     "data": {
      "image/png": "[encoded data removed]",
      "text/plain": [
       "<Figure size 432x576 with 1 Axes>"
      ]
     },
     "metadata": {
      "needs_background": "light"
     },
     "output_type": "display_data"
    }
   ],
   "source": [
    "# Résultat attendu ci-dessous..."
   ]
  },
  {
   "cell_type": "markdown",
   "metadata": {},
   "source": [
    "~~~<matplotlib.legend.Legend at 0x7f5572bb5250>~~~  \n",
    "![png_image](data:image/png;base64,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\n",
    ")  \n",
    "~~~<Figure size 432x576 with 1 Axes>~~~  \n"
   ]
  },
  {
   "cell_type": "markdown",
   "metadata": {},
   "source": [
    "- Affichez des symboles dont la taille est proportionnelle à la variable <b>coalash</b>. <br> Commencez par écrire une fonction nommée *scale_symbols* pour déterminer la taille du symbole en fonction de la valeur de la variable."
   ]
  },
  {
   "cell_type": "code",
   "execution_count": 24,
   "metadata": {
    "jupyter": {
     "outputs_hidden": false,
     "source_hidden": true
    }
   },
   "outputs": [
    {
     "name": "stdout",
     "output_type": "stream",
     "text": [
      "# @info: Exécutez-moi pour avoir accès aux interactions\n"
     ]
    }
   ],
   "source": [
    "\n",
    "%%display_prompt --title=none --prompt 536920766f757320c3aa74726520626c6f7175c3a92865292c20616666696368657a20756e6520736f6c7574696f6e20656e207072657373616e7420737572206c6520626f75746f6e2063692d646573736f7573 --answer 3c636f64653e406b6565705f6f7574706f75743c62723e0a646566207363616c655f73796d626f6c732878293a3c62723e0a2020202072657475726e2035302a782a2a332f6e702e6d65616e2878292a2a333c62723e0a78203d206e702e6172616e676528372c31352c202e31293c62723e0a706c742e706c6f7428782c207363616c655f73796d626f6c732878292c20272d7227293c2f636f64653e\n",
    "# @info: Exécutez-moi pour avoir accès aux interactions"
   ]
  },
  {
   "cell_type": "code",
   "execution_count": 25,
   "metadata": {},
   "outputs": [],
   "source": []
  },
  {
   "cell_type": "markdown",
   "metadata": {},
   "source": [
    "***\n",
    "## 3. Préparation des outils pour la représentation des résultats sur carte"
   ]
  },
  {
   "cell_type": "markdown",
   "metadata": {},
   "source": [
    "<div class=\"alert alert-block alert-success\">\n",
    "\t<img align=\"right\" src=\"./Image_file/logo-Python3-64x64.png\" width=\"24\"/>\t<b>3.1 Créer une grille pour les prédictions</b>\n",
    "</div>"
   ]
  },
  {
   "cell_type": "code",
   "execution_count": 26,
   "metadata": {},
   "outputs": [],
   "source": [
    "import rasterio as rio\n",
    "from rasterio import Affine, features\n",
    "from rasterio.plot import show\n",
    "from rasterio.mask import mask"
   ]
  },
  {
   "cell_type": "markdown",
   "metadata": {},
   "source": [
    "- Construisez une aire englobant les points d'échantillonnage à l'aide un buffer de rayon 2 autour de l'enveloppe convexe des points d'échantillonnage"
   ]
  },
  {
   "cell_type": "markdown",
   "metadata": {},
   "source": [
    "<div class=\"alert alert-block alert-info\">\n",
    "<b>Info:</b><br>     Décomposez le problème en plusieurs étapes. Commencez par constuire une <b>géométrie</b> réunissant les <b>géoséries</b> des points d'échantillonage du <b>GeoDataFrame</b>. Construisez ensuite <b>l'enveloppe convexe</b> de cette géométrie et appliquez-y un <b>buffer</b> de rayon souhaité.\n",
    "</div>"
   ]
  },
  {
   "cell_type": "code",
   "execution_count": 27,
   "metadata": {
    "jupyter": {
     "outputs_hidden": false,
     "source_hidden": true
    }
   },
   "outputs": [
    {
     "name": "stdout",
     "output_type": "stream",
     "text": [
      "# @info: Exécutez-moi pour avoir accès aux interactions\n"
     ]
    }
   ],
   "source": [
    "\n",
    "%%display_prompt --title=none --prompt 536920766f757320c3aa74726520626c6f7175c3a92865292c20616666696368657a20756e6520736f6c7574696f6e20656e207072657373616e7420737572206c6520626f75746f6e2063692d646573736f7573 --answer 3c636f64653e635f68756c6c203d206764665f636f616c6173682e67656f6d657472792e756e6172795f756e696f6e2e636f6e7665785f68756c6c2e6275666665722832293c62723e0a635f68756c6c3c2f636f64653e\n",
    "# @info: Exécutez-moi pour avoir accès aux interactions"
   ]
  },
  {
   "cell_type": "code",
   "execution_count": null,
   "metadata": {},
   "outputs": [],
   "source": []
  },
  {
   "cell_type": "code",
   "execution_count": null,
   "metadata": {
    "jupyter": {
     "outputs_hidden": false,
     "source_hidden": true
    }
   },
   "outputs": [
    {
     "data": {
      "image/svg+xml": [
       "<svg xmlns=\"http://www.w3.org/2000/svg\" xmlns:xlink=\"http://www.w3.org/1999/xlink\" width=\"100.0\" height=\"100.0\" viewBox=\"-2.04 -2.04 21.078310305642173 28.08\" preserveAspectRatio=\"xMinYMin meet\"><g transform=\"matrix(1,0,0,-1,0,24.0)\"><path fill-rule=\"evenodd\" fill=\"#66cc99\" stroke=\"#555555\" stroke-width=\"0.5616\" opacity=\"0.6\" d=\"M 4.0,-1.0 L 3.808134629496542,-0.9907756477317002 L 3.618039092758695,-0.9631876796015706 L 3.4314668979819616,-0.9174905767460102 L 3.2501390528144314,-0.8541058653393991 L 3.0757281891759827,-0.773618228288177 L 2.909843134312233,-0.6767701119097467 L 2.754014070405293,-0.5644548773461042 L 2.60967841963428,-0.4377085598859618 L 2.47816758488678,-0.2977003122102819 L 2.3606946684296006,-0.1457216197160911 L 2.2583432818261295,0.016825612599767226 L 2.1720575503215445,0.18844199180617582 L 2.1026334038989725,0.3675444679663241 L 1.1026334038989725,3.367544467966324 L 1.0597149997093362,3.514928749927334 L 0.05971499970933625,7.514928749927334 L 0.027212152335712503,7.671202025389285 L -0.9727878476642875,13.671202025389285 L -0.993185352059434,13.83503893691022 L -1.0,14.0 L -1.0,16.0 L -0.9915550584197714,16.183598609152195 L -0.9662915507173795,16.365646738775887 L -0.9244228257394826,16.544607003051617 L -0.866302462422557,16.718968093002395 L -0.7924212838394369,16.887257539409717 L -0.7034032122271345,17.048054147730106 L -0.6000000000000001,17.2 L 2.4,21.2 L 2.585786437626905,21.414213562373096 L 3.585786437626905,22.414213562373096 L 3.74529626969811,22.55747184538486 L 3.9192246307458327,22.682832315239256 L 4.105572809000084,22.788854381999833 L 6.105572809000084,23.788854381999833 L 6.367544467966324,23.897366596101026 L 9.367544467966324,24.897366596101026 L 9.57428145083348,24.954165734244555 L 9.785910612697764,24.988508419455286 L 10.0,25.0 L 14.0,25.0 L 14.191865370503459,24.9907756477317 L 14.381960907241305,24.96318767960157 L 14.568533102018039,24.91749057674601 L 14.749860947185569,24.8541058653394 L 14.924271810824019,24.773618228288175 L 15.090156865687767,24.676770111909747 L 15.245985929594708,24.564454877346105 L 15.390321580365722,24.437708559885962 L 15.521832415113222,24.29770031221028 L 15.6393053315704,24.145721619716088 L 15.741656718173871,23.98317438740023 L 15.827942449678456,23.81155800819382 L 15.897366596101028,23.632455532033674 L 17.897366596101026,17.632455532033674 L 17.948148861579845,17.452455537180345 L 17.98189513186651,17.268498950247178 L 17.998310305642175,17.08219441808471 L 17.997250836986385,16.89517111964164 L 17.9787259906444,16.709064519268715 L 17.942897761009686,16.525502065058706 L 17.890079455530067,16.346088957286106 L 17.82073295492521,16.172394111397633 L 12.820732954925209,5.172394111397632 L 12.788854381999831,5.105572809000084 L 11.788854381999831,3.1055728090000843 L 11.682832315239256,2.9192246307458323 L 11.55747184538486,2.745296269698109 L 11.414213562373096,2.585786437626905 L 9.414213562373096,0.5857864376269051 L 9.254703730301891,0.44252815461514117 L 9.08077536925417,0.31716768476074364 L 8.894427190999917,0.2111456180001683 L 6.894427190999916,-0.7888543819998317 L 6.724942474495178,-0.8639899164622133 L 6.549228614082087,-0.9231089229353262 L 6.36879544945374,-0.9657034151830264 L 6.1851933714174825,-0.9914073955830902 L 6.0,-1.0 L 4.0,-1.0 z\" /></g></svg>"
      ],
      "text/plain": [
       "<shapely.geometry.polygon.Polygon at 0x7f5572b51c70>"
      ]
     },
     "execution_count": 27,
     "metadata": {},
     "output_type": "execute_result"
    }
   ],
   "source": [
    "# Résultat attendu ci-dessous..."
   ]
  },
  {
   "cell_type": "markdown",
   "metadata": {},
   "source": [
    "- Recherchez une solution alternative basée sur l'utilisation d'un *buffer* de rayon 2 autour des points d'échantillonnage"
   ]
  },
  {
   "cell_type": "code",
   "execution_count": null,
   "metadata": {},
   "outputs": [],
   "source": []
  },
  {
   "cell_type": "code",
   "execution_count": null,
   "metadata": {},
   "outputs": [
    {
     "data": {
      "image/svg+xml": [
       "<svg xmlns=\"http://www.w3.org/2000/svg\" xmlns:xlink=\"http://www.w3.org/1999/xlink\" width=\"100.0\" height=\"100.0\" viewBox=\"-2.04 -2.04 21.08 28.08\" preserveAspectRatio=\"xMinYMin meet\"><g transform=\"matrix(1,0,0,-1,0,24.0)\"><path fill-rule=\"evenodd\" fill=\"#66cc99\" stroke=\"#555555\" stroke-width=\"0.5616\" opacity=\"0.6\" d=\"M -0.934062244159934,14.5 L -0.9615705608064598,14.609819355967737 L -0.9903694533443932,14.803965719340873 L -1.0,14.999999999999993 L -0.9903694533443943,15.196034280659115 L -0.9615705608064622,15.390180644032249 L -0.934062244159934,15.5 L -0.9615705608064598,15.609819355967737 L -0.9903694533443932,15.803965719340873 L -1.0,15.999999999999993 L -0.9903694533443943,16.196034280659116 L -0.9615705608064622,16.39018064403225 L -0.9138806714644196,16.580569354508917 L -0.8477590650225764,16.765366864730172 L -0.7638425286967134,16.94279347365199 L -0.6629392246050949,17.1111404660392 L -0.5460209067254786,17.268786568327286 L -0.4142135623731009,17.41421356237309 L -0.2687865683272972,17.54602090672547 L -0.11114046603921168,17.662939224605086 L 0.05720652634799639,17.763842528696706 L 0.23463313526981278,17.847759065022572 L 0.4194306454910667,17.913880671464415 L 0.609819355967734,17.961570560806457 L 0.8039657193408685,17.990369453344393 L 0.9999999999999908,18.0 L 1.1960342806591113,17.990369453344396 L 1.2590690473781065,17.981019128973884 L 1.337060775394905,18.1111404660392 L 1.4539790932745214,18.268786568327286 L 1.585786437626899,18.41421356237309 L 1.7312134316727028,18.54602090672547 L 1.8888595339607883,18.662939224605086 L 2.0189808710261157,18.740930952621895 L 2.0096305466556066,18.803965719340873 L 2.0,18.999999999999993 L 2.0096305466556057,19.196034280659116 L 2.038429439193538,19.39018064403225 L 2.065937755840066,19.5 L 2.03842943919354,19.609819355967737 L 2.0096305466556066,19.803965719340873 L 2.0,19.999999999999993 L 2.0096305466556057,20.196034280659116 L 2.038429439193538,20.39018064403225 L 2.08611932853558,20.580569354508917 L 2.1522409349774234,20.765366864730172 L 2.2361574713032866,20.94279347365199 L 2.337060775394905,21.1111404660392 L 2.4539790932745214,21.268786568327286 L 2.585786437626899,21.41421356237309 L 2.731213431672703,21.54602090672547 L 2.8888595339607885,21.662939224605086 L 3.057206526347996,21.763842528696706 L 3.178696834795469,21.821303165204533 L 3.2361574713032866,21.94279347365199 L 3.337060775394905,22.1111404660392 L 3.4539790932745214,22.268786568327286 L 3.585786437626899,22.41421356237309 L 3.731213431672703,22.54602090672547 L 3.8888595339607885,22.662939224605086 L 4.057206526347996,22.763842528696706 L 4.234633135269813,22.847759065022572 L 4.419430645491067,22.913880671464415 L 4.609819355967734,22.961570560806457 L 4.8039657193408685,22.990369453344393 L 4.999999999999991,23.0 L 5.196034280659111,22.990369453344396 L 5.259069047378106,22.981019128973884 L 5.337060775394905,23.1111404660392 L 5.453979093274521,23.268786568327286 L 5.585786437626899,23.41421356237309 L 5.731213431672703,23.54602090672547 L 5.8888595339607885,23.662939224605086 L 6.057206526347996,23.763842528696706 L 6.234633135269813,23.847759065022572 L 6.419430645491067,23.913880671464415 L 6.609819355967734,23.961570560806457 L 6.8039657193408685,23.990369453344393 L 6.999999999999991,24.0 L 7.196034280659111,23.990369453344396 L 7.390180644032246,23.961570560806464 L 7.500000000000001,23.934062244159932 L 7.609819355967734,23.961570560806457 L 7.8039657193408685,23.990369453344393 L 7.999999999999991,24.0 L 8.196034280659111,23.990369453344396 L 8.259069047378107,23.981019128973884 L 8.337060775394905,24.1111404660392 L 8.453979093274521,24.268786568327286 L 8.585786437626899,24.41421356237309 L 8.731213431672703,24.54602090672547 L 8.888859533960789,24.662939224605086 L 9.057206526347997,24.763842528696706 L 9.234633135269814,24.847759065022572 L 9.419430645491067,24.913880671464415 L 9.609819355967733,24.961570560806457 L 9.80396571934087,24.990369453344393 L 9.999999999999991,25.0 L 10.196034280659111,24.990369453344396 L 10.390180644032245,24.961570560806464 L 10.5,24.934062244159932 L 10.609819355967733,24.961570560806457 L 10.80396571934087,24.990369453344393 L 10.999999999999991,25.0 L 11.196034280659111,24.990369453344396 L 11.390180644032245,24.961570560806464 L 11.5,24.934062244159932 L 11.609819355967733,24.961570560806457 L 11.80396571934087,24.990369453344393 L 11.999999999999991,25.0 L 12.196034280659111,24.990369453344396 L 12.390180644032245,24.961570560806464 L 12.5,24.934062244159932 L 12.609819355967733,24.961570560806457 L 12.80396571934087,24.990369453344393 L 12.999999999999991,25.0 L 13.196034280659111,24.990369453344396 L 13.390180644032245,24.961570560806464 L 13.5,24.934062244159932 L 13.609819355967733,24.961570560806457 L 13.80396571934087,24.990369453344393 L 13.999999999999991,25.0 L 14.196034280659111,24.990369453344396 L 14.390180644032245,24.961570560806464 L 14.580569354508915,24.91388067146442 L 14.76536686473017,24.84775906502258 L 14.942793473651985,24.763842528696713 L 15.111140466039195,24.662939224605097 L 15.268786568327283,24.54602090672548 L 15.414213562373087,24.414213562373103 L 15.546020906725467,24.2687865683273 L 15.662939224605083,24.111140466039213 L 15.763842528696705,23.942793473652006 L 15.847759065022569,23.76536686473019 L 15.913880671464414,23.58056935450894 L 15.961570560806457,23.39018064403227 L 15.990369453344393,23.196034280659134 L 16.0,23.0 L 15.990369453344394,22.80396571934088 L 15.96157056080646,22.609819355967744 L 15.913880671464417,22.419430645491076 L 15.847759065022574,22.23463313526982 L 15.76384252869671,22.057206526348004 L 15.72955425634765,22.0 L 15.763842528696705,21.942793473652006 L 15.847759065022569,21.76536686473019 L 15.913880671464414,21.58056935450894 L 15.961570560806457,21.39018064403227 L 15.990369453344393,21.196034280659134 L 16.0,21.0 L 15.990369453344394,20.80396571934088 L 15.981019128973884,20.74093095262189 L 16.111140466039195,20.662939224605097 L 16.268786568327283,20.54602090672548 L 16.41421356237309,20.414213562373103 L 16.546020906725467,20.2687865683273 L 16.662939224605083,20.111140466039213 L 16.763842528696706,19.942793473652006 L 16.84775906502257,19.76536686473019 L 16.913880671464415,19.58056935450894 L 16.961570560806457,19.39018064403227 L 16.990369453344393,19.196034280659134 L 17.0,19.0 L 16.990369453344393,18.80396571934088 L 16.981019128973884,18.740930952621895 L 17.111140466039195,18.662939224605097 L 17.268786568327283,18.54602090672548 L 17.41421356237309,18.414213562373103 L 17.546020906725467,18.2687865683273 L 17.662939224605083,18.111140466039213 L 17.763842528696706,17.942793473652006 L 17.84775906502257,17.76536686473019 L 17.913880671464415,17.58056935450894 L 17.961570560806457,17.39018064403227 L 17.990369453344393,17.196034280659134 L 18.0,17.0 L 17.990369453344393,16.80396571934088 L 17.96157056080646,16.609819355967744 L 17.91388067146442,16.419430645491076 L 17.847759065022572,16.23463313526982 L 17.76384252869671,16.057206526348004 L 17.66293922460509,15.888859533960797 L 17.546020906725474,15.73121343167271 L 17.414213562373096,15.585786437626906 L 17.268786568327293,15.453979093274528 L 17.111140466039206,15.33706077539491 L 16.942793473651996,15.23615747130329 L 16.765366864730183,15.152240934977428 L 16.580569354508928,15.086119328535583 L 16.39018064403226,15.03842943919354 L 16.196034280659124,15.009630546655607 L 16.000000000000004,15.0 L 15.803965719340882,15.009630546655606 L 15.609819355967748,15.03842943919354 L 15.500000000000002,15.065937755840066 L 15.39018064403226,15.03842943919354 L 15.196034280659124,15.009630546655607 L 15.000000000000004,15.0 L 14.803965719340882,15.009630546655606 L 14.609819355967748,15.03842943919354 L 14.41943064549108,15.086119328535581 L 14.234633135269824,15.152240934977424 L 14.057206526348008,15.236157471303288 L 14.0,15.27044574365235 L 13.942793473651998,15.23615747130329 L 13.765366864730181,15.152240934977428 L 13.580569354508928,15.086119328535583 L 13.39018064403226,15.03842943919354 L 13.196034280659124,15.009630546655607 L 13.000000000000004,15.0 L 12.803965719340882,15.009630546655606 L 12.740930952621893,15.018980871026116 L 12.662939224605092,14.888859533960797 L 12.660330266287529,14.88534176089277 L 12.76536686473017,14.847759065022577 L 12.942793473651985,14.763842528696715 L 13.111140466039195,14.662939224605097 L 13.268786568327283,14.54602090672548 L 13.414213562373087,14.414213562373103 L 13.546020906725467,14.2687865683273 L 13.662939224605083,14.111140466039215 L 13.763842528696705,13.942793473652005 L 13.847759065022569,13.76536686473019 L 13.913880671464414,13.580569354508937 L 13.961570560806457,13.39018064403227 L 13.990369453344393,13.196034280659134 L 14.0,13.0 L 13.990369453344394,12.803965719340878 L 13.96157056080646,12.609819355967744 L 13.934062244159934,12.5 L 13.961570560806457,12.39018064403227 L 13.990369453344393,12.196034280659134 L 14.0,12.0 L 13.990369453344394,11.803965719340878 L 13.96157056080646,11.609819355967744 L 13.934062244159934,11.5 L 13.961570560806457,11.39018064403227 L 13.990369453344393,11.196034280659134 L 14.0,11.0 L 13.990369453344394,10.803965719340878 L 13.96157056080646,10.609819355967744 L 13.913880671464417,10.419430645491076 L 13.847759065022574,10.23463313526982 L 13.76384252869671,10.057206526348006 L 13.662939224605092,9.888859533960797 L 13.546020906725476,9.73121343167271 L 13.414213562373096,9.585786437626906 L 13.268786568327293,9.453979093274528 L 13.111140466039206,9.33706077539491 L 12.981019128973884,9.259069047378105 L 12.990369453344393,9.196034280659134 L 13.0,9.0 L 12.990369453344394,8.803965719340878 L 12.96157056080646,8.609819355967744 L 12.934062244159934,8.5 L 12.961570560806457,8.39018064403227 L 12.990369453344393,8.196034280659134 L 13.0,8.0 L 12.990369453344394,7.803965719340879 L 12.96157056080646,7.609819355967744 L 12.934062244159934,7.499999999999999 L 12.961570560806457,7.390180644032269 L 12.990369453344393,7.196034280659133 L 13.0,7.0 L 12.990369453344394,6.803965719340879 L 12.96157056080646,6.609819355967744 L 12.934062244159934,6.499999999999999 L 12.961570560806457,6.390180644032269 L 12.990369453344393,6.196034280659133 L 13.0,6.0 L 12.990369453344394,5.803965719340879 L 12.96157056080646,5.609819355967744 L 12.913880671464417,5.419430645491076 L 12.847759065022574,5.234633135269821 L 12.76384252869671,5.057206526348006 L 12.662939224605092,4.8888595339607965 L 12.546020906725476,4.73121343167271 L 12.414213562373096,4.585786437626906 L 12.268786568327293,4.453979093274527 L 12.111140466039206,4.33706077539491 L 11.981019128973884,4.259069047378105 L 11.990369453344393,4.196034280659133 L 12.0,4.0 L 11.990369453344394,3.803965719340879 L 11.96157056080646,3.609819355967744 L 11.913880671464417,3.419430645491076 L 11.847759065022574,3.234633135269821 L 11.76384252869671,3.0572065263480055 L 11.662939224605092,2.8888595339607965 L 11.546020906725476,2.7312134316727104 L 11.414213562373096,2.585786437626906 L 11.268786568327293,2.453979093274527 L 11.111140466039206,2.3370607753949106 L 10.942793473651998,2.236157471303291 L 10.765366864730181,2.1522409349774274 L 10.580569354508928,2.086119328535583 L 10.39018064403226,2.0384294391935396 L 10.196034280659124,2.0096305466556066 L 10.000000000000004,2.0 L 10.0,2.0 L 9.990369453344394,1.803965719340879 L 9.96157056080646,1.6098193559677438 L 9.913880671464417,1.419430645491076 L 9.847759065022574,1.2346331352698212 L 9.76384252869671,1.0572065263480055 L 9.662939224605092,0.8888595339607965 L 9.546020906725476,0.7312134316727101 L 9.414213562373096,0.5857864376269062 L 9.268786568327293,0.45397909327452735 L 9.111140466039206,0.33706077539491064 L 8.942793473651998,0.236157471303291 L 8.765366864730181,0.1522409349774274 L 8.580569354508928,0.08611932853558302 L 8.39018064403226,0.03842943919353958 L 8.196034280659124,0.009630546655606587 L 8.000000000000004,0.0 L 7.803965719340882,0.00963054665560592 L 7.740930952621895,0.018980871026116147 L 7.662939224605092,-0.11114046603920347 L 7.546020906725475,-0.26878656832728987 L 7.414213562373096,-0.4142135623730938 L 7.268786568327292,-0.5460209067254727 L 7.111140466039206,-0.6629392246050894 L 6.942793473651998,-0.763842528696709 L 6.765366864730182,-0.8477590650225726 L 6.580569354508928,-0.913880671464417 L 6.3901806440322595,-0.9615705608064604 L 6.196034280659124,-0.9903694533443934 L 6.0000000000000036,-1.0 L 5.803965719340882,-0.9903694533443941 L 5.609819355967747,-0.9615705608064615 L 5.5,-0.934062244159934 L 5.3901806440322595,-0.9615705608064604 L 5.196034280659124,-0.9903694533443934 L 5.0000000000000036,-1.0 L 4.803965719340882,-0.9903694533443941 L 4.609819355967747,-0.9615705608064615 L 4.5,-0.934062244159934 L 4.3901806440322595,-0.9615705608064604 L 4.196034280659124,-0.9903694533443934 L 4.0000000000000036,-1.0 L 3.8039657193408822,-0.9903694533443941 L 3.609819355967747,-0.9615705608064615 L 3.419430645491079,-0.9138806714644188 L 3.2346331352698243,-0.847759065022575 L 3.0572065263480086,-0.7638425286967121 L 2.888859533960799,-0.6629392246050927 L 2.731213431672713,-0.5460209067254771 L 2.585786437626908,-0.41421356237309825 L 2.4539790932745293,-0.2687865683272952 L 2.3370607753949124,-0.11114046603920857 L 2.236157471303293,0.05720652634799961 L 2.1522409349774287,0.23463313526981533 L 2.086119328535584,0.41943064549106934 L 2.03842943919354,0.6098193559677376 L 2.0096305466556066,0.8039657193408721 L 2.0,0.9999999999999936 L 2.0096305466556057,1.196034280659115 L 2.038429439193538,1.3901806440322497 L 2.065937755840066,1.5000000000000002 L 2.03842943919354,1.6098193559677376 L 2.0096305466556066,1.8039657193408722 L 2.0,1.9999999999999936 L 2.0096305466556057,2.196034280659115 L 2.018980871026116,2.2590690473781057 L 1.888859533960799,2.3370607753949075 L 1.7312134316727128,2.4539790932745227 L 1.5857864376269082,2.5857864376269015 L 1.4539790932745293,2.731213431672705 L 1.3370607753949124,2.888859533960791 L 1.2361574713032926,3.0572065263479997 L 1.1522409349774285,3.2346331352698154 L 1.0861193285355841,3.4194306454910692 L 1.0384294391935402,3.6098193559677374 L 1.0096305466556068,3.803965719340872 L 1.0,3.9999999999999933 L 1.0096305466556057,4.196034280659115 L 1.0384294391935378,4.39018064403225 L 1.065937755840066,4.500000000000001 L 1.0384294391935402,4.609819355967738 L 1.0096305466556068,4.803965719340872 L 1.0,4.999999999999994 L 1.0096305466556057,5.196034280659115 L 1.0384294391935378,5.39018064403225 L 1.065937755840066,5.500000000000001 L 1.0384294391935402,5.609819355967738 L 1.0096305466556068,5.803965719340872 L 1.0,5.999999999999994 L 1.0096305466556057,6.196034280659115 L 1.0189808710261163,6.259069047378106 L 0.888859533960799,6.3370607753949075 L 0.7312134316727128,6.453979093274523 L 0.5857864376269082,6.5857864376269015 L 0.45397909327452934,6.731213431672705 L 0.3370607753949124,6.888859533960791 L 0.23615747130329257,7.057206526348 L 0.15224093497742852,7.234633135269815 L 0.08611932853558413,7.41943064549107 L 0.03842943919354025,7.609819355967738 L 0.009630546655606809,7.803965719340872 L 0.0,7.999999999999994 L 0.009630546655605698,8.196034280659115 L 0.03842943919353781,8.390180644032249 L 0.08611932853558035,8.580569354508919 L 0.15224093497742364,8.765366864730172 L 0.23615747130328657,8.942793473651989 L 0.2704457436523512,9.0 L 0.23615747130329257,9.057206526347999 L 0.15224093497742852,9.234633135269815 L 0.08611932853558413,9.419430645491069 L 0.03842943919354025,9.609819355967737 L 0.009630546655606809,9.803965719340873 L 0.0,9.999999999999993 L 0.009630546655605698,10.196034280659115 L 0.03842943919353781,10.390180644032249 L 0.06593775584006605,10.5 L 0.03842943919354025,10.609819355967737 L 0.009630546655606809,10.803965719340873 L 0.0,10.999999999999993 L 0.009630546655605698,11.196034280659115 L 0.03842943919353781,11.390180644032249 L 0.06593775584006605,11.5 L 0.03842943919354025,11.609819355967737 L 0.009630546655606809,11.803965719340873 L 0.0,11.999999999999993 L 0.009630546655605698,12.196034280659115 L 0.018980871026116418,12.259069047378105 L -0.11114046603920102,12.337060775394907 L -0.2687865683272872,12.453979093274523 L -0.4142135623730918,12.585786437626902 L -0.5460209067254707,12.731213431672705 L -0.6629392246050876,12.888859533960792 L -0.7638425286967074,13.057206526347999 L -0.8477590650225715,13.234633135269815 L -0.9138806714644159,13.419430645491069 L -0.9615705608064598,13.609819355967737 L -0.9903694533443932,13.803965719340873 L -1.0,13.999999999999993 L -0.9903694533443943,14.196034280659115 L -0.9615705608064622,14.390180644032249 L -0.934062244159934,14.5 z\" /></g></svg>"
      ],
      "text/plain": [
       "<shapely.geometry.polygon.Polygon at 0x7f5572e4e3d0>"
      ]
     },
     "execution_count": 28,
     "metadata": {},
     "output_type": "execute_result"
    }
   ],
   "source": [
    "# Résultat attendu ci-dessous..."
   ]
  },
  {
   "cell_type": "markdown",
   "metadata": {},
   "source": [
    "~~~<shapely.geometry.polygon.Polygon at 0x7f5572e4e3d0>~~~  \n"
   ]
  },
  {
   "cell_type": "markdown",
   "metadata": {},
   "source": [
    "- Construire la grille d'estimation suppose de choisir une résolution, fixez le nombre de pixels par unité de longueur à 10"
   ]
  },
  {
   "cell_type": "code",
   "execution_count": 29,
   "metadata": {
    "jupyter": {
     "outputs_hidden": false,
     "source_hidden": true
    }
   },
   "outputs": [
    {
     "name": "stdout",
     "output_type": "stream",
     "text": [
      "# @info: Exécutez-moi pour avoir accès aux interactions\n"
     ]
    }
   ],
   "source": [
    "\n",
    "%%display_prompt --title=none --prompt 536920766f757320c3aa74726520626c6f7175c3a92865292c20616666696368657a20756e6520736f6c7574696f6e20656e207072657373616e7420737572206c6520626f75746f6e2063692d646573736f7573 --answer 3c636f64653e657374696d6174696f6e5f7a6f6e65203d20635f68756c6c3c62723e0a706978656c735f7065725f756e69745f6c656e677468203d2031303c2f636f64653e\n",
    "# @info: Exécutez-moi pour avoir accès aux interactions"
   ]
  },
  {
   "cell_type": "markdown",
   "metadata": {},
   "source": [
    "- Déterminez le nombre de lignes et colonnes nécessaires pour la grille "
   ]
  },
  {
   "cell_type": "code",
   "execution_count": 30,
   "metadata": {
    "jupyter": {
     "outputs_hidden": false,
     "source_hidden": true
    }
   },
   "outputs": [
    {
     "name": "stdout",
     "output_type": "stream",
     "text": [
      "# @info: Exécutez-moi pour avoir accès aux interactions\n"
     ]
    }
   ],
   "source": [
    "\n",
    "%%display_prompt --title=none --prompt 536920766f757320c3aa74726520626c6f7175c3a92865292c20616666696368657a20756e6520736f6c7574696f6e20656e207072657373616e7420737572206c6520626f75746f6e2063692d646573736f7573 --answer 3c636f64653e6d696e782c206d696e792c206d6178782c206d617879203d20657374696d6174696f6e5f7a6f6e652e626f756e64733c62723e0a6e636f6c73203d20696e7428286d6178782d6d696e78292a706978656c735f7065725f756e69745f6c656e677468293c62723e0a6e726f7773203d20696e7428286d6178792d6d696e79292a706978656c735f7065725f756e69745f6c656e677468293c2f636f64653e\n",
    "# @info: Exécutez-moi pour avoir accès aux interactions"
   ]
  },
  {
   "cell_type": "markdown",
   "metadata": {},
   "source": [
    "- À partir des informations obtenues dans les deux cellules ci-dessus, déterminez la transformation affine pour passer de l'espace de la grille à l'espace des coordonnées du jeu de données"
   ]
  },
  {
   "cell_type": "markdown",
   "metadata": {},
   "source": [
    "<div class=\"alert alert-block alert-info\">\n",
    "<b>Info:</b><br>     Utilisez la fonction <b>Affine</b> de la librairie <code>Rasterio</code>.\n",
    "</div>"
   ]
  },
  {
   "cell_type": "code",
   "execution_count": 31,
   "metadata": {
    "jupyter": {
     "outputs_hidden": false,
     "source_hidden": true
    }
   },
   "outputs": [
    {
     "name": "stdout",
     "output_type": "stream",
     "text": [
      "# @info: Exécutez-moi pour avoir accès aux interactions\n"
     ]
    }
   ],
   "source": [
    "\n",
    "%%display_prompt --title=none --prompt 536920766f757320c3aa74726520626c6f7175c3a92865292c20616666696368657a20756e6520736f6c7574696f6e20656e207072657373616e7420737572206c6520626f75746f6e2063692d646573736f7573 --answer 3c636f64653e7472616e73666f726d203d20416666696e6528312f706978656c735f7065725f756e69745f6c656e6774682c20302c206d696e782c20302c202d312f706978656c735f7065725f756e69745f6c656e6774682c206d617879293c2f636f64653e\n",
    "# @info: Exécutez-moi pour avoir accès aux interactions"
   ]
  },
  {
   "cell_type": "markdown",
   "metadata": {},
   "source": [
    "- *Rasterisez* le masque utilisé pour déterminer les pixels de la grille où une évaluation devra être faite"
   ]
  },
  {
   "cell_type": "markdown",
   "metadata": {},
   "source": [
    "<div class=\"alert alert-block alert-info\">\n",
    "<b>Info:</b><br>     Utilisez une méthode de la classe <b>features</b> de la librairie <code>Rasterio</code> pour rasteriser la grille et sauvegardez ce raster dans un fichier <i>robena_estimation_grid.tif</i>.\n",
    "</div>"
   ]
  },
  {
   "cell_type": "code",
   "execution_count": 32,
   "metadata": {
    "jupyter": {
     "outputs_hidden": false,
     "source_hidden": true
    }
   },
   "outputs": [
    {
     "name": "stdout",
     "output_type": "stream",
     "text": [
      "# @info: Exécutez-moi pour avoir accès aux interactions\n"
     ]
    }
   ],
   "source": [
    "\n",
    "%%display_prompt --title=none --prompt 536920766f757320c3aa74726520626c6f7175c3a92865292c20616666696368657a20756e6520736f6c7574696f6e20656e207072657373616e7420737572206c6520626f75746f6e2063692d646573736f7573 --answer 3c636f64653e696d6167655f66696c65203d20272e2f726f62656e615f657374696d6174696f6e5f677269642e746966273c62723e0a6d657461646174613d7b277472616e73666f726d273a207472616e73666f726d2c2027686569676874273a206e726f77732c20277769647468273a206e636f6c732c2027636f756e74273a20312c3c62723e0a20202020202020202020276474797065273a2027696e743332272c20276e6f64617461273a20307d3c62723e0a726173746572203d2066656174757265732e726173746572697a65285b657374696d6174696f6e5f7a6f6e655d2c206f75745f73686170653d286e726f77732c206e636f6c73292c207472616e73666f726d3d7472616e73666f726d293c62723e0a776974682072696f2e6f70656e28696d6167655f66696c652c202777272c202a2a6d6574616461746129206173206473743a3c62723e0a202020206473742e7772697465287261737465722c2031293c2f636f64653e\n",
    "# @info: Exécutez-moi pour avoir accès aux interactions"
   ]
  },
  {
   "cell_type": "markdown",
   "metadata": {},
   "source": [
    "- Représentez sur une même figure les points d'échantillonnage et la grille d'évaluation"
   ]
  },
  {
   "cell_type": "code",
   "execution_count": 33,
   "metadata": {
    "jupyter": {
     "outputs_hidden": false,
     "source_hidden": true
    }
   },
   "outputs": [
    {
     "name": "stdout",
     "output_type": "stream",
     "text": [
      "# @info: Exécutez-moi pour avoir accès aux interactions\n"
     ]
    }
   ],
   "source": [
    "\n",
    "%%display_prompt --title=none --prompt 536920766f757320c3aa74726520626c6f7175c3a92865292c20616666696368657a20756e6520736f6c7574696f6e20656e207072657373616e7420737572206c6520626f75746f6e2063692d646573736f7573 --answer 3c636f64653e6669672c206178203d20706c742e737562706c6f74732866696773697a653d28382c3829293c62723e0a6f7574203d2072696f2e6f70656e28696d6167655f66696c652c20277227293c62723e0a73686f77286f75742c2061783d6178293c62723e0a6764665f636f616c6173682e706c6f742861783d61782c206d61726b65723d2778272c20636f6c6f723d276772657927293c2f636f64653e\n",
    "# @info: Exécutez-moi pour avoir accès aux interactions"
   ]
  },
  {
   "cell_type": "markdown",
   "metadata": {},
   "source": [
    "***\n",
    "## 4. Interpolation"
   ]
  },
  {
   "cell_type": "markdown",
   "metadata": {},
   "source": [
    "<div class=\"alert alert-block alert-success\">\n",
    "\t<img align=\"right\" src=\"./Image_file/logo-ir-64x64.png\" width=\"24\"/>\t<b>4.1 Interpoler la teneur en cendres par la méthode de la pondération par l'inverse de la distance</b>\n",
    "</div>"
   ]
  },
  {
   "cell_type": "markdown",
   "metadata": {},
   "source": [
    "- gstat nécessite une grille qui soit un objet de la classe **SpatialPixelsDataFrame**. Importez dans l'environnement <code>R</code> le fichier robena_estimation_grid.tif avec la librairie <b>Raster</b>. Convertissez ensuite la grille en **SpatialPixelsDataFrame** puis spécifiez le CRS : <code>+proj=merc +nodefs</code>."
   ]
  },
  {
   "cell_type": "code",
   "execution_count": 34,
   "metadata": {},
   "outputs": [],
   "source": []
  },
  {
   "cell_type": "markdown",
   "metadata": {},
   "source": [
    "- Convertissez le dataframe robena également en un objet de la classe SpatialPointsDataFrame. Prenez exemple de ce qui est réalisé pour coalash ci-dessous. Menez l'interpolation par Pondération inverse à la distance des teneurs en cendres et sauvegardez le résultat sous forme d'une image au format GeoTiff"
   ]
  },
  {
   "cell_type": "code",
   "execution_count": 36,
   "metadata": {},
   "outputs": [],
   "source": [
    "%%R\n",
    "xy = coalash[,c('x', 'y')]\n",
    "coalash = SpatialPointsDataFrame(coords = xy, data = coalash,\n",
    "                               proj4string = CRS(\"+proj=merc +nodefs\"))"
   ]
  },
  {
   "cell_type": "code",
   "execution_count": 13,
   "metadata": {
    "jupyter": {
     "outputs_hidden": false,
     "source_hidden": true
    }
   },
   "outputs": [
    {
     "name": "stdout",
     "output_type": "stream",
     "text": [
      "# @info: Exécutez-moi pour avoir accès aux interactions\n"
     ]
    }
   ],
   "source": [
    "\n",
    "%%display_prompt --title=none --prompt 536920766f757320c3aa74726520626c6f7175c3a92865292c20616666696368657a20756e6520736f6c7574696f6e20656e207072657373616e7420737572206c6520626f75746f6e2063692d646573736f7573 --answer 3c636f64653e252552202d6920726f62656e61202d6f20696d6167655f66696c653c62723e0a20203c62723e0a7879203d20726f62656e615b2c63282778272c20277927295d3c62723e0a726f62656e61203d205370617469616c506f696e7473446174614672616d6528636f6f726473203d2078792c2064617461203d20726f62656e612c3c62723e0a2020202020202020202020202020202020202020202020202020202020202070726f6a34737472696e67203d2043525328222b70726f6a3d6d657263202b6e6f646566732229293c62723e0a726f62656e612e696477203c2d206b7269676528636f616c6173687e312c20726f62656e612c20726f62656e612e67726964293c62723e0a696d6167655f66696c65203c2d20272e2f726f62656e615f6964772e746966273c62723e0a777269746552617374657228617328726f62656e612e6964772c20225261737465724c6179657222292c20696d6167655f66696c652c206f76657277726974653d54525545293c2f636f64653e\n",
    "# @info: Exécutez-moi pour avoir accès aux interactions"
   ]
  },
  {
   "cell_type": "code",
   "execution_count": null,
   "metadata": {},
   "outputs": [],
   "source": []
  },
  {
   "cell_type": "code",
   "execution_count": null,
   "metadata": {
    "jupyter": {
     "outputs_hidden": false,
     "source_hidden": true
    }
   },
   "outputs": [
    {
     "ename": "NameError",
     "evalue": "name 'robena' is not defined.",
     "output_type": "error",
     "traceback": [
      "\u001b[0;31m---------------------------------------------------------------------------\u001b[0m",
      "\u001b[0;31mKeyError\u001b[0m                                  Traceback (most recent call last)",
      "File \u001b[0;32m~/.local/share/virtualenvs/ModGeo-1d7LMbOH/lib/python3.8/site-packages/rpy2/ipython/rmagic.py:200\u001b[0m, in \u001b[0;36m_find\u001b[0;34m(name, ns)\u001b[0m\n\u001b[1;32m    199\u001b[0m \u001b[38;5;28;01mtry\u001b[39;00m:\n\u001b[0;32m--> 200\u001b[0m     obj \u001b[38;5;241m=\u001b[39m \u001b[43mns\u001b[49m\u001b[43m[\u001b[49m\u001b[43mobj_path\u001b[49m\u001b[43m[\u001b[49m\u001b[43mlook_for_i\u001b[49m\u001b[43m]\u001b[49m\u001b[43m]\u001b[49m\n\u001b[1;32m    201\u001b[0m \u001b[38;5;28;01mexcept\u001b[39;00m \u001b[38;5;167;01mKeyError\u001b[39;00m \u001b[38;5;28;01mas\u001b[39;00m e:\n",
      "\u001b[0;31mKeyError\u001b[0m: 'robena'",
      "\nThe above exception was the direct cause of the following exception:\n",
      "\u001b[0;31mNameError\u001b[0m                                 Traceback (most recent call last)",
      "File \u001b[0;32m~/.local/share/virtualenvs/ModGeo-1d7LMbOH/lib/python3.8/site-packages/rpy2/ipython/rmagic.py:441\u001b[0m, in \u001b[0;36mRMagics._import_name_into_r\u001b[0;34m(self, arg, env, local_ns)\u001b[0m\n\u001b[1;32m    440\u001b[0m \u001b[38;5;28;01mtry\u001b[39;00m:\n\u001b[0;32m--> 441\u001b[0m     val \u001b[38;5;241m=\u001b[39m \u001b[43m_find\u001b[49m\u001b[43m(\u001b[49m\u001b[43mrhs\u001b[49m\u001b[43m,\u001b[49m\u001b[43m \u001b[49m\u001b[43mlocal_ns\u001b[49m\u001b[43m)\u001b[49m\n\u001b[1;32m    442\u001b[0m \u001b[38;5;28;01mexcept\u001b[39;00m \u001b[38;5;167;01mNameError\u001b[39;00m:\n",
      "File \u001b[0;32m~/.local/share/virtualenvs/ModGeo-1d7LMbOH/lib/python3.8/site-packages/rpy2/ipython/rmagic.py:205\u001b[0m, in \u001b[0;36m_find\u001b[0;34m(name, ns)\u001b[0m\n\u001b[1;32m    204\u001b[0m         message \u001b[38;5;241m+\u001b[39m\u001b[38;5;241m=\u001b[39m \u001b[38;5;124m'\u001b[39m\u001b[38;5;124m Did you forget to remove trailing comma `,` or included spaces?\u001b[39m\u001b[38;5;124m'\u001b[39m\n\u001b[0;32m--> 205\u001b[0m     \u001b[38;5;28;01mraise\u001b[39;00m \u001b[38;5;167;01mNameError\u001b[39;00m(message) \u001b[38;5;28;01mfrom\u001b[39;00m \u001b[38;5;21;01me\u001b[39;00m\n\u001b[1;32m    206\u001b[0m look_for_i \u001b[38;5;241m+\u001b[39m\u001b[38;5;241m=\u001b[39m \u001b[38;5;241m1\u001b[39m\n",
      "\u001b[0;31mNameError\u001b[0m: name 'robena' is not defined.",
      "\nDuring handling of the above exception, another exception occurred:\n",
      "\u001b[0;31mKeyError\u001b[0m                                  Traceback (most recent call last)",
      "File \u001b[0;32m~/.local/share/virtualenvs/ModGeo-1d7LMbOH/lib/python3.8/site-packages/rpy2/ipython/rmagic.py:200\u001b[0m, in \u001b[0;36m_find\u001b[0;34m(name, ns)\u001b[0m\n\u001b[1;32m    199\u001b[0m \u001b[38;5;28;01mtry\u001b[39;00m:\n\u001b[0;32m--> 200\u001b[0m     obj \u001b[38;5;241m=\u001b[39m \u001b[43mns\u001b[49m\u001b[43m[\u001b[49m\u001b[43mobj_path\u001b[49m\u001b[43m[\u001b[49m\u001b[43mlook_for_i\u001b[49m\u001b[43m]\u001b[49m\u001b[43m]\u001b[49m\n\u001b[1;32m    201\u001b[0m \u001b[38;5;28;01mexcept\u001b[39;00m \u001b[38;5;167;01mKeyError\u001b[39;00m \u001b[38;5;28;01mas\u001b[39;00m e:\n",
      "\u001b[0;31mKeyError\u001b[0m: 'robena'",
      "\nThe above exception was the direct cause of the following exception:\n",
      "\u001b[0;31mNameError\u001b[0m                                 Traceback (most recent call last)",
      "Cell \u001b[0;32mIn[13], line 1\u001b[0m\n\u001b[0;32m----> 1\u001b[0m \u001b[43mget_ipython\u001b[49m\u001b[43m(\u001b[49m\u001b[43m)\u001b[49m\u001b[38;5;241;43m.\u001b[39;49m\u001b[43mrun_cell_magic\u001b[49m\u001b[43m(\u001b[49m\u001b[38;5;124;43m'\u001b[39;49m\u001b[38;5;124;43mR\u001b[39;49m\u001b[38;5;124;43m'\u001b[39;49m\u001b[43m,\u001b[49m\u001b[43m \u001b[49m\u001b[38;5;124;43m'\u001b[39;49m\u001b[38;5;124;43m-i robena -o image_file\u001b[39;49m\u001b[38;5;124;43m'\u001b[39;49m\u001b[43m,\u001b[49m\u001b[43m \u001b[49m\u001b[38;5;124;43m'\u001b[39;49m\u001b[38;5;124;43m# @solution @keep_output @reveal\u001b[39;49m\u001b[38;5;130;43;01m\\n\u001b[39;49;00m\u001b[38;5;124;43mxy = robena[,c(\u001b[39;49m\u001b[38;5;130;43;01m\\'\u001b[39;49;00m\u001b[38;5;124;43mx\u001b[39;49m\u001b[38;5;130;43;01m\\'\u001b[39;49;00m\u001b[38;5;124;43m, \u001b[39;49m\u001b[38;5;130;43;01m\\'\u001b[39;49;00m\u001b[38;5;124;43my\u001b[39;49m\u001b[38;5;130;43;01m\\'\u001b[39;49;00m\u001b[38;5;124;43m)]\u001b[39;49m\u001b[38;5;130;43;01m\\n\u001b[39;49;00m\u001b[38;5;124;43mrobena = SpatialPointsDataFrame(coords = xy, data = robena,\u001b[39;49m\u001b[38;5;130;43;01m\\n\u001b[39;49;00m\u001b[38;5;124;43m                               proj4string = CRS(\u001b[39;49m\u001b[38;5;124;43m\"\u001b[39;49m\u001b[38;5;124;43m+proj=merc +nodefs\u001b[39;49m\u001b[38;5;124;43m\"\u001b[39;49m\u001b[38;5;124;43m))\u001b[39;49m\u001b[38;5;130;43;01m\\n\u001b[39;49;00m\u001b[38;5;124;43mrobena.idw <- krige(coalash~1, robena, robena.grid)\u001b[39;49m\u001b[38;5;130;43;01m\\n\u001b[39;49;00m\u001b[38;5;124;43mimage_file <- \u001b[39;49m\u001b[38;5;130;43;01m\\'\u001b[39;49;00m\u001b[38;5;124;43m./robena_idw.tif\u001b[39;49m\u001b[38;5;130;43;01m\\'\u001b[39;49;00m\u001b[38;5;130;43;01m\\n\u001b[39;49;00m\u001b[38;5;124;43mwriteRaster(as(robena.idw, \u001b[39;49m\u001b[38;5;124;43m\"\u001b[39;49m\u001b[38;5;124;43mRasterLayer\u001b[39;49m\u001b[38;5;124;43m\"\u001b[39;49m\u001b[38;5;124;43m), image_file, overwrite=TRUE)\u001b[39;49m\u001b[38;5;130;43;01m\\n\u001b[39;49;00m\u001b[38;5;124;43m'\u001b[39;49m\u001b[43m)\u001b[49m\n",
      "File \u001b[0;32m~/.local/share/virtualenvs/ModGeo-1d7LMbOH/lib/python3.8/site-packages/IPython/core/interactiveshell.py:2478\u001b[0m, in \u001b[0;36mInteractiveShell.run_cell_magic\u001b[0;34m(self, magic_name, line, cell)\u001b[0m\n\u001b[1;32m   2476\u001b[0m \u001b[38;5;28;01mwith\u001b[39;00m \u001b[38;5;28mself\u001b[39m\u001b[38;5;241m.\u001b[39mbuiltin_trap:\n\u001b[1;32m   2477\u001b[0m     args \u001b[38;5;241m=\u001b[39m (magic_arg_s, cell)\n\u001b[0;32m-> 2478\u001b[0m     result \u001b[38;5;241m=\u001b[39m \u001b[43mfn\u001b[49m\u001b[43m(\u001b[49m\u001b[38;5;241;43m*\u001b[39;49m\u001b[43margs\u001b[49m\u001b[43m,\u001b[49m\u001b[43m \u001b[49m\u001b[38;5;241;43m*\u001b[39;49m\u001b[38;5;241;43m*\u001b[39;49m\u001b[43mkwargs\u001b[49m\u001b[43m)\u001b[49m\n\u001b[1;32m   2480\u001b[0m \u001b[38;5;66;03m# The code below prevents the output from being displayed\u001b[39;00m\n\u001b[1;32m   2481\u001b[0m \u001b[38;5;66;03m# when using magics with decodator @output_can_be_silenced\u001b[39;00m\n\u001b[1;32m   2482\u001b[0m \u001b[38;5;66;03m# when the last Python token in the expression is a ';'.\u001b[39;00m\n\u001b[1;32m   2483\u001b[0m \u001b[38;5;28;01mif\u001b[39;00m \u001b[38;5;28mgetattr\u001b[39m(fn, magic\u001b[38;5;241m.\u001b[39mMAGIC_OUTPUT_CAN_BE_SILENCED, \u001b[38;5;28;01mFalse\u001b[39;00m):\n",
      "File \u001b[0;32m~/.local/share/virtualenvs/ModGeo-1d7LMbOH/lib/python3.8/site-packages/rpy2/ipython/rmagic.py:922\u001b[0m, in \u001b[0;36mRMagics.R\u001b[0;34m(self, line, cell, local_ns)\u001b[0m\n\u001b[1;32m    920\u001b[0m     \u001b[38;5;28;01mwith\u001b[39;00m localconverter(converter) \u001b[38;5;28;01mas\u001b[39;00m cv:\n\u001b[1;32m    921\u001b[0m         \u001b[38;5;28;01mfor\u001b[39;00m arg \u001b[38;5;129;01min\u001b[39;00m \u001b[38;5;124m'\u001b[39m\u001b[38;5;124m,\u001b[39m\u001b[38;5;124m'\u001b[39m\u001b[38;5;241m.\u001b[39mjoin(args\u001b[38;5;241m.\u001b[39minput)\u001b[38;5;241m.\u001b[39msplit(\u001b[38;5;124m'\u001b[39m\u001b[38;5;124m,\u001b[39m\u001b[38;5;124m'\u001b[39m):\n\u001b[0;32m--> 922\u001b[0m             \u001b[38;5;28;43mself\u001b[39;49m\u001b[38;5;241;43m.\u001b[39;49m\u001b[43m_import_name_into_r\u001b[49m\u001b[43m(\u001b[49m\u001b[43marg\u001b[49m\u001b[43m,\u001b[49m\u001b[43m \u001b[49m\u001b[43mro\u001b[49m\u001b[38;5;241;43m.\u001b[39;49m\u001b[43mglobalenv\u001b[49m\u001b[43m,\u001b[49m\u001b[43m \u001b[49m\u001b[43mlocal_ns\u001b[49m\u001b[43m)\u001b[49m\n\u001b[1;32m    924\u001b[0m \u001b[38;5;28;01mif\u001b[39;00m args\u001b[38;5;241m.\u001b[39mdisplay:\n\u001b[1;32m    925\u001b[0m     \u001b[38;5;28;01mtry\u001b[39;00m:\n",
      "File \u001b[0;32m~/.local/share/virtualenvs/ModGeo-1d7LMbOH/lib/python3.8/site-packages/rpy2/ipython/rmagic.py:448\u001b[0m, in \u001b[0;36mRMagics._import_name_into_r\u001b[0;34m(self, arg, env, local_ns)\u001b[0m\n\u001b[1;32m    444\u001b[0m         warnings\u001b[38;5;241m.\u001b[39mwarn(\n\u001b[1;32m    445\u001b[0m             \u001b[38;5;124mf\u001b[39m\u001b[38;5;124m'\u001b[39m\u001b[38;5;124mThe shell is None. Unable to look for \u001b[39m\u001b[38;5;132;01m{\u001b[39;00mrhs\u001b[38;5;132;01m}\u001b[39;00m\u001b[38;5;124m.\u001b[39m\u001b[38;5;124m'\u001b[39m\n\u001b[1;32m    446\u001b[0m         )\n\u001b[1;32m    447\u001b[0m     \u001b[38;5;28;01melse\u001b[39;00m:\n\u001b[0;32m--> 448\u001b[0m         val \u001b[38;5;241m=\u001b[39m \u001b[43m_find\u001b[49m\u001b[43m(\u001b[49m\u001b[43mrhs\u001b[49m\u001b[43m,\u001b[49m\u001b[43m \u001b[49m\u001b[38;5;28;43mself\u001b[39;49m\u001b[38;5;241;43m.\u001b[39;49m\u001b[43mshell\u001b[49m\u001b[38;5;241;43m.\u001b[39;49m\u001b[43muser_ns\u001b[49m\u001b[43m)\u001b[49m\n\u001b[1;32m    449\u001b[0m \u001b[38;5;28;01mif\u001b[39;00m val \u001b[38;5;129;01mis\u001b[39;00m \u001b[38;5;129;01mnot\u001b[39;00m \u001b[38;5;28;01mNone\u001b[39;00m:\n\u001b[1;32m    450\u001b[0m     env[lhs] \u001b[38;5;241m=\u001b[39m val\n",
      "File \u001b[0;32m~/.local/share/virtualenvs/ModGeo-1d7LMbOH/lib/python3.8/site-packages/rpy2/ipython/rmagic.py:205\u001b[0m, in \u001b[0;36m_find\u001b[0;34m(name, ns)\u001b[0m\n\u001b[1;32m    203\u001b[0m     \u001b[38;5;28;01mif\u001b[39;00m obj_path[look_for_i] \u001b[38;5;241m==\u001b[39m \u001b[38;5;124m\"\u001b[39m\u001b[38;5;124m\"\u001b[39m:\n\u001b[1;32m    204\u001b[0m         message \u001b[38;5;241m+\u001b[39m\u001b[38;5;241m=\u001b[39m \u001b[38;5;124m'\u001b[39m\u001b[38;5;124m Did you forget to remove trailing comma `,` or included spaces?\u001b[39m\u001b[38;5;124m'\u001b[39m\n\u001b[0;32m--> 205\u001b[0m     \u001b[38;5;28;01mraise\u001b[39;00m \u001b[38;5;167;01mNameError\u001b[39;00m(message) \u001b[38;5;28;01mfrom\u001b[39;00m \u001b[38;5;21;01me\u001b[39;00m\n\u001b[1;32m    206\u001b[0m look_for_i \u001b[38;5;241m+\u001b[39m\u001b[38;5;241m=\u001b[39m \u001b[38;5;241m1\u001b[39m\n\u001b[1;32m    207\u001b[0m \u001b[38;5;28;01mwhile\u001b[39;00m look_for_i \u001b[38;5;241m<\u001b[39m \u001b[38;5;28mlen\u001b[39m(obj_path):\n",
      "\u001b[0;31mNameError\u001b[0m: name 'robena' is not defined."
     ]
    }
   ],
   "source": [
    "# Résultat attendu ci-dessous..."
   ]
  },
  {
   "cell_type": "code",
   "execution_count": 35,
   "metadata": {
    "scrolled": true
   },
   "outputs": [
    {
     "name": "stdout",
     "output_type": "stream",
     "text": [
      "File: /tmp/RtmpBVH424/Rtxt535219e63bf2\n",
      "krige                  package:gstat                   R Documentation\n",
      "\n",
      "\n",
      "\n",
      "Simple, Ordinary or Universal, global or local, Point or Block Kriging,\n",
      "\n",
      "or simulation.\n",
      "\n",
      "\n",
      "\n",
      "Description:\n",
      "\n",
      "\n",
      "\n",
      "     Function for simple, ordinary or universal kriging (sometimes\n",
      "\n",
      "     called external drift kriging), kriging in a local neighbourhood,\n",
      "\n",
      "     point kriging or kriging of block mean values (rectangular or\n",
      "\n",
      "     irregular blocks), and conditional (Gaussian or indicator)\n",
      "\n",
      "     simulation equivalents for all kriging varieties, and function for\n",
      "\n",
      "     inverse distance weighted interpolation.  For multivariable\n",
      "\n",
      "     prediction, see gstat and predict\n",
      "\n",
      "\n",
      "\n",
      "Usage:\n",
      "\n",
      "\n",
      "\n",
      "     krige(formula, locations, ...)\n",
      "\n",
      "     krige.locations(formula, locations, data, newdata, model, ..., beta, nmax\n",
      "\n",
      "     = Inf, nmin = 0, omax = 0, maxdist = Inf, block, nsim = 0, indicators = FALSE,\n",
      "\n",
      "     na.action = na.pass, debug.level = 1)\n",
      "\n",
      "     krige.spatial(formula, locations, newdata, model, ..., beta, nmax\n",
      "\n",
      "     = Inf, nmin = 0, omax = 0, maxdist = Inf, block, nsim = 0, indicators = FALSE,\n",
      "\n",
      "     na.action = na.pass, debug.level = 1)\n",
      "\n",
      "     krige0(formula, data, newdata, model, beta, y, ..., computeVar = FALSE,\n",
      "\n",
      "             fullCovariance = FALSE)\n",
      "\n",
      "     idw(formula, locations, ...)\n",
      "\n",
      "     idw.locations(formula, locations, data, newdata, nmax = Inf, \n",
      "\n",
      "             nmin = 0, omax = 0, maxdist = Inf, block, na.action = na.pass, idp = 2.0,\n",
      "\n",
      "             debug.level = 1)\n",
      "\n",
      "     idw.spatial(formula, locations, newdata, nmax = Inf, nmin = 0, \n",
      "\n",
      "         omax = 0, maxdist = Inf, block = numeric(0), na.action = na.pass, idp = 2.0,\n",
      "\n",
      "             debug.level = 1)\n",
      "\n",
      "     idw0(formula, data, newdata, y, idp = 2.0)\n",
      "\n",
      "     \n",
      "\n",
      "Arguments:\n",
      "\n",
      "\n",
      "\n",
      " formula: formula that defines the dependent variable as a linear model\n",
      "\n",
      "          of independent variables; suppose the dependent variable has\n",
      "\n",
      "          name ‘z’, for ordinary and simple kriging use the formula\n",
      "\n",
      "          ‘z~1’; for simple kriging also define ‘beta’ (see below); for\n",
      "\n",
      "          universal kriging, suppose ‘z’ is linearly dependent on ‘x’\n",
      "\n",
      "          and ‘y’, use the formula ‘z~x+y’\n",
      "\n",
      "\n",
      "\n",
      "locations: object of class ‘Spatial’ or ‘sf’, or (deprecated) formula\n",
      "\n",
      "          defines the spatial data locations (coordinates) such as\n",
      "\n",
      "          ‘~x+y’\n",
      "\n",
      "\n",
      "\n",
      "    data: data frame: should contain the dependent variable,\n",
      "\n",
      "          independent variables, and coordinates, should be missing if\n",
      "\n",
      "          locations contains data.\n",
      "\n",
      "\n",
      "\n",
      " newdata: object of class ‘Spatial’, ‘sf’ or ‘stars’ with\n",
      "\n",
      "          prediction/simulation locations; should contain attributes\n",
      "\n",
      "          with the independent variables (if present).\n",
      "\n",
      "\n",
      "\n",
      "   model: variogram model of dependent variable (or its residuals),\n",
      "\n",
      "          defined by a call to vgm or fit.variogram; for ‘krige0’ also\n",
      "\n",
      "          a user-supplied covariance function is allowed (see example\n",
      "\n",
      "          below)\n",
      "\n",
      "\n",
      "\n",
      "    beta: for simple kriging (and simulation based on simple kriging):\n",
      "\n",
      "          vector with the trend coefficients (including intercept); if\n",
      "\n",
      "          no independent variables are defined the model only contains\n",
      "\n",
      "          an intercept and beta should be the simple kriging mean\n",
      "\n",
      "\n",
      "\n",
      "    nmax: for local kriging: the number of nearest observations that\n",
      "\n",
      "          should be used for a kriging prediction or simulation, where\n",
      "\n",
      "          nearest is defined in terms of the space of the spatial\n",
      "\n",
      "          locations. By default, all observations are used\n",
      "\n",
      "\n",
      "\n",
      "    nmin: for local kriging: if the number of nearest observations\n",
      "\n",
      "          within distance ‘maxdist’ is less than ‘nmin’, a missing\n",
      "\n",
      "          value will be generated; see maxdist\n",
      "\n",
      "\n",
      "\n",
      "    omax: see gstat\n",
      "\n",
      "\n",
      "\n",
      " maxdist: for local kriging: only observations within a distance of\n",
      "\n",
      "          ‘maxdist’ from the prediction location are used for\n",
      "\n",
      "          prediction or simulation; if combined with ‘nmax’, both\n",
      "\n",
      "          criteria apply\n",
      "\n",
      "\n",
      "\n",
      "   block: block size; a vector with 1, 2 or 3 values containing the\n",
      "\n",
      "          size of a rectangular in x-, y- and z-dimension respectively\n",
      "\n",
      "          (0 if not set), or a data frame with 1, 2 or 3 columns,\n",
      "\n",
      "          containing the points that discretize the block in the x-, y-\n",
      "\n",
      "          and z-dimension to define irregular blocks relative to (0,0)\n",
      "\n",
      "          or (0,0,0)-see also the details section of predict. By\n",
      "\n",
      "          default, predictions or simulations refer to the support of\n",
      "\n",
      "          the data values.\n",
      "\n",
      "\n",
      "\n",
      "    nsim: integer; if set to a non-zero value, conditional simulation\n",
      "\n",
      "          is used instead of kriging interpolation. For this,\n",
      "\n",
      "          sequential Gaussian or indicator simulation is used\n",
      "\n",
      "          (depending on the value of ‘indicators’), following a single\n",
      "\n",
      "          random path through the data.\n",
      "\n",
      "\n",
      "\n",
      "indicators: logical, only relevant if ‘nsim’ is non-zero; if TRUE, use\n",
      "\n",
      "          indicator simulation; else use Gaussian simulation\n",
      "\n",
      "\n",
      "\n",
      "na.action: function determining what should be done with missing values\n",
      "\n",
      "          in 'newdata'.  The default is to predict 'NA'.  Missing\n",
      "\n",
      "          values in coordinates and predictors are both dealt with.\n",
      "\n",
      "\n",
      "\n",
      "debug.level: debug level, passed to predict; use -1 to see progress in\n",
      "\n",
      "          percentage, and 0 to suppress all printed information\n",
      "\n",
      "\n",
      "\n",
      "     ...: for krige: arguments that will be passed to gstat; for\n",
      "\n",
      "          ‘krige0’: arguments that will be passe to ‘model’\n",
      "\n",
      "\n",
      "\n",
      "     idp: numeric; specify the inverse distance weighting power\n",
      "\n",
      "\n",
      "\n",
      "       y: matrix; to krige multiple fields in a single step, pass data\n",
      "\n",
      "          as columns of matrix ‘y’. This will ignore the value of the\n",
      "\n",
      "          response in ‘formula’.\n",
      "\n",
      "\n",
      "\n",
      "computeVar: logical; if TRUE, prediction variances will be returned\n",
      "\n",
      "\n",
      "\n",
      "fullCovariance: logical; if FALSE a vector with prediction variances\n",
      "\n",
      "          will be returned, if TRUE the full covariance matrix of all\n",
      "\n",
      "          predictions will be returned\n",
      "\n",
      "\n",
      "\n",
      "Details:\n",
      "\n",
      "\n",
      "\n",
      "     Function ‘krige’ is a simple wrapper method around gstat and\n",
      "\n",
      "     predict for univariate kriging prediction and conditional\n",
      "\n",
      "     simulation methods available in gstat. For multivariate prediction\n",
      "\n",
      "     or simulation, or for other interpolation methods provided by\n",
      "\n",
      "     gstat (such as inverse distance weighted interpolation or trend\n",
      "\n",
      "     surface interpolation) use the functions gstat and predict\n",
      "\n",
      "     directly.\n",
      "\n",
      "\n",
      "\n",
      "     Function ‘idw’ performs just as ‘krige’ without a model being\n",
      "\n",
      "     passed, but allows direct specification of the inverse distance\n",
      "\n",
      "     weighting power. Don't use with predictors in the formula.\n",
      "\n",
      "\n",
      "\n",
      "     For further details, see predict.\n",
      "\n",
      "\n",
      "\n",
      "Value:\n",
      "\n",
      "\n",
      "\n",
      "     if ‘locations’ is not a formula, object of the same class as\n",
      "\n",
      "     ‘newdata’ (deriving from ‘Spatial’); else a data frame containing\n",
      "\n",
      "     the coordinates of ‘newdata’. Attributes columns contain\n",
      "\n",
      "     prediction and prediction variance (in case of kriging) or the\n",
      "\n",
      "     ‘abs(nsim)’ columns of the conditional Gaussian or indicator\n",
      "\n",
      "     simulations\n",
      "\n",
      "\n",
      "\n",
      "     ‘krige0’ and ‘idw0’ are alternative functions with reduced\n",
      "\n",
      "     functionality and larger memory requirements; they return numeric\n",
      "\n",
      "     vectors (or matrices, in case of multiple dependent) with\n",
      "\n",
      "     predicted values only; in case ‘computeVar’ is TRUE, a list with\n",
      "\n",
      "     elements ‘pred’ and ‘var’ is returned, containing predictions, and\n",
      "\n",
      "     (co)variances (depending on argument ‘fullCovariance’).\n",
      "\n",
      "\n",
      "\n",
      "Methods:\n",
      "\n",
      "\n",
      "\n",
      "     formula = \"formula\", locations = \"formula\" locations specifies\n",
      "\n",
      "          which coordinates in ‘data’ refer to spatial coordinates\n",
      "\n",
      "\n",
      "\n",
      "     formula = \"formula\", locations = \"Spatial\" Object locations knows\n",
      "\n",
      "          about its own spatial locations\n",
      "\n",
      "\n",
      "\n",
      "     formula = \"formula\", locations = \"NULL\" used in case of\n",
      "\n",
      "          unconditional simulations; newdata needs to be of class\n",
      "\n",
      "          Spatial\n",
      "\n",
      "\n",
      "\n",
      "Note:\n",
      "\n",
      "\n",
      "\n",
      "     Daniel G. Krige is a South African scientist who was a mining\n",
      "\n",
      "     engineer when he first used generalised least squares prediction\n",
      "\n",
      "     with spatial covariances in the 50's. George Matheron coined the\n",
      "\n",
      "     term ‘kriging’ in the 60's for the action of doing this, although\n",
      "\n",
      "     very similar approaches had been taken in the field of\n",
      "\n",
      "     meteorology. Beside being Krige's name, I consider \"krige\" to be\n",
      "\n",
      "     to \"kriging\" what \"predict\" is to \"prediction\".\n",
      "\n",
      "\n",
      "\n",
      "Author(s):\n",
      "\n",
      "\n",
      "\n",
      "     Edzer Pebesma\n",
      "\n",
      "\n",
      "\n",
      "References:\n",
      "\n",
      "\n",
      "\n",
      "     N.A.C. Cressie, 1993, Statistics for Spatial Data, Wiley.\n",
      "\n",
      "\n",
      "\n",
      "     <http://www.gstat.org/>\n",
      "\n",
      "\n",
      "\n",
      "     Pebesma, E.J., 2004. Multivariable geostatistics in S: the gstat\n",
      "\n",
      "     package. Computers and Geosciences, 30: 683-691.\n",
      "\n",
      "\n",
      "\n",
      "See Also:\n",
      "\n",
      "\n",
      "\n",
      "     gstat, predict\n",
      "\n",
      "\n",
      "\n",
      "Examples:\n",
      "\n",
      "\n",
      "\n",
      "     library(sp)\n",
      "\n",
      "     data(meuse)\n",
      "\n",
      "     coordinates(meuse) = ~x+y\n",
      "\n",
      "     data(meuse.grid)\n",
      "\n",
      "     gridded(meuse.grid) = ~x+y\n",
      "\n",
      "     m <- vgm(.59, \"Sph\", 874, .04)\n",
      "\n",
      "     # ordinary kriging:\n",
      "\n",
      "     x <- krige(log(zinc)~1, meuse, meuse.grid, model = m)\n",
      "\n",
      "     spplot(x[\"var1.pred\"], main = \"ordinary kriging predictions\")\n",
      "\n",
      "     spplot(x[\"var1.var\"],  main = \"ordinary kriging variance\")\n",
      "\n",
      "     # simple kriging:\n",
      "\n",
      "     x <- krige(log(zinc)~1, meuse, meuse.grid, model = m, beta = 5.9)\n",
      "\n",
      "     # residual variogram:\n",
      "\n",
      "     m <- vgm(.4, \"Sph\", 954, .06)\n",
      "\n",
      "     # universal block kriging:\n",
      "\n",
      "     x <- krige(log(zinc)~x+y, meuse, meuse.grid, model = m, block = c(40,40))\n",
      "\n",
      "     spplot(x[\"var1.pred\"], main = \"universal kriging predictions\")\n",
      "\n",
      "     \n",
      "\n",
      "     # krige0, using user-defined covariance function and multiple responses in y:\n",
      "\n",
      "     # exponential variogram with range 500, defined as covariance function:\n",
      "\n",
      "     v = function(x, y = x) { exp(-spDists(coordinates(x),coordinates(y))/500) }\n",
      "\n",
      "     # krige two variables in a single pass (using 1 covariance model):\n",
      "\n",
      "     y = cbind(meuse$zinc,meuse$copper,meuse$lead,meuse$cadmium)\n",
      "\n",
      "     x <- krige0(zinc~1, meuse, meuse.grid, v, y = y)\n",
      "\n",
      "     meuse.grid$zinc = x[,1]\n",
      "\n",
      "     spplot(meuse.grid[\"zinc\"], main = \"zinc\")\n",
      "\n",
      "     meuse.grid$copper = x[,2]\n",
      "\n",
      "     spplot(meuse.grid[\"copper\"], main = \"copper\")\n",
      "\n",
      "     \n",
      "\n",
      "     # the following has NOTHING to do with kriging, but --\n",
      "\n",
      "     # return the median of the nearest 11 observations:\n",
      "\n",
      "     x = krige(zinc~1, meuse, meuse.grid, set = list(method = \"med\"), nmax = 11)\n",
      "\n",
      "     # get 25%- and 75%-percentiles of nearest 11 obs, as prediction and variance:\n",
      "\n",
      "     x = krige(zinc~1, meuse, meuse.grid, nmax = 11, \n",
      "\n",
      "             set = list(method = \"med\", quantile = 0.25))\n",
      "\n",
      "     # get diversity (# of different values) and mode from 11 nearest observations:\n",
      "\n",
      "     x = krige(zinc~1, meuse, meuse.grid, nmax = 11, set = list(method = \"div\"))\n",
      "\n",
      "     \n",
      "\n",
      "---\n"
     ]
    }
   ],
   "source": [
    "%%R\n",
    "help(krige)"
   ]
  },
  {
   "cell_type": "markdown",
   "metadata": {},
   "source": [
    "<div class=\"alert alert-block alert-success\">\n",
    "\t<img align=\"right\" src=\"./Image_file/logo-Python3-64x64.png\" width=\"24\"/>\t<b>4.2 Afficher le résultat de l'interpolation par l'inverse de la distance</b>\n",
    "</div>"
   ]
  },
  {
   "cell_type": "markdown",
   "metadata": {},
   "source": [
    "- Voici une fonction **plot_interpolation_results** pour afficher les résultats sous forme de carte en y superposant les points d'échantillonnage"
   ]
  },
  {
   "cell_type": "code",
   "execution_count": 38,
   "metadata": {},
   "outputs": [],
   "source": [
    "def plot_interpolation_results(image_file, band=1, **kwargs):\n",
    "    cmap = kwargs.pop('cmap', 'hsv')\n",
    "    title = kwargs.pop('title', '')\n",
    "    fig, ax = plt.subplots(figsize=(8,8))\n",
    "    ax.set_title(title, fontsize= 20)\n",
    "    with rio.open(image_file, 'r') as out:\n",
    "        spatial_extent = [out.bounds.left, out.bounds.right, out.bounds.bottom, out.bounds.top]\n",
    "        data = out.read(1, masked=True)\n",
    "    im = ax.imshow(data, cmap=cmap, extent=spatial_extent, **kwargs)\n",
    "    gdf_coalash.plot(ax=ax, marker='x', color='grey')\n",
    "    fig.colorbar(im)"
   ]
  },
  {
   "cell_type": "markdown",
   "metadata": {},
   "source": [
    "- Affichez la carte des teneurs en cendres interpolées"
   ]
  },
  {
   "cell_type": "code",
   "execution_count": null,
   "metadata": {},
   "outputs": [],
   "source": []
  },
  {
   "cell_type": "code",
   "execution_count": null,
   "metadata": {},
   "outputs": [
    {
     "data": {
      "image/png": "[encoded data removed]",
      "text/plain": [
       "<Figure size 576x576 with 2 Axes>"
      ]
     },
     "metadata": {
      "needs_background": "light"
     },
     "output_type": "display_data"
    }
   ],
   "source": [
    "# Résultat attendu ci-dessous..."
   ]
  },
  {
   "cell_type": "markdown",
   "metadata": {},
   "source": [
    "![png_image](data:image/png;base64,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\n",
    ")  \n",
    "~~~<Figure size 576x576 with 2 Axes>~~~  \n"
   ]
  },
  {
   "cell_type": "markdown",
   "metadata": {},
   "source": [
    "***\n",
    "<div class=\"alert alert-block alert-danger\" align=\"center\">\n",
    "    <b>FIN DE LA QUATRIEME SEANCE</b>\n",
    "</div>"
   ]
  }
 ],
 "metadata": {
  "kernelspec": {
   "display_name": "Python 3 (ipykernel)",
   "language": "python",
   "name": "python3"
  },
  "language_info": {
   "codemirror_mode": {
    "name": "ipython",
    "version": 3
   },
   "file_extension": ".py",
   "mimetype": "text/x-python",
   "name": "python",
   "nbconvert_exporter": "python",
   "pygments_lexer": "ipython3",
   "version": "3.8.10"
  }
 },
 "nbformat": 4,
 "nbformat_minor": 4
}
