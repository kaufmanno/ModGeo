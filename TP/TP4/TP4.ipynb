{
 "cells": [
  {
   "cell_type": "markdown",
   "metadata": {},
   "source": [
    "# Travaux Pratiques de Modélisation Géologique et Géostatistique\n",
    "O. Kaufmann - 2018 - 2020; O. Kaufmann & Q. Campeol, 2021-2024.\n",
    "## Séance 4"
   ]
  },
  {
   "cell_type": "markdown",
   "metadata": {},
   "source": [
    "***\n",
    "## 1. Chargement des packages"
   ]
  },
  {
   "cell_type": "markdown",
   "metadata": {},
   "source": [
    "<div class=\"alert alert-block alert-success\">\n",
    "\t<img align=\"right\" src=\"./Image_file/logo-Python3-64x64.png\" width=\"24\"/>\t<b>1.1 Imports</b>\n",
    "</div>"
   ]
  },
  {
   "cell_type": "code",
   "execution_count": 40,
   "metadata": {
    "jupyter": {
     "outputs_hidden": false,
     "source_hidden": true
    }
   },
   "outputs": [
    {
     "data": {
      "text/html": [
       "<div class=\"alert alert-block alert-danger\"> <b>Important:</b><br>Exécutez-moi pour activer les questions interactives.</div>"
      ]
     },
     "metadata": {},
     "output_type": "display_data"
    }
   ],
   "source": [
    "\n",
    "# @info: Execute me to activate interactive questions\n",
    "# ---------------------------------------------------\n",
    "\n",
    "# O. KAUFMANN, 2024. \n",
    "\n",
    "from IPython import get_ipython\n",
    "from IPython.core import magic_arguments\n",
    "from IPython.core.magic import register_cell_magic\n",
    "import ipywidgets as widgets\n",
    "from IPython.display import HTML, clear_output\n",
    "import codecs\n",
    "\n",
    "def decode_text(text):\n",
    "    return codecs.decode(text, 'hex').decode('utf')\n",
    "\n",
    "def encode_text(text):\n",
    "    return codecs.encode(codecs.encode(text,'utf8'), 'hex').decode('utf')\n",
    "    \n",
    "@magic_arguments.magic_arguments()\n",
    "@magic_arguments.argument('--prompt', default='none', help='Encoded prompt')\n",
    "@magic_arguments.argument('--answer', default='none', help='Encoded answer')\n",
    "@magic_arguments.argument('--title', default='Question', help='First line of alert block')\n",
    "@magic_arguments.argument('--button-label', default='Solution', help='Text to display on button')\n",
    "@magic_arguments.argument('--div-type', default='alert-warning', help='Type of alert block')\n",
    "    \n",
    "@register_cell_magic\n",
    "def display_prompt(line, cell):\n",
    "    args = magic_arguments.parse_argstring(display_prompt, line)\n",
    "    title = args.title\n",
    "    prompt = args.prompt\n",
    "    answer = args.answer\n",
    "    button_label = args.button_label\n",
    "    div_type = args.div_type\n",
    "    def make_block(text, title=title, label=button_label, div_type=div_type):\n",
    "        if title != 'none':\n",
    "            return HTML(f\"\"\"<div class=\"alert alert-block {div_type}\"> <b>{title}</b><br> {text} </div>\"\"\")\n",
    "        else:\n",
    "            return HTML(f\"\"\"<div class=\"alert alert-block {div_type}\"> {text} </div>\"\"\")\n",
    "    if prompt != 'none':\n",
    "        display(make_block(decode_text(prompt)))\n",
    "    toggle_button = widgets.ToggleButton(description=button_label)\n",
    "    output = widgets.Output()\n",
    "    def on_button_clicked(b):\n",
    "        with output:\n",
    "            if b['new']:  \n",
    "                display(HTML(decode_text(answer)))\n",
    "            else:\n",
    "                output.clear_output()\n",
    "    toggle_button.observe(on_button_clicked, 'value')\n",
    "    display(toggle_button)\n",
    "    display(output)\n",
    "\n",
    "HTML(\"\"\"<div class=\"alert alert-block alert-success\"> <b>Success:</b><br>Interactive questions activated.</div>\"\"\")\n"
   ]
  },
  {
   "cell_type": "code",
   "execution_count": 41,
   "metadata": {},
   "outputs": [
    {
     "name": "stdout",
     "output_type": "stream",
     "text": [
      "The rpy2.ipython extension is already loaded. To reload it, use:\n",
      "  %reload_ext rpy2.ipython\n"
     ]
    }
   ],
   "source": [
    "%load_ext rpy2.ipython\n",
    "import numpy as np\n",
    "import pandas as pd\n",
    "import geopandas as gpd\n",
    "import matplotlib.pyplot as plt\n",
    "import rpy2"
   ]
  },
  {
   "cell_type": "markdown",
   "metadata": {},
   "source": [
    "<div class=\"alert alert-block alert-success\">\n",
    "\t<img align=\"right\" src=\"./Image_file/logo-ir-64x64.png\" width=\"24\"/>\t<b>1.2 Installer et charger les packages <i>raster</i> et <i>gstat</i> </b>\n",
    "</div>"
   ]
  },
  {
   "cell_type": "markdown",
   "metadata": {},
   "source": [
    "- Vérifiez pour chacun des <b>packages</b> requis s'il est déjà installé et, le cas écheant, quelle est la version installée?"
   ]
  },
  {
   "cell_type": "code",
   "execution_count": 42,
   "metadata": {},
   "outputs": [
    {
     "name": "stdout",
     "output_type": "stream",
     "text": [
      "   gstat   raster \n",
      " \"2.1-0\" \"3.6-26\" \n"
     ]
    }
   ],
   "source": [
    "%%R\n",
    "\n",
    "list_of_packages <- installed.packages()\n",
    "list_of_packages[c('gstat', 'raster'), c('Version')]"
   ]
  },
  {
   "cell_type": "markdown",
   "metadata": {},
   "source": [
    "- Si nécessaire, installez les <b>packages</b> manquants"
   ]
  },
  {
   "cell_type": "raw",
   "metadata": {},
   "source": [
    "%%R\n",
    "install.packages(c('sp', 'gstat', 'raster'))"
   ]
  },
  {
   "cell_type": "markdown",
   "metadata": {},
   "source": [
    "- Chargez les <b>packages</b> <i>raster</i> et <i>gstat</i>"
   ]
  },
  {
   "cell_type": "markdown",
   "metadata": {},
   "source": [
    "<div class=\"alert alert-block alert-info\">\n",
    "<b>Info:</b><br>     La documentation de gstat est accessible <a href=\"http://cran.r-project.org/web/packages/gstat/gstat.pdf\">ici</a>.\n",
    "</div>"
   ]
  },
  {
   "cell_type": "code",
   "execution_count": 43,
   "metadata": {},
   "outputs": [],
   "source": []
  },
  {
   "cell_type": "markdown",
   "metadata": {},
   "source": [
    "***\n",
    "## 2. Exploration du jeu de données <i>Robena Mine (US, Penn) coal ash</i> \n",
    "### Jeu de données contenu dans le package <i>gstat</i>\n",
    "Data obtained from Gomez and Hazen (1970, Tables 19 and 20) on coal ash for the Robena Mine Property in Greene County Pennsylvania."
   ]
  },
  {
   "cell_type": "markdown",
   "metadata": {},
   "source": [
    "![Robena Mine Photo](./Image_file/Robena_Mine_01.jpg )  |  ![Robena Mine Photo](./Image_file/Robena_Mine_02.jpg)\n",
    "- | - \n",
    "Vue 1 | Vue 2"
   ]
  },
  {
   "cell_type": "markdown",
   "metadata": {},
   "source": [
    "<div class=\"alert alert-block alert-success\">\n",
    "\t<img align=\"right\" src=\"./Image_file/logo-ir-64x64.png\" width=\"24\"/>\t<b>2.1 Charger le jeu de données</b>\n",
    "</div>"
   ]
  },
  {
   "cell_type": "markdown",
   "metadata": {},
   "source": [
    "- Vérifiez ce qui est présent dans l'espace de travail (<b>workspace</b>)"
   ]
  },
  {
   "cell_type": "code",
   "execution_count": 44,
   "metadata": {},
   "outputs": [],
   "source": []
  },
  {
   "cell_type": "markdown",
   "metadata": {},
   "source": [
    "- Chargez le jeu de données <b>coalash</b> du package <code>R</code> *gstat*"
   ]
  },
  {
   "cell_type": "code",
   "execution_count": 45,
   "metadata": {},
   "outputs": [],
   "source": []
  },
  {
   "cell_type": "markdown",
   "metadata": {},
   "source": [
    "-  Essayez la commande help sur le jeu de données:"
   ]
  },
  {
   "cell_type": "code",
   "execution_count": 46,
   "metadata": {
    "scrolled": true
   },
   "outputs": [
    {
     "name": "stdout",
     "output_type": "stream",
     "text": [
      "File: /tmp/RtmpOdXL8n/Rtxt6fb32a152b1e\n",
      "coalash                 package:gstat                  R Documentation\n",
      "\n",
      "\n",
      "\n",
      "Coal ash samples from a mine in Pennsylvania\n",
      "\n",
      "\n",
      "\n",
      "Description:\n",
      "\n",
      "\n",
      "\n",
      "     Data obtained from Gomez and Hazen (1970, Tables 19 and 20) on\n",
      "\n",
      "     coal ash for the Robena Mine Property in Greene County\n",
      "\n",
      "     Pennsylvania.\n",
      "\n",
      "\n",
      "\n",
      "Usage:\n",
      "\n",
      "\n",
      "\n",
      "     data(coalash)\n",
      "\n",
      "     \n",
      "\n",
      "Format:\n",
      "\n",
      "\n",
      "\n",
      "     This data frame contains the following columns:\n",
      "\n",
      "\n",
      "\n",
      "     x a numeric vector; x-coordinate; reference unknown\n",
      "\n",
      "\n",
      "\n",
      "     y a numeric vector; x-coordinate; reference unknown\n",
      "\n",
      "\n",
      "\n",
      "     coalash the target variable\n",
      "\n",
      "\n",
      "\n",
      "Note:\n",
      "\n",
      "\n",
      "\n",
      "     data are also present in package fields, as coalash.\n",
      "\n",
      "\n",
      "\n",
      "Author(s):\n",
      "\n",
      "\n",
      "\n",
      "     unknown; R version prepared by Edzer Pebesma; data obtained from\n",
      "\n",
      "     <URL: http://homepage.divms.uiowa.edu/~dzimmer/spatialstats/>,\n",
      "\n",
      "     Dale Zimmerman's course page\n",
      "\n",
      "\n",
      "\n",
      "References:\n",
      "\n",
      "\n",
      "\n",
      "     N.A.C. Cressie, 1993, Statistics for Spatial Data, Wiley.\n",
      "\n",
      "\n",
      "\n",
      "     Gomez, M. and Hazen, K. (1970). Evaluating sulfur and ash\n",
      "\n",
      "     distribution in coal seems by statistical response surface\n",
      "\n",
      "     regression analysis. U.S. Bureau of Mines Report RI 7377.\n",
      "\n",
      "\n",
      "\n",
      "     see also fields manual: <URL:\n",
      "\n",
      "     http://www.image.ucar.edu/GSP/Software/Fields/fields.manual.coalashEX.Krig.shtml>\n",
      "\n",
      "\n",
      "\n",
      "Examples:\n",
      "\n",
      "\n",
      "\n",
      "     data(coalash)\n",
      "\n",
      "     summary(coalash)\n",
      "\n",
      "     \n",
      "\n",
      "---\n"
     ]
    }
   ],
   "source": [
    "%%R\n",
    "help(coalash)"
   ]
  },
  {
   "cell_type": "markdown",
   "metadata": {},
   "source": [
    "- Vérifiez que le nouveau jeu de donnée est présent dans l'espace de travail de <code>R</code> et affichez un résumé du jeu de données"
   ]
  },
  {
   "cell_type": "code",
   "execution_count": 47,
   "metadata": {},
   "outputs": [],
   "source": []
  },
  {
   "cell_type": "markdown",
   "metadata": {},
   "source": [
    "- Déterminez quel est la classe et le mode du jeu de données dans l'espace de travail de <code>R</code>"
   ]
  },
  {
   "cell_type": "code",
   "execution_count": 48,
   "metadata": {},
   "outputs": [],
   "source": []
  },
  {
   "cell_type": "markdown",
   "metadata": {},
   "source": [
    "- Transférez le dataframe coalash dans un dataframe pandas"
   ]
  },
  {
   "cell_type": "code",
   "execution_count": 49,
   "metadata": {},
   "outputs": [],
   "source": []
  },
  {
   "cell_type": "markdown",
   "metadata": {},
   "source": [
    "<div class=\"alert alert-block alert-success\">\n",
    "\t<img align=\"right\" src=\"./Image_file/logo-Python3-64x64.png\" width=\"24\"/>\t<b>2.2 Explorer le jeu de données</b>\n",
    "</div>"
   ]
  },
  {
   "cell_type": "markdown",
   "metadata": {},
   "source": [
    "- Examinez le contenu du jeu de données "
   ]
  },
  {
   "cell_type": "code",
   "execution_count": null,
   "metadata": {},
   "outputs": [],
   "source": []
  },
  {
   "cell_type": "code",
   "execution_count": null,
   "metadata": {},
   "outputs": [
    {
     "data": {
      "text/html": [
       "<div>\n",
       "<style scoped>\n",
       "    .dataframe tbody tr th:only-of-type {\n",
       "        vertical-align: middle;\n",
       "    }\n",
       "\n",
       "    .dataframe tbody tr th {\n",
       "        vertical-align: top;\n",
       "    }\n",
       "\n",
       "    .dataframe thead th {\n",
       "        text-align: right;\n",
       "    }\n",
       "</style>\n",
       "<table border=\"1\" class=\"dataframe\">\n",
       "  <thead>\n",
       "    <tr style=\"text-align: right;\">\n",
       "      <th></th>\n",
       "      <th>x</th>\n",
       "      <th>y</th>\n",
       "      <th>coalash</th>\n",
       "    </tr>\n",
       "  </thead>\n",
       "  <tbody>\n",
       "    <tr>\n",
       "      <th>1</th>\n",
       "      <td>1</td>\n",
       "      <td>14</td>\n",
       "      <td>10.21</td>\n",
       "    </tr>\n",
       "    <tr>\n",
       "      <th>2</th>\n",
       "      <td>1</td>\n",
       "      <td>15</td>\n",
       "      <td>9.92</td>\n",
       "    </tr>\n",
       "    <tr>\n",
       "      <th>3</th>\n",
       "      <td>1</td>\n",
       "      <td>16</td>\n",
       "      <td>11.17</td>\n",
       "    </tr>\n",
       "    <tr>\n",
       "      <th>4</th>\n",
       "      <td>2</td>\n",
       "      <td>8</td>\n",
       "      <td>10.01</td>\n",
       "    </tr>\n",
       "    <tr>\n",
       "      <th>5</th>\n",
       "      <td>2</td>\n",
       "      <td>10</td>\n",
       "      <td>11.15</td>\n",
       "    </tr>\n",
       "  </tbody>\n",
       "</table>\n",
       "</div>"
      ],
      "text/plain": [
       "   x   y  coalash\n",
       "1  1  14    10.21\n",
       "2  1  15     9.92\n",
       "3  1  16    11.17\n",
       "4  2   8    10.01\n",
       "5  2  10    11.15"
      ]
     },
     "execution_count": 50,
     "metadata": {},
     "output_type": "execute_result"
    }
   ],
   "source": [
    "# Résultat attendu ci-dessous..."
   ]
  },
  {
   "cell_type": "markdown",
   "metadata": {},
   "source": [
    "- Faites-en un **Geodataframe** et affichez la teneur en cendres des charbons sur une carte."
   ]
  },
  {
   "cell_type": "code",
   "execution_count": 51,
   "metadata": {
    "jupyter": {
     "outputs_hidden": false,
     "source_hidden": true
    }
   },
   "outputs": [
    {
     "name": "stdout",
     "output_type": "stream",
     "text": [
      "# @info: Exécutez-moi pour avoir accès aux interactions\n"
     ]
    }
   ],
   "source": [
    "\n",
    "%%display_prompt --title=none --prompt 536920766f757320c3aa74726520626c6f7175c3a92865292c20616666696368657a20756e6520736f6c7574696f6e20656e207072657373616e7420737572206c6520626f75746f6e2063692d646573736f7573 --answer 3c636f64653e6764665f636f616c617368203d206770642e47656f446174614672616d6528636f616c6173682c2067656f6d657472793d6770642e706f696e74735f66726f6d5f787928636f616c6173685b2778275d2c20636f616c6173685b2779275d2920293c62723e0a3c62723e0a7072696e7428224e6f6d627265206427c3a96368616e74696c6c6f6e732064616e73206c65206a657520646520646f6e6ec3a96573203a222c206c656e286764665f636f616c61736829293c62723e0a646973706c6179286764665f636f616c6173682e68656164282920293c62723e0a3c62723e0a6669672c206178203d20706c742e737562706c6f74732866696773697a653d28382c3829293c62723e0a6764665f636f616c6173682e706c6f742827636f616c617368272c2061783d61782c20636d61703d276a6574272c206c6567656e643d54727565293c62723e0a61782e7365745f7469746c65282274656e65757220656e2063656e647265732064752063686172626f6e22293c62723e0a61782e7365745f796c6162656c28275927293c62723e0a61782e7365745f786c6162656c28275827293c2f636f64653e\n",
    "# @info: Exécutez-moi pour avoir accès aux interactions"
   ]
  },
  {
   "cell_type": "code",
   "execution_count": null,
   "metadata": {},
   "outputs": [],
   "source": []
  },
  {
   "cell_type": "code",
   "execution_count": null,
   "metadata": {
    "jupyter": {
     "outputs_hidden": false,
     "source_hidden": true
    }
   },
   "outputs": [
    {
     "name": "stdout",
     "output_type": "stream",
     "text": [
      "Nombre d'échantillons dans le jeu de données : 208\n"
     ]
    },
    {
     "data": {
      "text/html": [
       "<div>\n",
       "<style scoped>\n",
       "    .dataframe tbody tr th:only-of-type {\n",
       "        vertical-align: middle;\n",
       "    }\n",
       "\n",
       "    .dataframe tbody tr th {\n",
       "        vertical-align: top;\n",
       "    }\n",
       "\n",
       "    .dataframe thead th {\n",
       "        text-align: right;\n",
       "    }\n",
       "</style>\n",
       "<table border=\"1\" class=\"dataframe\">\n",
       "  <thead>\n",
       "    <tr style=\"text-align: right;\">\n",
       "      <th></th>\n",
       "      <th>x</th>\n",
       "      <th>y</th>\n",
       "      <th>coalash</th>\n",
       "      <th>geometry</th>\n",
       "    </tr>\n",
       "  </thead>\n",
       "  <tbody>\n",
       "    <tr>\n",
       "      <th>1</th>\n",
       "      <td>1</td>\n",
       "      <td>14</td>\n",
       "      <td>10.21</td>\n",
       "      <td>POINT (1.00000 14.00000)</td>\n",
       "    </tr>\n",
       "    <tr>\n",
       "      <th>2</th>\n",
       "      <td>1</td>\n",
       "      <td>15</td>\n",
       "      <td>9.92</td>\n",
       "      <td>POINT (1.00000 15.00000)</td>\n",
       "    </tr>\n",
       "    <tr>\n",
       "      <th>3</th>\n",
       "      <td>1</td>\n",
       "      <td>16</td>\n",
       "      <td>11.17</td>\n",
       "      <td>POINT (1.00000 16.00000)</td>\n",
       "    </tr>\n",
       "    <tr>\n",
       "      <th>4</th>\n",
       "      <td>2</td>\n",
       "      <td>8</td>\n",
       "      <td>10.01</td>\n",
       "      <td>POINT (2.00000 8.00000)</td>\n",
       "    </tr>\n",
       "    <tr>\n",
       "      <th>5</th>\n",
       "      <td>2</td>\n",
       "      <td>10</td>\n",
       "      <td>11.15</td>\n",
       "      <td>POINT (2.00000 10.00000)</td>\n",
       "    </tr>\n",
       "  </tbody>\n",
       "</table>\n",
       "</div>"
      ],
      "text/plain": [
       "   x   y  coalash                  geometry\n",
       "1  1  14    10.21  POINT (1.00000 14.00000)\n",
       "2  1  15     9.92  POINT (1.00000 15.00000)\n",
       "3  1  16    11.17  POINT (1.00000 16.00000)\n",
       "4  2   8    10.01   POINT (2.00000 8.00000)\n",
       "5  2  10    11.15  POINT (2.00000 10.00000)"
      ]
     },
     "metadata": {},
     "output_type": "display_data"
    },
    {
     "data": {
      "text/plain": [
       "Text(0.5, 58.7222222222222, 'X')"
      ]
     },
     "execution_count": 51,
     "metadata": {},
     "output_type": "execute_result"
    },
    {
     "data": {
      "image/png": "[encoded data removed]",
      "text/plain": [
       "<Figure size 800x800 with 2 Axes>"
      ]
     },
     "metadata": {},
     "output_type": "display_data"
    }
   ],
   "source": [
    "# Résultat attendu ci-dessous..."
   ]
  },
  {
   "cell_type": "markdown",
   "metadata": {},
   "source": [
    "- Affichez le résumé et tracez un histogramme de la teneur en cendres des charbons"
   ]
  },
  {
   "cell_type": "code",
   "execution_count": 52,
   "metadata": {},
   "outputs": [],
   "source": []
  },
  {
   "cell_type": "code",
   "execution_count": null,
   "metadata": {},
   "outputs": [],
   "source": []
  },
  {
   "cell_type": "code",
   "execution_count": null,
   "metadata": {},
   "outputs": [
    {
     "data": {
      "image/png": "[encoded data removed]",
      "text/plain": [
       "<Figure size 600x500 with 1 Axes>"
      ]
     },
     "metadata": {},
     "output_type": "display_data"
    }
   ],
   "source": [
    "# Résultat attendu ci-dessous..."
   ]
  },
  {
   "cell_type": "markdown",
   "metadata": {},
   "source": [
    "<div class=\"alert alert-block alert-success\">\n",
    "\t<img align=\"right\" src=\"./Image_file/logo-ir-64x64.png\" width=\"24\"/>\t<b>2.3 Examiner la distribution de la variable <i>coalash</i></b>\n",
    "</div>"
   ]
  },
  {
   "cell_type": "markdown",
   "metadata": {},
   "source": [
    "<div class=\"alert alert-block alert-warning\">\n",
    "<b>Question 2.3.1: </b><br>Peut-on faire l'hypothèse d'une distribution normale?\n",
    "</div>"
   ]
  },
  {
   "cell_type": "markdown",
   "metadata": {},
   "source": [
    "- Affichez un diagramme Quantile-Quantile (_Q-Q plot_) dans <code>R</code>   \n",
    "\n",
    "Quelles conclusions en tirez-vous?"
   ]
  },
  {
   "cell_type": "code",
   "execution_count": null,
   "metadata": {},
   "outputs": [],
   "source": []
  },
  {
   "cell_type": "code",
   "execution_count": null,
   "metadata": {},
   "outputs": [
    {
     "data": {
      "image/png": "[encoded data removed]",
      "text/plain": [
       "<IPython.core.display.Image object>"
      ]
     },
     "metadata": {},
     "output_type": "display_data"
    }
   ],
   "source": [
    "# Résultat attendu ci-dessous..."
   ]
  },
  {
   "cell_type": "markdown",
   "metadata": {},
   "source": [
    "- Vérifiez à l'aide du test de Shapiro s'il est plausible que la teneur suive une loi normale"
   ]
  },
  {
   "cell_type": "markdown",
   "metadata": {},
   "source": [
    "<div class=\"alert alert-block alert-info\">\n",
    "<b>Info:</b><br>     Utilisez la fonction <code>shapiro.test</code>\n",
    "</div>"
   ]
  },
  {
   "cell_type": "code",
   "execution_count": 55,
   "metadata": {},
   "outputs": [
    {
     "name": "stdout",
     "output_type": "stream",
     "text": [
      "File: /tmp/RtmpOdXL8n/Rtxt6fb373d5f144\n",
      "shapiro.test               package:stats               R Documentation\n",
      "\n",
      "\n",
      "\n",
      "Shapiro-Wilk Normality Test\n",
      "\n",
      "\n",
      "\n",
      "Description:\n",
      "\n",
      "\n",
      "\n",
      "     Performs the Shapiro-Wilk test of normality.\n",
      "\n",
      "\n",
      "\n",
      "Usage:\n",
      "\n",
      "\n",
      "\n",
      "     shapiro.test(x)\n",
      "\n",
      "     \n",
      "\n",
      "Arguments:\n",
      "\n",
      "\n",
      "\n",
      "       x: a numeric vector of data values. Missing values are allowed,\n",
      "\n",
      "          but the number of non-missing values must be between 3 and\n",
      "\n",
      "          5000.\n",
      "\n",
      "\n",
      "\n",
      "Value:\n",
      "\n",
      "\n",
      "\n",
      "     A list with class ‘\"htest\"’ containing the following components:\n",
      "\n",
      "\n",
      "\n",
      "statistic: the value of the Shapiro-Wilk statistic.\n",
      "\n",
      "\n",
      "\n",
      " p.value: an approximate p-value for the test.  This is said in Royston\n",
      "\n",
      "          (1995) to be adequate for ‘p.value < 0.1’.\n",
      "\n",
      "\n",
      "\n",
      "  method: the character string ‘\"Shapiro-Wilk normality test\"’.\n",
      "\n",
      "\n",
      "\n",
      "data.name: a character string giving the name(s) of the data.\n",
      "\n",
      "\n",
      "\n",
      "Source:\n",
      "\n",
      "\n",
      "\n",
      "     The algorithm used is a C translation of the Fortran code\n",
      "\n",
      "     described in Royston (1995).  The calculation of the p value is\n",
      "\n",
      "     exact for n = 3, otherwise approximations are used, separately for\n",
      "\n",
      "     4 <= n <= 11 and n >= 12.\n",
      "\n",
      "\n",
      "\n",
      "References:\n",
      "\n",
      "\n",
      "\n",
      "     Patrick Royston (1982).  An extension of Shapiro and Wilk's W test\n",
      "\n",
      "     for normality to large samples.  _Applied Statistics_, *31*,\n",
      "\n",
      "     115-124.  doi: 10.2307/2347973 (URL:\n",
      "\n",
      "     https://doi.org/10.2307/2347973).\n",
      "\n",
      "\n",
      "\n",
      "     Patrick Royston (1982).  Algorithm AS 181: The W test for\n",
      "\n",
      "     Normality.  _Applied Statistics_, *31*, 176-180.  doi:\n",
      "\n",
      "     10.2307/2347986 (URL: https://doi.org/10.2307/2347986).\n",
      "\n",
      "\n",
      "\n",
      "     Patrick Royston (1995).  Remark AS R94: A remark on Algorithm AS\n",
      "\n",
      "     181: The W test for normality.  _Applied Statistics_, *44*,\n",
      "\n",
      "     547-551.  doi: 10.2307/2986146 (URL:\n",
      "\n",
      "     https://doi.org/10.2307/2986146).\n",
      "\n",
      "\n",
      "\n",
      "See Also:\n",
      "\n",
      "\n",
      "\n",
      "     ‘qqnorm’ for producing a normal quantile-quantile plot.\n",
      "\n",
      "\n",
      "\n",
      "Examples:\n",
      "\n",
      "\n",
      "\n",
      "     shapiro.test(rnorm(100, mean = 5, sd = 3))\n",
      "\n",
      "     shapiro.test(runif(100, min = 2, max = 4))\n",
      "\n",
      "     \n",
      "\n",
      "---\n"
     ]
    }
   ],
   "source": [
    "%%R\n",
    "\n",
    "? shapiro.test"
   ]
  },
  {
   "cell_type": "code",
   "execution_count": null,
   "metadata": {},
   "outputs": [],
   "source": []
  },
  {
   "cell_type": "code",
   "execution_count": null,
   "metadata": {},
   "outputs": [
    {
     "name": "stdout",
     "output_type": "stream",
     "text": [
      "\n",
      "\tShapiro-Wilk normality test\n",
      "\n",
      "data:  coalash$coalash\n",
      "W = 0.93761, p-value = 8.865e-08\n",
      "\n"
     ]
    }
   ],
   "source": [
    "# Résultat attendu ci-dessous..."
   ]
  },
  {
   "cell_type": "code",
   "execution_count": null,
   "metadata": {
    "jupyter": {
     "outputs_hidden": false,
     "source_hidden": true
    }
   },
   "outputs": [
    {
     "data": {
      "text/html": [
       "<div class=\"alert alert-block alert-warning\">\n",
       "<b>Question 2.3.2: </b><br>Quelle est votre conclusion?\n",
       "\n",
       "</div>"
      ]
     },
     "metadata": {},
     "output_type": "display_data"
    }
   ],
   "source": [
    "\n",
    "%%display_prompt --title Question 2.3.2: --prompt 5175656c6c652065737420766f74726520636f6e636c7573696f6e3f0a --answer 4c6120702d76616c756520c3a974616e7420266c743b302e30352c206f6e20706575742072656a65746572206c276879706f7468c3a873652073656c6f6e206c617175656c6c65206c27c3a96368616e74696c6c6f6e2070726f7669656e74206427756e6520646973747269627574696f6e206e6f726d616c652e\n",
    "# @info: Exécutez-moi pour afficher la question"
   ]
  },
  {
   "cell_type": "markdown",
   "metadata": {},
   "source": [
    "<div class=\"alert alert-block alert-success\">\n",
    "\t<img align=\"right\" src=\"./Image_file/logo-Python3-64x64.png\" width=\"24\"/>\t<b>2.4 Filtrer le jeu de données</b>\n",
    "</div>"
   ]
  },
  {
   "cell_type": "markdown",
   "metadata": {},
   "source": [
    "- Déterminez quel est l'échantillon qui correspond au déviant (_outlier_) le plus marqué et créez un nouveau jeu de données nommé <i>robena</i> qui exclut cet échantillon"
   ]
  },
  {
   "cell_type": "markdown",
   "metadata": {},
   "source": [
    "<div class=\"alert alert-block alert-info\">\n",
    "<b>Info:</b><br>     Utilisez la méthode <code>drop</code> de la classe DataFrame de pandas pour exclure le déviant\n",
    "</div>"
   ]
  },
  {
   "cell_type": "code",
   "execution_count": 58,
   "metadata": {},
   "outputs": [],
   "source": []
  },
  {
   "cell_type": "markdown",
   "metadata": {},
   "source": [
    "- Comparez la variance du jeu de données avant et après suppression du déviant"
   ]
  },
  {
   "cell_type": "code",
   "execution_count": null,
   "metadata": {},
   "outputs": [],
   "source": []
  },
  {
   "cell_type": "code",
   "execution_count": null,
   "metadata": {},
   "outputs": [
    {
     "name": "stdout",
     "output_type": "stream",
     "text": [
      "Variance avant suppression du déviant : 1.629%²\n",
      "Variance après suppression du déviant : 1.338%²\n"
     ]
    }
   ],
   "source": [
    "# Résultat attendu ci-dessous..."
   ]
  },
  {
   "cell_type": "markdown",
   "metadata": {},
   "source": [
    "<div class=\"alert alert-block alert-info\">\n",
    "<b>Info:</b><br>     Si robena est un <b>GeoDataFrame</b>, il possède une colonne <b>geometry</b> dont le type ne peut être traduit dans <code>R</code>.<br> Il faut donc supprimer cette colonne avant d'envoyer ce jeu de données dans l'espace de travail de <code>R</code> avec <code>rpy2</code>.\n",
    "</div>"
   ]
  },
  {
   "cell_type": "code",
   "execution_count": 60,
   "metadata": {
    "jupyter": {
     "outputs_hidden": false,
     "source_hidden": true
    }
   },
   "outputs": [
    {
     "name": "stdout",
     "output_type": "stream",
     "text": [
      "# @info: Exécutez-moi pour avoir accès aux interactions\n"
     ]
    }
   ],
   "source": [
    "\n",
    "%%display_prompt --title=none --prompt 536920766f757320c3aa74726520626c6f7175c3a92865292c20616666696368657a20756e6520736f6c7574696f6e20656e207072657373616e7420737572206c6520626f75746f6e2063692d646573736f7573 --answer 3c636f64653e726f62656e61203d206764665f726f62656e612e636f707928293c62723e0a726f62656e612e64726f70285b2767656f6d65747279275d2c20617869733d312c20696e706c6163653d54727565293c62723e0a726f62656e612e6865616428293c2f636f64653e\n",
    "# @info: Exécutez-moi pour avoir accès aux interactions"
   ]
  },
  {
   "cell_type": "code",
   "execution_count": null,
   "metadata": {},
   "outputs": [],
   "source": []
  },
  {
   "cell_type": "code",
   "execution_count": null,
   "metadata": {
    "jupyter": {
     "outputs_hidden": false,
     "source_hidden": true
    }
   },
   "outputs": [
    {
     "data": {
      "text/html": [
       "<div>\n",
       "<style scoped>\n",
       "    .dataframe tbody tr th:only-of-type {\n",
       "        vertical-align: middle;\n",
       "    }\n",
       "\n",
       "    .dataframe tbody tr th {\n",
       "        vertical-align: top;\n",
       "    }\n",
       "\n",
       "    .dataframe thead th {\n",
       "        text-align: right;\n",
       "    }\n",
       "</style>\n",
       "<table border=\"1\" class=\"dataframe\">\n",
       "  <thead>\n",
       "    <tr style=\"text-align: right;\">\n",
       "      <th></th>\n",
       "      <th>x</th>\n",
       "      <th>y</th>\n",
       "      <th>coalash</th>\n",
       "    </tr>\n",
       "  </thead>\n",
       "  <tbody>\n",
       "    <tr>\n",
       "      <th>1</th>\n",
       "      <td>1</td>\n",
       "      <td>14</td>\n",
       "      <td>10.21</td>\n",
       "    </tr>\n",
       "    <tr>\n",
       "      <th>2</th>\n",
       "      <td>1</td>\n",
       "      <td>15</td>\n",
       "      <td>9.92</td>\n",
       "    </tr>\n",
       "    <tr>\n",
       "      <th>3</th>\n",
       "      <td>1</td>\n",
       "      <td>16</td>\n",
       "      <td>11.17</td>\n",
       "    </tr>\n",
       "    <tr>\n",
       "      <th>4</th>\n",
       "      <td>2</td>\n",
       "      <td>8</td>\n",
       "      <td>10.01</td>\n",
       "    </tr>\n",
       "    <tr>\n",
       "      <th>5</th>\n",
       "      <td>2</td>\n",
       "      <td>10</td>\n",
       "      <td>11.15</td>\n",
       "    </tr>\n",
       "  </tbody>\n",
       "</table>\n",
       "</div>"
      ],
      "text/plain": [
       "   x   y  coalash\n",
       "1  1  14    10.21\n",
       "2  1  15     9.92\n",
       "3  1  16    11.17\n",
       "4  2   8    10.01\n",
       "5  2  10    11.15"
      ]
     },
     "execution_count": 60,
     "metadata": {},
     "output_type": "execute_result"
    }
   ],
   "source": [
    "# Résultat attendu ci-dessous..."
   ]
  },
  {
   "cell_type": "markdown",
   "metadata": {},
   "source": [
    "<div class=\"alert alert-block alert-success\">\n",
    "\t<img align=\"right\" src=\"./Image_file/logo-ir-64x64.png\" width=\"24\"/>\t<b>2.5 Examiner la distribution du jeu de données filtré</b>\n",
    "</div>"
   ]
  },
  {
   "cell_type": "markdown",
   "metadata": {},
   "source": [
    "- Vérifiez s'il est plausible que la teneur du jeu de données filtré suive une loi normale à l'aide d'un test statistique"
   ]
  },
  {
   "cell_type": "code",
   "execution_count": null,
   "metadata": {},
   "outputs": [],
   "source": []
  },
  {
   "cell_type": "code",
   "execution_count": null,
   "metadata": {},
   "outputs": [
    {
     "name": "stdout",
     "output_type": "stream",
     "text": [
      "\n",
      "\tShapiro-Wilk normality test\n",
      "\n",
      "data:  robena$coalash\n",
      "W = 0.99228, p-value = 0.3467\n",
      "\n"
     ]
    }
   ],
   "source": [
    "# Résultat attendu ci-dessous..."
   ]
  },
  {
   "cell_type": "code",
   "execution_count": null,
   "metadata": {
    "jupyter": {
     "outputs_hidden": false,
     "source_hidden": true
    }
   },
   "outputs": [
    {
     "data": {
      "text/html": [
       "<div class=\"alert alert-block alert-warning\">\n",
       "<b>Question 2.5.1: </b><br>Quelle est votre conclusion?\n",
       "\n",
       "</div>"
      ]
     },
     "metadata": {},
     "output_type": "display_data"
    }
   ],
   "source": [
    "\n",
    "%%display_prompt --title Question 2.5.1: --prompt 5175656c6c652065737420766f74726520636f6e636c7573696f6e3f0a --answer 4c6120702d76616c756520c3a974616e74202667743b302e30352c206f6e203c623e6e653c2f623e2070657574203c623e7061733c2f623e2072656a65746572206c276879706f7468c3a873652073656c6f6e206c617175656c6c65206c27c3a96368616e74696c6c6f6e2070726f7669656e74206427756e6520646973747269627574696f6e206e6f726d616c652e\n",
    "# @info: Exécutez-moi pour afficher la question"
   ]
  },
  {
   "cell_type": "markdown",
   "metadata": {},
   "source": [
    "<div class=\"alert alert-block alert-success\">\n",
    "\t<img align=\"right\" src=\"./Image_file/logo-Python3-64x64.png\" width=\"24\"/>\t<b>2.6 Afficher la répartition spatiale des échantillons</b>\n",
    "</div>"
   ]
  },
  {
   "cell_type": "code",
   "execution_count": null,
   "metadata": {
    "jupyter": {
     "outputs_hidden": false,
     "source_hidden": true
    }
   },
   "outputs": [
    {
     "data": {
      "text/html": [
       "<div class=\"alert alert-block alert-warning\">\n",
       "<b>Question 2.6.1: </b><br>Comment localiser le déviant?\n",
       "\n",
       "\n",
       "</div>"
      ]
     },
     "metadata": {},
     "output_type": "display_data"
    }
   ],
   "source": [
    "\n",
    "%%display_prompt --title Question 2.6.1: --prompt 436f6d6d656e74206c6f63616c69736572206c652064c3a97669616e743f0a0a --answer 536f6c7574696f6e2073696d706c65203a20616666696368657a20756e65206361727465206fc3b920766f7573207375706572706f736572657a206175206a657520646520646f6e6ec3a9657320696e697469616c206c65206a657520646520646f6e6ec3a965732066696c7472c3a920656e207574696c6973616e742064657320636f756c657572732064696666c3a972656e7465732e\n",
    "# @info: Exécutez-moi pour afficher la question"
   ]
  },
  {
   "cell_type": "code",
   "execution_count": null,
   "metadata": {},
   "outputs": [],
   "source": []
  },
  {
   "cell_type": "code",
   "execution_count": null,
   "metadata": {},
   "outputs": [
    {
     "data": {
      "text/plain": [
       "<matplotlib.legend.Legend at 0x7f0b142de7f0>"
      ]
     },
     "execution_count": 62,
     "metadata": {},
     "output_type": "execute_result"
    },
    {
     "data": {
      "image/png": "[encoded data removed]",
      "text/plain": [
       "<Figure size 600x800 with 1 Axes>"
      ]
     },
     "metadata": {},
     "output_type": "display_data"
    }
   ],
   "source": [
    "# Résultat attendu ci-dessous..."
   ]
  },
  {
   "cell_type": "markdown",
   "metadata": {},
   "source": [
    "- Affichez des symboles dont la taille est proportionnelle à la variable <b>coalash</b>. <br> Commencez par écrire une fonction nommée *scale_symbols* pour déterminer la taille du symbole en fonction de la valeur de la variable."
   ]
  },
  {
   "cell_type": "code",
   "execution_count": 63,
   "metadata": {
    "jupyter": {
     "outputs_hidden": false,
     "source_hidden": true
    }
   },
   "outputs": [
    {
     "name": "stdout",
     "output_type": "stream",
     "text": [
      "# @info: Exécutez-moi pour avoir accès aux interactions\n"
     ]
    }
   ],
   "source": [
    "\n",
    "%%display_prompt --title=none --prompt 536920766f757320c3aa74726520626c6f7175c3a92865292c20616666696368657a20756e6520736f6c7574696f6e20656e207072657373616e7420737572206c6520626f75746f6e2063692d646573736f7573 --answer 3c636f64653e406b6565705f6f7574706f75743c62723e0a646566207363616c655f73796d626f6c732878293a3c62723e0a2020202072657475726e2035302a782a2a332f6e702e6d65616e2878292a2a333c62723e0a78203d206e702e6172616e676528372c31352c202e31293c62723e0a706c742e706c6f7428782c207363616c655f73796d626f6c732878292c20272d7227293c2f636f64653e\n",
    "# @info: Exécutez-moi pour avoir accès aux interactions"
   ]
  },
  {
   "cell_type": "code",
   "execution_count": 64,
   "metadata": {},
   "outputs": [],
   "source": []
  },
  {
   "cell_type": "markdown",
   "metadata": {},
   "source": [
    "***\n",
    "## 3. Préparation des outils pour la représentation des résultats sur carte"
   ]
  },
  {
   "cell_type": "markdown",
   "metadata": {},
   "source": [
    "<div class=\"alert alert-block alert-success\">\n",
    "\t<img align=\"right\" src=\"./Image_file/logo-Python3-64x64.png\" width=\"24\"/>\t<b>3.1 Créer une grille pour les prédictions</b>\n",
    "</div>"
   ]
  },
  {
   "cell_type": "code",
   "execution_count": 65,
   "metadata": {},
   "outputs": [],
   "source": [
    "import rasterio as rio\n",
    "from rasterio import Affine, features\n",
    "from rasterio.plot import show\n",
    "from rasterio.mask import mask"
   ]
  },
  {
   "cell_type": "markdown",
   "metadata": {},
   "source": [
    "- Construisez une aire englobant les points d'échantillonnage à l'aide un buffer de rayon 2 autour de l'enveloppe convexe des points d'échantillonnage"
   ]
  },
  {
   "cell_type": "markdown",
   "metadata": {},
   "source": [
    "<div class=\"alert alert-block alert-info\">\n",
    "<b>Info:</b><br>     Décomposez le problème en plusieurs étapes. Commencez par constuire une <b>géométrie</b> réunissant les <b>géoséries</b> des points d'échantillonage du <b>GeoDataFrame</b>. Construisez ensuite <b>l'enveloppe convexe</b> de cette géométrie et appliquez-y un <b>buffer</b> de rayon souhaité.\n",
    "</div>"
   ]
  },
  {
   "cell_type": "code",
   "execution_count": 66,
   "metadata": {
    "jupyter": {
     "outputs_hidden": false,
     "source_hidden": true
    }
   },
   "outputs": [
    {
     "name": "stdout",
     "output_type": "stream",
     "text": [
      "# @info: Exécutez-moi pour avoir accès aux interactions\n"
     ]
    }
   ],
   "source": [
    "\n",
    "%%display_prompt --title=none --prompt 536920766f757320c3aa74726520626c6f7175c3a92865292c20616666696368657a20756e6520736f6c7574696f6e20656e207072657373616e7420737572206c6520626f75746f6e2063692d646573736f7573 --answer 3c636f64653e635f68756c6c203d206764665f636f616c6173682e67656f6d657472792e756e6172795f756e696f6e2e636f6e7665785f68756c6c2e6275666665722832293c62723e0a635f68756c6c3c2f636f64653e\n",
    "# @info: Exécutez-moi pour avoir accès aux interactions"
   ]
  },
  {
   "cell_type": "code",
   "execution_count": null,
   "metadata": {},
   "outputs": [],
   "source": []
  },
  {
   "cell_type": "code",
   "execution_count": null,
   "metadata": {
    "jupyter": {
     "outputs_hidden": false,
     "source_hidden": true
    }
   },
   "outputs": [
    {
     "data": {
      "image/svg+xml": [
       "<svg xmlns=\"http://www.w3.org/2000/svg\" xmlns:xlink=\"http://www.w3.org/1999/xlink\" width=\"100.0\" height=\"100.0\" viewBox=\"-2.04 -2.04 21.078310305642173 28.08\" preserveAspectRatio=\"xMinYMin meet\"><g transform=\"matrix(1,0,0,-1,0,24.0)\"><path fill-rule=\"evenodd\" fill=\"#66cc99\" stroke=\"#555555\" stroke-width=\"0.5616\" opacity=\"0.6\" d=\"M 4.0,-1.0 L 3.808134629496542,-0.9907756477317002 L 3.618039092758695,-0.9631876796015706 L 3.4314668979819616,-0.9174905767460102 L 3.2501390528144314,-0.8541058653393991 L 3.0757281891759827,-0.773618228288177 L 2.909843134312233,-0.6767701119097467 L 2.754014070405293,-0.5644548773461042 L 2.60967841963428,-0.4377085598859618 L 2.47816758488678,-0.2977003122102819 L 2.3606946684296006,-0.1457216197160911 L 2.2583432818261295,0.016825612599767226 L 2.1720575503215445,0.18844199180617582 L 2.1026334038989725,0.3675444679663241 L 1.1026334038989725,3.367544467966324 L 1.0597149997093362,3.514928749927334 L 0.05971499970933625,7.514928749927334 L 0.027212152335712503,7.671202025389285 L -0.9727878476642875,13.671202025389285 L -0.9931853520594334,13.835038936910212 L -1.0,14.0 L -1.0,16.0 L -0.9915550584197714,16.183598609152195 L -0.9662915507173795,16.365646738775887 L -0.9244228257394826,16.544607003051617 L -0.866302462422557,16.718968093002395 L -0.7924212838394369,16.887257539409717 L -0.7034032122271345,17.048054147730106 L -0.6000000000000001,17.2 L 2.4,21.2 L 2.585786437626905,21.414213562373096 L 3.585786437626905,22.414213562373096 L 3.74529626969811,22.55747184538486 L 3.9192246307458327,22.682832315239256 L 4.105572809000084,22.788854381999833 L 6.105572809000084,23.788854381999833 L 6.367544467966324,23.897366596101026 L 9.367544467966324,24.897366596101026 L 9.57428145083348,24.954165734244555 L 9.785910612697764,24.988508419455286 L 10.0,25.0 L 14.0,25.0 L 14.191865370503459,24.9907756477317 L 14.381960907241305,24.96318767960157 L 14.568533102018039,24.91749057674601 L 14.749860947185569,24.8541058653394 L 14.924271810824019,24.773618228288175 L 15.090156865687767,24.676770111909747 L 15.245985929594708,24.564454877346105 L 15.390321580365722,24.437708559885962 L 15.521832415113222,24.29770031221028 L 15.6393053315704,24.145721619716088 L 15.741656718173871,23.98317438740023 L 15.827942449678456,23.81155800819382 L 15.897366596101028,23.632455532033674 L 17.897366596101026,17.632455532033674 L 17.948148861579845,17.452455537180345 L 17.98189513186651,17.268498950247178 L 17.998310305642175,17.08219441808471 L 17.997250836986385,16.89517111964164 L 17.9787259906444,16.709064519268715 L 17.942897761009686,16.525502065058706 L 17.890079455530067,16.346088957286106 L 17.82073295492521,16.172394111397633 L 12.820732954925209,5.172394111397632 L 12.788854381999831,5.105572809000084 L 11.788854381999831,3.1055728090000843 L 11.682832315239256,2.9192246307458323 L 11.55747184538486,2.745296269698109 L 11.414213562373096,2.585786437626905 L 9.414213562373096,0.5857864376269051 L 9.254703730301891,0.44252815461514117 L 9.08077536925417,0.31716768476074364 L 8.894427190999917,0.2111456180001683 L 6.894427190999916,-0.7888543819998317 L 6.724942474495178,-0.8639899164622133 L 6.549228614082087,-0.9231089229353262 L 6.36879544945374,-0.9657034151830264 L 6.1851933714174825,-0.9914073955830902 L 6.0,-1.0 L 4.0,-1.0 z\" /></g></svg>"
      ],
      "text/plain": [
       "<POLYGON ((4 -1, 3.808 -0.991, 3.618 -0.963, 3.431 -0.917, 3.25 -0.854, 3.07...>"
      ]
     },
     "execution_count": 66,
     "metadata": {},
     "output_type": "execute_result"
    }
   ],
   "source": [
    "# Résultat attendu ci-dessous..."
   ]
  },
  {
   "cell_type": "markdown",
   "metadata": {},
   "source": [
    "- Recherchez une solution alternative basée sur l'utilisation d'un *buffer* de rayon 2 autour des points d'échantillonnage"
   ]
  },
  {
   "cell_type": "code",
   "execution_count": null,
   "metadata": {},
   "outputs": [],
   "source": []
  },
  {
   "cell_type": "code",
   "execution_count": null,
   "metadata": {},
   "outputs": [
    {
     "data": {
      "image/svg+xml": [
       "<svg xmlns=\"http://www.w3.org/2000/svg\" xmlns:xlink=\"http://www.w3.org/1999/xlink\" width=\"100.0\" height=\"100.0\" viewBox=\"-2.04 -2.04 21.08 28.08\" preserveAspectRatio=\"xMinYMin meet\"><g transform=\"matrix(1,0,0,-1,0,24.0)\"><path fill-rule=\"evenodd\" fill=\"#66cc99\" stroke=\"#555555\" stroke-width=\"0.5616\" opacity=\"0.6\" d=\"M -0.9340622441599339,14.5 L -0.9615705608064609,14.609819355967742 L -0.9903694533443936,14.803965719340878 L -1.0,15.0 L -0.9903694533443939,15.196034280659122 L -0.9615705608064609,15.390180644032256 L -0.9340622441599339,15.5 L -0.9615705608064609,15.609819355967742 L -0.9903694533443936,15.803965719340878 L -1.0,16.0 L -0.9903694533443939,16.19603428065912 L -0.9615705608064609,16.390180644032256 L -0.9138806714644179,16.580569354508924 L -0.8477590650225737,16.76536686473018 L -0.7638425286967101,16.942793473651996 L -0.6629392246050909,17.111140466039203 L -0.5460209067254742,17.26878656832729 L -0.41421356237309537,17.414213562373096 L -0.26878656832729186,17.546020906725474 L -0.11114046603920436,17.66293922460509 L 0.05720652634800427,17.76384252869671 L 0.23463313526981933,17.847759065022572 L 0.4194306454910751,17.91388067146442 L 0.6098193559677427,17.96157056080646 L 0.8039657193408791,17.990369453344393 L 0.9999999999999997,18.0 L 1.1960342806591202,17.990369453344393 L 1.259069047378105,17.981019128973884 L 1.337060775394909,18.111140466039203 L 1.4539790932745258,18.26878656832729 L 1.5857864376269046,18.414213562373096 L 1.7312134316727081,18.546020906725474 L 1.8888595339607956,18.66293922460509 L 2.0189808710261166,18.740930952621895 L 2.0096305466556066,18.80396571934088 L 2.0,19.0 L 2.009630546655606,19.19603428065912 L 2.038429439193539,19.390180644032256 L 2.065937755840066,19.5 L 2.038429439193539,19.609819355967744 L 2.0096305466556066,19.80396571934088 L 2.0,20.0 L 2.009630546655606,20.19603428065912 L 2.038429439193539,20.390180644032256 L 2.086119328535582,20.580569354508924 L 2.152240934977426,20.76536686473018 L 2.23615747130329,20.942793473651996 L 2.3370607753949093,21.111140466039203 L 2.453979093274526,21.26878656832729 L 2.5857864376269046,21.414213562373096 L 2.731213431672708,21.546020906725474 L 2.8888595339607956,21.66293922460509 L 3.057206526348004,21.76384252869671 L 3.1786968347954674,21.82130316520453 L 3.23615747130329,21.942793473651996 L 3.3370607753949093,22.111140466039203 L 3.453979093274526,22.26878656832729 L 3.5857864376269046,22.414213562373096 L 3.731213431672708,22.546020906725474 L 3.8888595339607956,22.66293922460509 L 4.057206526348004,22.76384252869671 L 4.234633135269819,22.847759065022572 L 4.419430645491075,22.91388067146442 L 4.609819355967742,22.96157056080646 L 4.803965719340879,22.990369453344393 L 5.0,23.0 L 5.19603428065912,22.990369453344393 L 5.259069047378105,22.981019128973884 L 5.337060775394909,23.111140466039203 L 5.453979093274526,23.26878656832729 L 5.585786437626904,23.414213562373096 L 5.731213431672709,23.546020906725474 L 5.888859533960796,23.66293922460509 L 6.057206526348004,23.76384252869671 L 6.234633135269819,23.847759065022572 L 6.419430645491075,23.91388067146442 L 6.609819355967742,23.96157056080646 L 6.803965719340879,23.990369453344393 L 7.0,24.0 L 7.19603428065912,23.990369453344393 L 7.390180644032257,23.96157056080646 L 7.5,23.934062244159936 L 7.609819355967742,23.96157056080646 L 7.803965719340879,23.990369453344393 L 8.0,24.0 L 8.19603428065912,23.990369453344393 L 8.259069047378105,23.981019128973884 L 8.337060775394908,24.111140466039203 L 8.453979093274526,24.26878656832729 L 8.585786437626904,24.414213562373096 L 8.731213431672709,24.546020906725474 L 8.888859533960796,24.66293922460509 L 9.057206526348004,24.76384252869671 L 9.234633135269819,24.847759065022572 L 9.419430645491076,24.91388067146442 L 9.609819355967742,24.96157056080646 L 9.803965719340878,24.990369453344393 L 10.0,25.0 L 10.19603428065912,24.990369453344393 L 10.390180644032256,24.96157056080646 L 10.5,24.934062244159936 L 10.609819355967742,24.96157056080646 L 10.803965719340878,24.990369453344393 L 11.0,25.0 L 11.19603428065912,24.990369453344393 L 11.390180644032256,24.96157056080646 L 11.5,24.934062244159936 L 11.609819355967742,24.96157056080646 L 11.803965719340878,24.990369453344393 L 12.0,25.0 L 12.19603428065912,24.990369453344393 L 12.390180644032256,24.96157056080646 L 12.5,24.934062244159936 L 12.609819355967742,24.96157056080646 L 12.803965719340878,24.990369453344393 L 13.0,25.0 L 13.19603428065912,24.990369453344393 L 13.390180644032256,24.96157056080646 L 13.5,24.934062244159936 L 13.609819355967742,24.96157056080646 L 13.803965719340878,24.990369453344393 L 14.0,25.0 L 14.19603428065912,24.990369453344393 L 14.390180644032256,24.96157056080646 L 14.580569354508924,24.91388067146442 L 14.76536686473018,24.847759065022572 L 14.942793473651996,24.76384252869671 L 15.111140466039204,24.66293922460509 L 15.268786568327291,24.546020906725474 L 15.414213562373094,24.414213562373096 L 15.546020906725474,24.268786568327293 L 15.66293922460509,24.111140466039203 L 15.76384252869671,23.942793473651996 L 15.847759065022572,23.76536686473018 L 15.913880671464417,23.580569354508924 L 15.96157056080646,23.390180644032256 L 15.990369453344394,23.19603428065912 L 16.0,23.0 L 15.990369453344394,22.80396571934088 L 15.96157056080646,22.609819355967744 L 15.913880671464417,22.419430645491076 L 15.847759065022574,22.23463313526982 L 15.76384252869671,22.057206526348004 L 15.72955425634765,22.0 L 15.76384252869671,21.942793473651996 L 15.847759065022572,21.76536686473018 L 15.913880671464417,21.580569354508924 L 15.96157056080646,21.390180644032256 L 15.990369453344394,21.19603428065912 L 16.0,21.0 L 15.990369453344394,20.80396571934088 L 15.981019128973884,20.740930952621895 L 16.111140466039203,20.66293922460509 L 16.26878656832729,20.546020906725474 L 16.414213562373096,20.414213562373096 L 16.546020906725474,20.268786568327293 L 16.66293922460509,20.111140466039203 L 16.76384252869671,19.942793473651996 L 16.847759065022572,19.76536686473018 L 16.91388067146442,19.580569354508924 L 16.96157056080646,19.390180644032256 L 16.990369453344393,19.19603428065912 L 17.0,19.0 L 16.990369453344393,18.80396571934088 L 16.981019128973884,18.740930952621895 L 17.111140466039203,18.66293922460509 L 17.26878656832729,18.546020906725474 L 17.414213562373096,18.414213562373096 L 17.546020906725474,18.268786568327293 L 17.66293922460509,18.111140466039203 L 17.76384252869671,17.942793473651996 L 17.847759065022572,17.76536686473018 L 17.91388067146442,17.580569354508924 L 17.96157056080646,17.390180644032256 L 17.990369453344393,17.19603428065912 L 18.0,17.0 L 17.990369453344393,16.80396571934088 L 17.96157056080646,16.609819355967744 L 17.91388067146442,16.419430645491076 L 17.847759065022572,16.23463313526982 L 17.76384252869671,16.057206526348004 L 17.66293922460509,15.888859533960796 L 17.546020906725474,15.731213431672709 L 17.414213562373096,15.585786437626904 L 17.26878656832729,15.453979093274526 L 17.111140466039206,15.33706077539491 L 16.942793473651996,15.23615747130329 L 16.76536686473018,15.152240934977426 L 16.580569354508924,15.086119328535583 L 16.390180644032256,15.03842943919354 L 16.19603428065912,15.009630546655606 L 16.0,15.0 L 15.803965719340878,15.009630546655606 L 15.609819355967744,15.03842943919354 L 15.5,15.065937755840066 L 15.390180644032256,15.03842943919354 L 15.196034280659122,15.009630546655606 L 15.0,15.0 L 14.803965719340878,15.009630546655606 L 14.609819355967744,15.03842943919354 L 14.419430645491076,15.086119328535583 L 14.23463313526982,15.152240934977426 L 14.057206526348004,15.23615747130329 L 14.0,15.27044574365235 L 13.942793473651996,15.23615747130329 L 13.76536686473018,15.152240934977426 L 13.580569354508924,15.086119328535583 L 13.390180644032256,15.03842943919354 L 13.196034280659122,15.009630546655606 L 13.0,15.0 L 12.803965719340878,15.009630546655606 L 12.740930952621895,15.018980871026116 L 12.66293922460509,14.888859533960796 L 12.660330266287527,14.88534176089277 L 12.76536686473018,14.847759065022574 L 12.942793473651996,14.76384252869671 L 13.111140466039204,14.662939224605092 L 13.268786568327291,14.546020906725474 L 13.414213562373094,14.414213562373096 L 13.546020906725474,14.268786568327291 L 13.66293922460509,14.111140466039204 L 13.76384252869671,13.942793473651996 L 13.847759065022572,13.765366864730181 L 13.913880671464417,13.580569354508924 L 13.96157056080646,13.390180644032258 L 13.990369453344394,13.196034280659122 L 14.0,13.0 L 13.990369453344394,12.803965719340878 L 13.96157056080646,12.609819355967744 L 13.934062244159934,12.5 L 13.96157056080646,12.390180644032258 L 13.990369453344394,12.196034280659122 L 14.0,12.0 L 13.990369453344394,11.803965719340878 L 13.96157056080646,11.609819355967744 L 13.934062244159934,11.5 L 13.96157056080646,11.390180644032258 L 13.990369453344394,11.196034280659122 L 14.0,11.0 L 13.990369453344394,10.803965719340878 L 13.96157056080646,10.609819355967744 L 13.913880671464417,10.419430645491076 L 13.847759065022574,10.23463313526982 L 13.76384252869671,10.057206526348004 L 13.66293922460509,9.888859533960796 L 13.546020906725474,9.731213431672709 L 13.414213562373096,9.585786437626904 L 13.268786568327291,9.453979093274526 L 13.111140466039204,9.33706077539491 L 12.981019128973884,9.259069047378105 L 12.990369453344394,9.196034280659122 L 13.0,9.0 L 12.990369453344394,8.803965719340878 L 12.96157056080646,8.609819355967744 L 12.934062244159934,8.5 L 12.96157056080646,8.390180644032258 L 12.990369453344394,8.196034280659122 L 13.0,8.0 L 12.990369453344394,7.803965719340879 L 12.96157056080646,7.609819355967743 L 12.934062244159934,7.5 L 12.96157056080646,7.390180644032258 L 12.990369453344394,7.196034280659121 L 13.0,7.0 L 12.990369453344394,6.803965719340879 L 12.96157056080646,6.609819355967743 L 12.934062244159934,6.5 L 12.96157056080646,6.390180644032258 L 12.990369453344394,6.196034280659121 L 13.0,6.0 L 12.990369453344394,5.803965719340879 L 12.96157056080646,5.609819355967743 L 12.913880671464417,5.419430645491075 L 12.847759065022574,5.234633135269821 L 12.76384252869671,5.057206526348005 L 12.66293922460509,4.888859533960796 L 12.546020906725474,4.731213431672709 L 12.414213562373096,4.585786437626905 L 12.268786568327291,4.453979093274526 L 12.111140466039204,4.337060775394909 L 11.981019128973884,4.259069047378106 L 11.990369453344394,4.196034280659121 L 12.0,4.0 L 11.990369453344394,3.8039657193408787 L 11.96157056080646,3.6098193559677436 L 11.913880671464417,3.4194306454910754 L 11.847759065022574,3.2346331352698203 L 11.76384252869671,3.0572065263480046 L 11.66293922460509,2.8888595339607956 L 11.546020906725474,2.731213431672709 L 11.414213562373096,2.585786437626905 L 11.268786568327291,2.4539790932745262 L 11.111140466039204,2.3370607753949093 L 10.942793473651996,2.23615747130329 L 10.76536686473018,2.1522409349774265 L 10.580569354508924,2.086119328535582 L 10.390180644032256,2.038429439193539 L 10.196034280659122,2.0096305466556066 L 10.0,2.0 L 9.990369453344394,1.8039657193408787 L 9.96157056080646,1.6098193559677436 L 9.913880671464417,1.4194306454910754 L 9.847759065022574,1.2346331352698203 L 9.76384252869671,1.0572065263480046 L 9.66293922460509,0.8888595339607956 L 9.546020906725474,0.731213431672709 L 9.414213562373096,0.5857864376269051 L 9.268786568327291,0.453979093274526 L 9.111140466039204,0.33706077539490953 L 8.942793473651996,0.23615747130329012 L 8.76536686473018,0.15224093497742652 L 8.580569354508924,0.08611932853558213 L 8.390180644032256,0.03842943919353914 L 8.196034280659122,0.009630546655606365 L 8.0,0.0 L 7.803965719340879,0.009630546655606143 L 7.740930952621894,0.018980871026116168 L 7.662939224605091,-0.11114046603920436 L 7.546020906725474,-0.268786568327291 L 7.414213562373095,-0.4142135623730949 L 7.268786568327291,-0.546020906725474 L 7.111140466039204,-0.6629392246050905 L 6.942793473651996,-0.7638425286967099 L 6.765366864730179,-0.8477590650225735 L 6.580569354508925,-0.9138806714644179 L 6.390180644032257,-0.9615705608064609 L 6.196034280659122,-0.9903694533443936 L 6.0,-1.0 L 5.803965719340879,-0.9903694533443939 L 5.609819355967744,-0.9615705608064609 L 5.5,-0.934062244159934 L 5.390180644032257,-0.9615705608064609 L 5.196034280659122,-0.9903694533443936 L 5.0,-1.0 L 4.803965719340879,-0.9903694533443939 L 4.609819355967744,-0.9615705608064609 L 4.5,-0.934062244159934 L 4.390180644032257,-0.9615705608064609 L 4.196034280659122,-0.9903694533443936 L 4.0,-1.0 L 3.8039657193408787,-0.9903694533443939 L 3.6098193559677436,-0.9615705608064609 L 3.419430645491076,-0.9138806714644179 L 3.2346331352698208,-0.8477590650225735 L 3.0572065263480046,-0.7638425286967101 L 2.888859533960796,-0.6629392246050909 L 2.7312134316727095,-0.5460209067254742 L 2.585786437626905,-0.41421356237309515 L 2.4539790932745262,-0.268786568327291 L 2.3370607753949093,-0.11114046603920436 L 2.23615747130329,0.05720652634800427 L 2.1522409349774265,0.23463313526982021 L 2.0861193285355824,0.4194306454910752 L 2.038429439193539,0.6098193559677427 L 2.0096305466556066,0.8039657193408783 L 2.0,0.9999999999999998 L 2.009630546655606,1.196034280659121 L 2.038429439193539,1.3901806440322568 L 2.065937755840066,1.5000000000000002 L 2.038429439193539,1.6098193559677427 L 2.0096305466556066,1.8039657193408782 L 2.0,1.9999999999999998 L 2.009630546655606,2.1960342806591213 L 2.018980871026116,2.2590690473781057 L 1.888859533960796,2.3370607753949093 L 1.7312134316727092,2.453979093274526 L 1.585786437626905,2.585786437626905 L 1.453979093274526,2.731213431672709 L 1.3370607753949093,2.8888595339607956 L 1.2361574713032901,3.057206526348004 L 1.1522409349774265,3.2346331352698203 L 1.0861193285355824,3.419430645491075 L 1.0384294391935391,3.6098193559677427 L 1.0096305466556064,3.8039657193408782 L 1.0,3.9999999999999996 L 1.0096305466556061,4.196034280659121 L 1.0384294391935391,4.390180644032257 L 1.065937755840066,4.5 L 1.0384294391935391,4.609819355967743 L 1.0096305466556064,4.803965719340878 L 1.0,5.0 L 1.0096305466556061,5.196034280659121 L 1.0384294391935391,5.390180644032257 L 1.065937755840066,5.5 L 1.0384294391935391,5.609819355967743 L 1.0096305466556064,5.803965719340878 L 1.0,6.0 L 1.0096305466556061,6.196034280659121 L 1.0189808710261161,6.259069047378106 L 0.8888595339607961,6.337060775394909 L 0.7312134316727092,6.453979093274526 L 0.5857864376269051,6.585786437626905 L 0.453979093274526,6.731213431672709 L 0.3370607753949093,6.888859533960796 L 0.23615747130329012,7.057206526348004 L 0.15224093497742652,7.23463313526982 L 0.08611932853558235,7.419430645491075 L 0.03842943919353914,7.609819355967743 L 0.009630546655606365,7.803965719340878 L 0.0,8.0 L 0.009630546655606143,8.196034280659122 L 0.03842943919353914,8.390180644032256 L 0.08611932853558213,8.580569354508924 L 0.1522409349774263,8.76536686473018 L 0.2361574713032899,8.942793473651996 L 0.2704457436523509,9.0 L 0.23615747130329012,9.057206526348004 L 0.15224093497742652,9.23463313526982 L 0.08611932853558235,9.419430645491076 L 0.03842943919353914,9.609819355967742 L 0.009630546655606365,9.803965719340878 L 0.0,10.0 L 0.009630546655606143,10.196034280659122 L 0.03842943919353914,10.390180644032256 L 0.06593775584006611,10.5 L 0.03842943919353914,10.609819355967742 L 0.009630546655606365,10.803965719340878 L 0.0,11.0 L 0.009630546655606143,11.196034280659122 L 0.03842943919353914,11.390180644032256 L 0.06593775584006611,11.5 L 0.03842943919353914,11.609819355967742 L 0.009630546655606365,11.803965719340878 L 0.0,12.0 L 0.009630546655606143,12.196034280659122 L 0.01898087102611606,12.259069047378105 L -0.11114046603920391,12.337060775394908 L -0.26878656832729075,12.453979093274526 L -0.4142135623730949,12.585786437626904 L -0.546020906725474,12.731213431672709 L -0.6629392246050907,12.888859533960796 L -0.7638425286967099,13.057206526348004 L -0.8477590650225735,13.23463313526982 L -0.9138806714644176,13.419430645491076 L -0.9615705608064609,13.609819355967742 L -0.9903694533443936,13.803965719340878 L -1.0,14.0 L -0.9903694533443939,14.196034280659122 L -0.9615705608064609,14.390180644032256 L -0.9340622441599339,14.5 z\" /></g></svg>"
      ],
      "text/plain": [
       "<POLYGON ((-0.934 14.5, -0.962 14.61, -0.99 14.804, -1 15, -0.99 15.196, -0....>"
      ]
     },
     "execution_count": 67,
     "metadata": {},
     "output_type": "execute_result"
    }
   ],
   "source": [
    "# Résultat attendu ci-dessous..."
   ]
  },
  {
   "cell_type": "markdown",
   "metadata": {},
   "source": [
    "- Construire la grille d'estimation suppose de choisir une résolution, fixez le nombre de pixels par unité de longueur à 10"
   ]
  },
  {
   "cell_type": "code",
   "execution_count": 68,
   "metadata": {
    "jupyter": {
     "outputs_hidden": false,
     "source_hidden": true
    }
   },
   "outputs": [
    {
     "name": "stdout",
     "output_type": "stream",
     "text": [
      "# @info: Exécutez-moi pour avoir accès aux interactions\n"
     ]
    }
   ],
   "source": [
    "\n",
    "%%display_prompt --title=none --prompt 536920766f757320c3aa74726520626c6f7175c3a92865292c20616666696368657a20756e6520736f6c7574696f6e20656e207072657373616e7420737572206c6520626f75746f6e2063692d646573736f7573 --answer 3c636f64653e657374696d6174696f6e5f7a6f6e65203d20635f68756c6c3c62723e0a706978656c735f7065725f756e69745f6c656e677468203d2031303c2f636f64653e\n",
    "# @info: Exécutez-moi pour avoir accès aux interactions"
   ]
  },
  {
   "cell_type": "markdown",
   "metadata": {},
   "source": [
    "- Déterminez le nombre de lignes et colonnes nécessaires pour la grille "
   ]
  },
  {
   "cell_type": "code",
   "execution_count": 69,
   "metadata": {
    "jupyter": {
     "outputs_hidden": false,
     "source_hidden": true
    }
   },
   "outputs": [
    {
     "name": "stdout",
     "output_type": "stream",
     "text": [
      "# @info: Exécutez-moi pour avoir accès aux interactions\n"
     ]
    }
   ],
   "source": [
    "\n",
    "%%display_prompt --title=none --prompt 536920766f757320c3aa74726520626c6f7175c3a92865292c20616666696368657a20756e6520736f6c7574696f6e20656e207072657373616e7420737572206c6520626f75746f6e2063692d646573736f7573 --answer 3c636f64653e6d696e782c206d696e792c206d6178782c206d617879203d20657374696d6174696f6e5f7a6f6e652e626f756e64733c62723e0a6e636f6c73203d20696e7428286d6178782d6d696e78292a706978656c735f7065725f756e69745f6c656e677468293c62723e0a6e726f7773203d20696e7428286d6178792d6d696e79292a706978656c735f7065725f756e69745f6c656e677468293c2f636f64653e\n",
    "# @info: Exécutez-moi pour avoir accès aux interactions"
   ]
  },
  {
   "cell_type": "markdown",
   "metadata": {},
   "source": [
    "- À partir des informations obtenues dans les deux cellules ci-dessus, déterminez la transformation affine pour passer de l'espace de la grille à l'espace des coordonnées du jeu de données"
   ]
  },
  {
   "cell_type": "markdown",
   "metadata": {},
   "source": [
    "<div class=\"alert alert-block alert-info\">\n",
    "<b>Info:</b><br>     Utilisez la fonction <b>Affine</b> de la librairie <code>Rasterio</code>.\n",
    "</div>"
   ]
  },
  {
   "cell_type": "code",
   "execution_count": 70,
   "metadata": {
    "jupyter": {
     "outputs_hidden": false,
     "source_hidden": true
    }
   },
   "outputs": [
    {
     "name": "stdout",
     "output_type": "stream",
     "text": [
      "# @info: Exécutez-moi pour avoir accès aux interactions\n"
     ]
    }
   ],
   "source": [
    "\n",
    "%%display_prompt --title=none --prompt 536920766f757320c3aa74726520626c6f7175c3a92865292c20616666696368657a20756e6520736f6c7574696f6e20656e207072657373616e7420737572206c6520626f75746f6e2063692d646573736f7573 --answer 3c636f64653e7472616e73666f726d203d20416666696e6528312f706978656c735f7065725f756e69745f6c656e6774682c20302c206d696e782c20302c202d312f706978656c735f7065725f756e69745f6c656e6774682c206d617879293c2f636f64653e\n",
    "# @info: Exécutez-moi pour avoir accès aux interactions"
   ]
  },
  {
   "cell_type": "markdown",
   "metadata": {},
   "source": [
    "- *Rasterisez* le masque utilisé pour déterminer les pixels de la grille où une évaluation devra être faite"
   ]
  },
  {
   "cell_type": "markdown",
   "metadata": {},
   "source": [
    "<div class=\"alert alert-block alert-info\">\n",
    "<b>Info:</b><br>     Utilisez une méthode de la classe <b>features</b> de la librairie <code>Rasterio</code> pour rasteriser la grille et sauvegardez ce raster dans un fichier <i>robena_estimation_grid.tif</i>.\n",
    "</div>"
   ]
  },
  {
   "cell_type": "code",
   "execution_count": 71,
   "metadata": {
    "jupyter": {
     "outputs_hidden": false,
     "source_hidden": true
    }
   },
   "outputs": [
    {
     "name": "stdout",
     "output_type": "stream",
     "text": [
      "# @info: Exécutez-moi pour avoir accès aux interactions\n"
     ]
    }
   ],
   "source": [
    "\n",
    "%%display_prompt --title=none --prompt 536920766f757320c3aa74726520626c6f7175c3a92865292c20616666696368657a20756e6520736f6c7574696f6e20656e207072657373616e7420737572206c6520626f75746f6e2063692d646573736f7573 --answer 3c636f64653e696d6167655f66696c65203d20272e2f726f62656e615f657374696d6174696f6e5f677269642e746966273c62723e0a6d657461646174613d7b277472616e73666f726d273a207472616e73666f726d2c2027686569676874273a206e726f77732c20277769647468273a206e636f6c732c2027636f756e74273a20312c3c62723e0a20202020202020202020276474797065273a2027696e743332272c20276e6f64617461273a20307d3c62723e0a726173746572203d2066656174757265732e726173746572697a65285b657374696d6174696f6e5f7a6f6e655d2c206f75745f73686170653d286e726f77732c206e636f6c73292c207472616e73666f726d3d7472616e73666f726d293c62723e0a776974682072696f2e6f70656e28696d6167655f66696c652c202777272c202a2a6d6574616461746129206173206473743a3c62723e0a202020206473742e7772697465287261737465722c2031293c2f636f64653e\n",
    "# @info: Exécutez-moi pour avoir accès aux interactions"
   ]
  },
  {
   "cell_type": "markdown",
   "metadata": {},
   "source": [
    "- Représentez sur une même figure les points d'échantillonnage et la grille d'évaluation"
   ]
  },
  {
   "cell_type": "code",
   "execution_count": 72,
   "metadata": {
    "jupyter": {
     "outputs_hidden": false,
     "source_hidden": true
    }
   },
   "outputs": [
    {
     "name": "stdout",
     "output_type": "stream",
     "text": [
      "# @info: Exécutez-moi pour avoir accès aux interactions\n"
     ]
    }
   ],
   "source": [
    "\n",
    "%%display_prompt --title=none --prompt 536920766f757320c3aa74726520626c6f7175c3a92865292c20616666696368657a20756e6520736f6c7574696f6e20656e207072657373616e7420737572206c6520626f75746f6e2063692d646573736f7573 --answer 3c636f64653e6669672c206178203d20706c742e737562706c6f74732866696773697a653d28382c3829293c62723e0a6f7574203d2072696f2e6f70656e28696d6167655f66696c652c20277227293c62723e0a73686f77286f75742c2061783d6178293c62723e0a6764665f636f616c6173682e706c6f742861783d61782c206d61726b65723d2778272c20636f6c6f723d276772657927293c2f636f64653e\n",
    "# @info: Exécutez-moi pour avoir accès aux interactions"
   ]
  },
  {
   "cell_type": "markdown",
   "metadata": {},
   "source": [
    "***\n",
    "## 4. Interpolation"
   ]
  },
  {
   "cell_type": "markdown",
   "metadata": {},
   "source": [
    "<div class=\"alert alert-block alert-success\">\n",
    "\t<img align=\"right\" src=\"./Image_file/logo-ir-64x64.png\" width=\"24\"/>\t<b>4.1 Interpoler la teneur en cendres par la méthode de la pondération par l'inverse de la distance</b>\n",
    "</div>"
   ]
  },
  {
   "cell_type": "markdown",
   "metadata": {},
   "source": [
    "- gstat nécessite une grille qui soit un objet de la classe **SpatialPixelsDataFrame**. Importez dans l'environnement <code>R</code> le fichier robena_estimation_grid.tif avec la librairie <b>Raster</b>. Convertissez ensuite la grille en **SpatialPixelsDataFrame** puis spécifiez le CRS : <code>+proj=merc +nodefs</code>."
   ]
  },
  {
   "cell_type": "code",
   "execution_count": 73,
   "metadata": {},
   "outputs": [],
   "source": []
  },
  {
   "cell_type": "markdown",
   "metadata": {},
   "source": [
    "- Convertissez le dataframe robena également en un objet de la classe SpatialPointsDataFrame. Prenez exemple de ce qui est réalisé pour coalash ci-dessous. Menez l'interpolation par Pondération inverse à la distance des teneurs en cendres et sauvegardez le résultat sous forme d'une image au format GeoTiff"
   ]
  },
  {
   "cell_type": "code",
   "execution_count": 74,
   "metadata": {},
   "outputs": [],
   "source": [
    "%%R\n",
    "xy = coalash[,c('x', 'y')]\n",
    "coalash = SpatialPointsDataFrame(coords = xy, data = coalash,\n",
    "                               proj4string = CRS(\"+proj=merc +nodefs\"))"
   ]
  },
  {
   "cell_type": "code",
   "execution_count": 75,
   "metadata": {
    "jupyter": {
     "outputs_hidden": false,
     "source_hidden": true
    }
   },
   "outputs": [
    {
     "name": "stdout",
     "output_type": "stream",
     "text": [
      "# @info: Exécutez-moi pour avoir accès aux interactions\n"
     ]
    }
   ],
   "source": [
    "\n",
    "%%display_prompt --title=none --prompt 536920766f757320c3aa74726520626c6f7175c3a92865292c20616666696368657a20756e6520736f6c7574696f6e20656e207072657373616e7420737572206c6520626f75746f6e2063692d646573736f7573 --answer 3c636f64653e252552202d6920726f62656e61202d6f20696d6167655f66696c653c62723e0a20203c62723e0a7879203d20726f62656e615b2c63282778272c20277927295d3c62723e0a726f62656e61203d205370617469616c506f696e7473446174614672616d6528636f6f726473203d2078792c2064617461203d20726f62656e612c3c62723e0a2020202020202020202020202020202020202020202020202020202020202070726f6a34737472696e67203d2043525328222b70726f6a3d6d657263202b6e6f646566732229293c62723e0a726f62656e612e696477203c2d206b7269676528636f616c6173687e312c20726f62656e612c20726f62656e612e67726964293c62723e0a696d6167655f66696c65203c2d20272e2f726f62656e615f6964772e746966273c62723e0a777269746552617374657228617328726f62656e612e6964772c20225261737465724c6179657222292c20696d6167655f66696c652c206f76657277726974653d54525545293c2f636f64653e\n",
    "# @info: Exécutez-moi pour avoir accès aux interactions"
   ]
  },
  {
   "cell_type": "code",
   "execution_count": null,
   "metadata": {},
   "outputs": [],
   "source": []
  },
  {
   "cell_type": "code",
   "execution_count": null,
   "metadata": {
    "jupyter": {
     "outputs_hidden": false,
     "source_hidden": true
    }
   },
   "outputs": [
    {
     "name": "stdout",
     "output_type": "stream",
     "text": [
      "[inverse distance weighted interpolation]\n"
     ]
    }
   ],
   "source": [
    "# Résultat attendu ci-dessous..."
   ]
  },
  {
   "cell_type": "code",
   "execution_count": 76,
   "metadata": {
    "scrolled": true
   },
   "outputs": [
    {
     "name": "stdout",
     "output_type": "stream",
     "text": [
      "File: /tmp/RtmpOdXL8n/Rtxt6fb31182ca22\n",
      "krige                  package:gstat                   R Documentation\n",
      "\n",
      "\n",
      "\n",
      "Simple, Ordinary or Universal, global or local, Point or Block Kriging,\n",
      "\n",
      "or simulation.\n",
      "\n",
      "\n",
      "\n",
      "Description:\n",
      "\n",
      "\n",
      "\n",
      "     Function for simple, ordinary or universal kriging (sometimes\n",
      "\n",
      "     called external drift kriging), kriging in a local neighbourhood,\n",
      "\n",
      "     point kriging or kriging of block mean values (rectangular or\n",
      "\n",
      "     irregular blocks), and conditional (Gaussian or indicator)\n",
      "\n",
      "     simulation equivalents for all kriging varieties, and function for\n",
      "\n",
      "     inverse distance weighted interpolation.  For multivariable\n",
      "\n",
      "     prediction, see gstat and predict\n",
      "\n",
      "\n",
      "\n",
      "Usage:\n",
      "\n",
      "\n",
      "\n",
      "     krige(formula, locations, ...)\n",
      "\n",
      "     krige.locations(formula, locations, data, newdata, model, ..., beta, nmax\n",
      "\n",
      "     = Inf, nmin = 0, omax = 0, maxdist = Inf, block, nsim = 0, indicators = FALSE,\n",
      "\n",
      "     na.action = na.pass, debug.level = 1)\n",
      "\n",
      "     krige.spatial(formula, locations, newdata, model, ..., beta, nmax\n",
      "\n",
      "     = Inf, nmin = 0, omax = 0, maxdist = Inf, block, nsim = 0, indicators = FALSE,\n",
      "\n",
      "     na.action = na.pass, debug.level = 1)\n",
      "\n",
      "     krige0(formula, data, newdata, model, beta, y, ..., computeVar = FALSE,\n",
      "\n",
      "             fullCovariance = FALSE)\n",
      "\n",
      "     idw(formula, locations, ...)\n",
      "\n",
      "     idw.locations(formula, locations, data, newdata, nmax = Inf, \n",
      "\n",
      "             nmin = 0, omax = 0, maxdist = Inf, block, na.action = na.pass, idp = 2.0,\n",
      "\n",
      "             debug.level = 1)\n",
      "\n",
      "     idw.spatial(formula, locations, newdata, nmax = Inf, nmin = 0, \n",
      "\n",
      "         omax = 0, maxdist = Inf, block = numeric(0), na.action = na.pass, idp = 2.0,\n",
      "\n",
      "             debug.level = 1)\n",
      "\n",
      "     idw0(formula, data, newdata, y, idp = 2.0)\n",
      "\n",
      "     \n",
      "\n",
      "Arguments:\n",
      "\n",
      "\n",
      "\n",
      " formula: formula that defines the dependent variable as a linear model\n",
      "\n",
      "          of independent variables; suppose the dependent variable has\n",
      "\n",
      "          name ‘z’, for ordinary and simple kriging use the formula\n",
      "\n",
      "          ‘z~1’; for simple kriging also define ‘beta’ (see below); for\n",
      "\n",
      "          universal kriging, suppose ‘z’ is linearly dependent on ‘x’\n",
      "\n",
      "          and ‘y’, use the formula ‘z~x+y’\n",
      "\n",
      "\n",
      "\n",
      "locations: object of class ‘Spatial’ or ‘sf’, or (deprecated) formula\n",
      "\n",
      "          defines the spatial data locations (coordinates) such as\n",
      "\n",
      "          ‘~x+y’\n",
      "\n",
      "\n",
      "\n",
      "    data: data frame: should contain the dependent variable,\n",
      "\n",
      "          independent variables, and coordinates, should be missing if\n",
      "\n",
      "          locations contains data.\n",
      "\n",
      "\n",
      "\n",
      " newdata: object of class ‘Spatial’, ‘sf’ or ‘stars’ with\n",
      "\n",
      "          prediction/simulation locations; should contain attributes\n",
      "\n",
      "          with the independent variables (if present).\n",
      "\n",
      "\n",
      "\n",
      "   model: variogram model of dependent variable (or its residuals),\n",
      "\n",
      "          defined by a call to vgm or fit.variogram; for ‘krige0’ also\n",
      "\n",
      "          a user-supplied covariance function is allowed (see example\n",
      "\n",
      "          below)\n",
      "\n",
      "\n",
      "\n",
      "    beta: for simple kriging (and simulation based on simple kriging):\n",
      "\n",
      "          vector with the trend coefficients (including intercept); if\n",
      "\n",
      "          no independent variables are defined the model only contains\n",
      "\n",
      "          an intercept and beta should be the simple kriging mean\n",
      "\n",
      "\n",
      "\n",
      "    nmax: for local kriging: the number of nearest observations that\n",
      "\n",
      "          should be used for a kriging prediction or simulation, where\n",
      "\n",
      "          nearest is defined in terms of the space of the spatial\n",
      "\n",
      "          locations. By default, all observations are used\n",
      "\n",
      "\n",
      "\n",
      "    nmin: for local kriging: if the number of nearest observations\n",
      "\n",
      "          within distance ‘maxdist’ is less than ‘nmin’, a missing\n",
      "\n",
      "          value will be generated; see maxdist\n",
      "\n",
      "\n",
      "\n",
      "    omax: see gstat\n",
      "\n",
      "\n",
      "\n",
      " maxdist: for local kriging: only observations within a distance of\n",
      "\n",
      "          ‘maxdist’ from the prediction location are used for\n",
      "\n",
      "          prediction or simulation; if combined with ‘nmax’, both\n",
      "\n",
      "          criteria apply\n",
      "\n",
      "\n",
      "\n",
      "   block: block size; a vector with 1, 2 or 3 values containing the\n",
      "\n",
      "          size of a rectangular in x-, y- and z-dimension respectively\n",
      "\n",
      "          (0 if not set), or a data frame with 1, 2 or 3 columns,\n",
      "\n",
      "          containing the points that discretize the block in the x-, y-\n",
      "\n",
      "          and z-dimension to define irregular blocks relative to (0,0)\n",
      "\n",
      "          or (0,0,0)-see also the details section of predict. By\n",
      "\n",
      "          default, predictions or simulations refer to the support of\n",
      "\n",
      "          the data values.\n",
      "\n",
      "\n",
      "\n",
      "    nsim: integer; if set to a non-zero value, conditional simulation\n",
      "\n",
      "          is used instead of kriging interpolation. For this,\n",
      "\n",
      "          sequential Gaussian or indicator simulation is used\n",
      "\n",
      "          (depending on the value of ‘indicators’), following a single\n",
      "\n",
      "          random path through the data.\n",
      "\n",
      "\n",
      "\n",
      "indicators: logical, only relevant if ‘nsim’ is non-zero; if TRUE, use\n",
      "\n",
      "          indicator simulation; else use Gaussian simulation\n",
      "\n",
      "\n",
      "\n",
      "na.action: function determining what should be done with missing values\n",
      "\n",
      "          in 'newdata'.  The default is to predict 'NA'.  Missing\n",
      "\n",
      "          values in coordinates and predictors are both dealt with.\n",
      "\n",
      "\n",
      "\n",
      "debug.level: debug level, passed to predict; use -1 to see progress in\n",
      "\n",
      "          percentage, and 0 to suppress all printed information\n",
      "\n",
      "\n",
      "\n",
      "     ...: for krige: arguments that will be passed to gstat; for\n",
      "\n",
      "          ‘krige0’: arguments that will be passe to ‘model’\n",
      "\n",
      "\n",
      "\n",
      "     idp: numeric; specify the inverse distance weighting power\n",
      "\n",
      "\n",
      "\n",
      "       y: matrix; to krige multiple fields in a single step, pass data\n",
      "\n",
      "          as columns of matrix ‘y’. This will ignore the value of the\n",
      "\n",
      "          response in ‘formula’.\n",
      "\n",
      "\n",
      "\n",
      "computeVar: logical; if TRUE, prediction variances will be returned\n",
      "\n",
      "\n",
      "\n",
      "fullCovariance: logical; if FALSE a vector with prediction variances\n",
      "\n",
      "          will be returned, if TRUE the full covariance matrix of all\n",
      "\n",
      "          predictions will be returned\n",
      "\n",
      "\n",
      "\n",
      "Details:\n",
      "\n",
      "\n",
      "\n",
      "     Function ‘krige’ is a simple wrapper method around gstat and\n",
      "\n",
      "     predict for univariate kriging prediction and conditional\n",
      "\n",
      "     simulation methods available in gstat. For multivariate prediction\n",
      "\n",
      "     or simulation, or for other interpolation methods provided by\n",
      "\n",
      "     gstat (such as inverse distance weighted interpolation or trend\n",
      "\n",
      "     surface interpolation) use the functions gstat and predict\n",
      "\n",
      "     directly.\n",
      "\n",
      "\n",
      "\n",
      "     Function ‘idw’ performs just as ‘krige’ without a model being\n",
      "\n",
      "     passed, but allows direct specification of the inverse distance\n",
      "\n",
      "     weighting power. Don't use with predictors in the formula.\n",
      "\n",
      "\n",
      "\n",
      "     For further details, see predict.\n",
      "\n",
      "\n",
      "\n",
      "Value:\n",
      "\n",
      "\n",
      "\n",
      "     if ‘locations’ is not a formula, object of the same class as\n",
      "\n",
      "     ‘newdata’ (deriving from ‘Spatial’); else a data frame containing\n",
      "\n",
      "     the coordinates of ‘newdata’. Attributes columns contain\n",
      "\n",
      "     prediction and prediction variance (in case of kriging) or the\n",
      "\n",
      "     ‘abs(nsim)’ columns of the conditional Gaussian or indicator\n",
      "\n",
      "     simulations\n",
      "\n",
      "\n",
      "\n",
      "     ‘krige0’ and ‘idw0’ are alternative functions with reduced\n",
      "\n",
      "     functionality and larger memory requirements; they return numeric\n",
      "\n",
      "     vectors (or matrices, in case of multiple dependent) with\n",
      "\n",
      "     predicted values only; in case ‘computeVar’ is TRUE, a list with\n",
      "\n",
      "     elements ‘pred’ and ‘var’ is returned, containing predictions, and\n",
      "\n",
      "     (co)variances (depending on argument ‘fullCovariance’).\n",
      "\n",
      "\n",
      "\n",
      "Methods:\n",
      "\n",
      "\n",
      "\n",
      "     formula = \"formula\", locations = \"formula\" locations specifies\n",
      "\n",
      "          which coordinates in ‘data’ refer to spatial coordinates\n",
      "\n",
      "\n",
      "\n",
      "     formula = \"formula\", locations = \"Spatial\" Object locations knows\n",
      "\n",
      "          about its own spatial locations\n",
      "\n",
      "\n",
      "\n",
      "     formula = \"formula\", locations = \"NULL\" used in case of\n",
      "\n",
      "          unconditional simulations; newdata needs to be of class\n",
      "\n",
      "          Spatial\n",
      "\n",
      "\n",
      "\n",
      "Note:\n",
      "\n",
      "\n",
      "\n",
      "     Daniel G. Krige is a South African scientist who was a mining\n",
      "\n",
      "     engineer when he first used generalised least squares prediction\n",
      "\n",
      "     with spatial covariances in the 50's. George Matheron coined the\n",
      "\n",
      "     term ‘kriging’ in the 60's for the action of doing this, although\n",
      "\n",
      "     very similar approaches had been taken in the field of\n",
      "\n",
      "     meteorology. Beside being Krige's name, I consider \"krige\" to be\n",
      "\n",
      "     to \"kriging\" what \"predict\" is to \"prediction\".\n",
      "\n",
      "\n",
      "\n",
      "Author(s):\n",
      "\n",
      "\n",
      "\n",
      "     Edzer Pebesma\n",
      "\n",
      "\n",
      "\n",
      "References:\n",
      "\n",
      "\n",
      "\n",
      "     N.A.C. Cressie, 1993, Statistics for Spatial Data, Wiley.\n",
      "\n",
      "\n",
      "\n",
      "     <URL: http://www.gstat.org/>\n",
      "\n",
      "\n",
      "\n",
      "     Pebesma, E.J., 2004. Multivariable geostatistics in S: the gstat\n",
      "\n",
      "     package. Computers and Geosciences, 30: 683-691.\n",
      "\n",
      "\n",
      "\n",
      "See Also:\n",
      "\n",
      "\n",
      "\n",
      "     gstat, predict\n",
      "\n",
      "\n",
      "\n",
      "Examples:\n",
      "\n",
      "\n",
      "\n",
      "     library(sp)\n",
      "\n",
      "     data(meuse)\n",
      "\n",
      "     coordinates(meuse) = ~x+y\n",
      "\n",
      "     data(meuse.grid)\n",
      "\n",
      "     gridded(meuse.grid) = ~x+y\n",
      "\n",
      "     m <- vgm(.59, \"Sph\", 874, .04)\n",
      "\n",
      "     # ordinary kriging:\n",
      "\n",
      "     x <- krige(log(zinc)~1, meuse, meuse.grid, model = m)\n",
      "\n",
      "     spplot(x[\"var1.pred\"], main = \"ordinary kriging predictions\")\n",
      "\n",
      "     spplot(x[\"var1.var\"],  main = \"ordinary kriging variance\")\n",
      "\n",
      "     # simple kriging:\n",
      "\n",
      "     x <- krige(log(zinc)~1, meuse, meuse.grid, model = m, beta = 5.9)\n",
      "\n",
      "     # residual variogram:\n",
      "\n",
      "     m <- vgm(.4, \"Sph\", 954, .06)\n",
      "\n",
      "     # universal block kriging:\n",
      "\n",
      "     x <- krige(log(zinc)~x+y, meuse, meuse.grid, model = m, block = c(40,40))\n",
      "\n",
      "     spplot(x[\"var1.pred\"], main = \"universal kriging predictions\")\n",
      "\n",
      "     \n",
      "\n",
      "     # krige0, using user-defined covariance function and multiple responses in y:\n",
      "\n",
      "     # exponential variogram with range 500, defined as covariance function:\n",
      "\n",
      "     v = function(x, y = x) { exp(-spDists(coordinates(x),coordinates(y))/500) }\n",
      "\n",
      "     # krige two variables in a single pass (using 1 covariance model):\n",
      "\n",
      "     y = cbind(meuse$zinc,meuse$copper,meuse$lead,meuse$cadmium)\n",
      "\n",
      "     x <- krige0(zinc~1, meuse, meuse.grid, v, y = y)\n",
      "\n",
      "     meuse.grid$zinc = x[,1]\n",
      "\n",
      "     spplot(meuse.grid[\"zinc\"], main = \"zinc\")\n",
      "\n",
      "     meuse.grid$copper = x[,2]\n",
      "\n",
      "     spplot(meuse.grid[\"copper\"], main = \"copper\")\n",
      "\n",
      "     \n",
      "\n",
      "     # the following has NOTHING to do with kriging, but --\n",
      "\n",
      "     # return the median of the nearest 11 observations:\n",
      "\n",
      "     x = krige(zinc~1, meuse, meuse.grid, set = list(method = \"med\"), nmax = 11)\n",
      "\n",
      "     # get 25%- and 75%-percentiles of nearest 11 obs, as prediction and variance:\n",
      "\n",
      "     x = krige(zinc~1, meuse, meuse.grid, nmax = 11, \n",
      "\n",
      "             set = list(method = \"med\", quantile = 0.25))\n",
      "\n",
      "     # get diversity (# of different values) and mode from 11 nearest observations:\n",
      "\n",
      "     x = krige(zinc~1, meuse, meuse.grid, nmax = 11, set = list(method = \"div\"))\n",
      "\n",
      "     \n",
      "\n",
      "---\n"
     ]
    }
   ],
   "source": [
    "%%R\n",
    "help(krige)"
   ]
  },
  {
   "cell_type": "markdown",
   "metadata": {},
   "source": [
    "<div class=\"alert alert-block alert-success\">\n",
    "\t<img align=\"right\" src=\"./Image_file/logo-Python3-64x64.png\" width=\"24\"/>\t<b>4.2 Afficher le résultat de l'interpolation par l'inverse de la distance</b>\n",
    "</div>"
   ]
  },
  {
   "cell_type": "markdown",
   "metadata": {},
   "source": [
    "- Voici une fonction **plot_interpolation_results** pour afficher les résultats sous forme de carte en y superposant les points d'échantillonnage"
   ]
  },
  {
   "cell_type": "code",
   "execution_count": 77,
   "metadata": {},
   "outputs": [],
   "source": [
    "def plot_interpolation_results(image_file, gdf, **kwargs):\n",
    "    cmap = kwargs.pop('cmap', 'hsv')\n",
    "    title = kwargs.pop('title', '')\n",
    "    fig, ax = plt.subplots(figsize=(8,8))\n",
    "    ax.set_title(title, fontsize= 20)\n",
    "    with rio.open(image_file, 'r') as out:\n",
    "        spatial_extent = [out.bounds.left, out.bounds.right, out.bounds.bottom, out.bounds.top]\n",
    "        data = out.read(1, masked=True)\n",
    "    im = ax.imshow(data, cmap=cmap, extent=spatial_extent, **kwargs)\n",
    "    gdf.plot(ax=ax, marker='x', color='grey')\n",
    "    fig.colorbar(im)"
   ]
  },
  {
   "cell_type": "markdown",
   "metadata": {},
   "source": [
    "- Affichez la carte des teneurs en cendres interpolées"
   ]
  },
  {
   "cell_type": "code",
   "execution_count": null,
   "metadata": {},
   "outputs": [],
   "source": []
  },
  {
   "cell_type": "code",
   "execution_count": null,
   "metadata": {},
   "outputs": [
    {
     "data": {
      "image/png": "[encoded data removed]",
      "text/plain": [
       "<Figure size 800x800 with 2 Axes>"
      ]
     },
     "metadata": {},
     "output_type": "display_data"
    }
   ],
   "source": [
    "# Résultat attendu ci-dessous..."
   ]
  },
  {
   "cell_type": "markdown",
   "metadata": {},
   "source": [
    "***\n",
    "<div class=\"alert alert-block alert-danger\" align=\"center\">\n",
    "    <b>FIN DE LA QUATRIEME SEANCE</b>\n",
    "</div>"
   ]
  }
 ],
 "metadata": {
  "kernelspec": {
   "display_name": "Python 3 (ipykernel)",
   "language": "python",
   "name": "python3"
  },
  "language_info": {
   "codemirror_mode": {
    "name": "ipython",
    "version": 3
   },
   "file_extension": ".py",
   "mimetype": "text/x-python",
   "name": "python",
   "nbconvert_exporter": "python",
   "pygments_lexer": "ipython3",
   "version": "3.8.10"
  }
 },
 "nbformat": 4,
 "nbformat_minor": 4
}
